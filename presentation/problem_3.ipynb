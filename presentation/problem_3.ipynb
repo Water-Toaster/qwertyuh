{
 "cells": [
  {
   "cell_type": "markdown",
   "metadata": {},
   "source": [
    "# Instructions\n",
    "\n",
    "Below you will a snippet of code that may contain bad coding practices and/or logical or other types of Errors. \n",
    "\n",
    "Your tasks are as follows:\n",
    "\n",
    "    a) Read the code carefully and try to understand what it does, line-by-line.\n",
    "\n",
    "    b) Identify any potential errors in the code. Note, don't change the original code snippet! \n",
    "    Instead, add suitable comments adjacent to where any potential sources of error are found.\n",
    "\n",
    "    c) In a new cell, write a corrected version of the code. Try to make it so that the code\n",
    "    works without changing the given input. You could e.g., try adding some Try/Except blocks in the function.\n",
    "\n",
    "    d) Prepare to present to to your peers. You will show your original code and explain what the function does and\n",
    "    what errors you've found. Then you will show your corrected code and explain how you've corrected the errors.\n",
    "    Be prepared to answer any questions your peers may have.\n",
    "\n",
    "*When discussing with your group, they are allowed to chip in and help out, if there are any unresolved issues! This is teamwork y'all.*\n",
    "\n",
    "    e) Together with your group, discuss if there are any further improvements that could be made to your corrected code, and if so, implement them."
   ]
  },
  {
   "cell_type": "markdown",
   "metadata": {},
   "source": [
    "**The snippet of code**\n",
    "\n",
    "You can add comments to this code, but don't change the actual code."
   ]
  },
  {
   "cell_type": "code",
   "execution_count": 8,
   "metadata": {},
   "outputs": [],
   "source": [
    "def convert_temps(temp_data):\n",
    "    \"\"\"\n",
    "    This function takes a list of tuples, where each tuple contains a city name (string)\n",
    "    and a temperature in Celsius (float or int). It converts the temperature to Fahrenheit \n",
    "    and returns a dictionary with the city name as the key and the converted temperature as the value.\n",
    "    \"\"\"\n",
    "\n",
    "    converted = {city: (temp_data * 9/5) + 32 for city in temp_data}\n",
    "    \n",
    "    return converted"
   ]
  },
  {
   "cell_type": "code",
   "execution_count": null,
   "metadata": {},
   "outputs": [],
   "source": [
    "city_temperatures = [(\"New York\", 22), (\"Los Angeles\", 28), (\"London\", 18), (\"Tokyo\", 30)]  \n",
    "\n",
    "converted_temperatures = convert_temps(city_temperatures)\n",
    "print(\"Converted Temperatures (Fahrenheit):\", converted_temperatures)"
   ]
  },
  {
   "cell_type": "markdown",
   "metadata": {},
   "source": [
    "**The corrected version of the code**\n",
    "\n",
    "Below you can write your corrected version of the code, that idealy also can handle the given input."
   ]
  },
  {
   "cell_type": "markdown",
   "metadata": {},
   "source": []
  }
 ],
 "metadata": {
  "kernelspec": {
   "display_name": "introduktion",
   "language": "python",
   "name": "python3"
  },
  "language_info": {
   "codemirror_mode": {
    "name": "ipython",
    "version": 3
   },
   "file_extension": ".py",
   "mimetype": "text/x-python",
   "name": "python",
   "nbconvert_exporter": "python",
   "pygments_lexer": "ipython3",
   "version": "3.12.4"
  }
 },
 "nbformat": 4,
 "nbformat_minor": 2
}
