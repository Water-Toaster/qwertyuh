{
 "cells": [
  {
   "cell_type": "markdown",
   "metadata": {},
   "source": [
    "# Instructions\n",
    "\n",
    "Below you will a snippet of code that may contain bad coding practices and/or logical or other types of Errors. \n",
    "\n",
    "Your tasks are as follows:\n",
    "\n",
    "    a) Read the code carefully and try to understand what it does, line-by-line.\n",
    "\n",
    "    b) Identify any potential errors in the code. Note, don't change the original code snippet! \n",
    "    Instead, add suitable comments adjacent to where any potential sources of error are found.\n",
    "\n",
    "    c) In a new cell, write a corrected version of the code. Try to make it so that the code\n",
    "    works without changing the given input. You could e.g., try adding some Try/Except blocks in the function.\n",
    "\n",
    "    d) Prepare to present to to your peers. You will show your original code and explain what the function does and\n",
    "    what errors you've found. Then you will show your corrected code and explain how you've corrected the errors.\n",
    "\n",
    "*When discussing with your group, they are allowed to chip in and help out, if there are any unresolved issues! This is teamwork y'all.*"
   ]
  },
  {
   "cell_type": "markdown",
   "metadata": {},
   "source": [
    "**The snippet of code**\n",
    "\n",
    "You can add comments to this code, but don't change the actual code."
   ]
  },
  {
   "cell_type": "code",
   "execution_count": null,
   "metadata": {},
   "outputs": [],
   "source": [
    "def find_passing_students(students_grades, passing_grade):\n",
    "    \"\"\"\n",
    "    This function takes a dictionary of students' names and their grades (a list of integers),\n",
    "    and returns a list of names of students who have an average grade above the passing grade.\n",
    "    \"\"\"\n",
    "    \n",
    "    passing_students = []\n",
    "    \n",
    "    for student, grades in students_grades.items():\n",
    "        total = sum(grades)\n",
    "        average = total / len(student)\n",
    "        \n",
    "        if average >= passing_grade:\n",
    "            passing_students.append(student)\n",
    "    \n",
    "    return passing_students"
   ]
  },
  {
   "cell_type": "code",
   "execution_count": null,
   "metadata": {},
   "outputs": [],
   "source": [
    "student_grades = {\"Alice\": [85, 90, 88],\n",
    "                  \"Bob\": [55, 60, 58],\n",
    "                  \"Charlie\": [90, 92, 91],\n",
    "                  \"David\": [65, \"seventy\", 50]}\n",
    "\n",
    "passing_grade = 60\n",
    "passing_students = find_passing_students(student_grades, passing_grade)\n",
    "print(\"Passing Students: \", passing_students)"
   ]
  },
  {
   "cell_type": "markdown",
   "metadata": {},
   "source": [
    "**The corrected version of the code**\n",
    "\n",
    "Below you can write your corrected version of the code, that idealy also can handle the given input."
   ]
  },
  {
   "cell_type": "markdown",
   "metadata": {},
   "source": []
  }
 ],
 "metadata": {
  "kernelspec": {
   "display_name": "introduktion",
   "language": "python",
   "name": "python3"
  },
  "language_info": {
   "name": "python",
   "version": "3.12.4"
  }
 },
 "nbformat": 4,
 "nbformat_minor": 2
}
