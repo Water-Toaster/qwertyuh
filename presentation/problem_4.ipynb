{
 "cells": [
  {
   "cell_type": "markdown",
   "metadata": {},
   "source": [
    "# Instructions\n",
    "\n",
    "Below you will a snippet of code that may contain bad coding practices and/or logical or other types of Errors. \n",
    "\n",
    "Your tasks are as follows:\n",
    "\n",
    "    a) Read the code carefully and try to understand what it does, line-by-line.\n",
    "\n",
    "    b) Identify any potential errors in the code. Note, don't change the original code snippet! \n",
    "    Instead, add suitable comments adjacent to where any potential sources of error are found.\n",
    "\n",
    "    c) In a new cell, write a corrected version of the code. Try to make it so that the code\n",
    "    works without changing the given input. You could e.g., try adding some Try/Except blocks in the functions.\n",
    "\n",
    "    d) Prepare to present to to your peers. You will show your original code and explain what the function does and\n",
    "    what errors you've found. Then you will show your corrected code and explain how you've corrected the errors.\n",
    "\n",
    "*When discussing with your group, they are allowed to chip in and help out, if there are any unresolved issues! This is teamwork y'all.*"
   ]
  },
  {
   "cell_type": "markdown",
   "metadata": {},
   "source": [
    "**The snippet of code**\n",
    "\n",
    "You can add comments to this code, but don't change the actual code."
   ]
  },
  {
   "cell_type": "code",
   "execution_count": 3,
   "metadata": {},
   "outputs": [],
   "source": [
    "def longest_word(apa):\n",
    "    \"\"\"\n",
    "    This function takes a list of words and returns the longest word in the list.\n",
    "    \"\"\"\n",
    "    longest = \"\"\n",
    "    \n",
    "    for mapa in apa:\n",
    "        if len(longest) > len(mapa):\n",
    "            longest = mapa\n",
    "    \n",
    "    return longest"
   ]
  },
  {
   "cell_type": "code",
   "execution_count": null,
   "metadata": {},
   "outputs": [],
   "source": [
    "# Call the function and print the result\n",
    "words = [\"apple\", \"banana\", \"cherry\", \"blueberry\"]\n",
    "longest = longest_word(words)\n",
    "print(\"Longest word:\", longest)"
   ]
  },
  {
   "cell_type": "markdown",
   "metadata": {},
   "source": [
    "**The corrected version of the code**\n",
    "\n",
    "Below you can write your corrected version of the code, that idealy also can handle the given input."
   ]
  },
  {
   "cell_type": "markdown",
   "metadata": {},
   "source": []
  }
 ],
 "metadata": {
  "kernelspec": {
   "display_name": "introduktion",
   "language": "python",
   "name": "python3"
  },
  "language_info": {
   "codemirror_mode": {
    "name": "ipython",
    "version": 3
   },
   "file_extension": ".py",
   "mimetype": "text/x-python",
   "name": "python",
   "nbconvert_exporter": "python",
   "pygments_lexer": "ipython3",
   "version": "3.12.4"
  }
 },
 "nbformat": 4,
 "nbformat_minor": 2
}
