{
 "cells": [
  {
   "cell_type": "markdown",
   "metadata": {},
   "source": [
    "# 1"
   ]
  },
  {
   "cell_type": "code",
   "execution_count": 6,
   "metadata": {},
   "outputs": [],
   "source": [
    "def find_passing_students(students_grades, passing_grade):\n",
    "    \"\"\"\n",
    "    This function takes a dictionary of students' names and their grades (a list of integers),\n",
    "    and returns a list of names of students who have an average grade above the passing grade.\n",
    "    \"\"\"\n",
    "    \n",
    "    passing_students = []\n",
    "    \n",
    "    for student, grades in students_grades.items():\n",
    "        total = sum(grades)\n",
    "        average = total / len(student)  # Error: len() should be used on grades, not student\n",
    "        \n",
    "        if average >= passing_grade:\n",
    "            passing_students.append(student)\n",
    "    \n",
    "    return passing_students"
   ]
  },
  {
   "cell_type": "code",
   "execution_count": 8,
   "metadata": {},
   "outputs": [
    {
     "ename": "TypeError",
     "evalue": "unsupported operand type(s) for +: 'int' and 'str'",
     "output_type": "error",
     "traceback": [
      "\u001b[1;31m---------------------------------------------------------------------------\u001b[0m",
      "\u001b[1;31mTypeError\u001b[0m                                 Traceback (most recent call last)",
      "Cell \u001b[1;32mIn[8], line 11\u001b[0m\n\u001b[0;32m      9\u001b[0m \u001b[38;5;66;03m# Call the function and print the result\u001b[39;00m\n\u001b[0;32m     10\u001b[0m passing_grade \u001b[38;5;241m=\u001b[39m \u001b[38;5;241m60\u001b[39m\n\u001b[1;32m---> 11\u001b[0m passing_students \u001b[38;5;241m=\u001b[39m find_passing_students(student_grades, passing_grade)\n\u001b[0;32m     12\u001b[0m \u001b[38;5;28mprint\u001b[39m(\u001b[38;5;124m\"\u001b[39m\u001b[38;5;124mPassing Students: \u001b[39m\u001b[38;5;124m\"\u001b[39m, passing_students)\n",
      "Cell \u001b[1;32mIn[6], line 10\u001b[0m, in \u001b[0;36mfind_passing_students\u001b[1;34m(students_grades, passing_grade)\u001b[0m\n\u001b[0;32m      7\u001b[0m passing_students \u001b[38;5;241m=\u001b[39m []\n\u001b[0;32m      9\u001b[0m \u001b[38;5;28;01mfor\u001b[39;00m student, grades \u001b[38;5;129;01min\u001b[39;00m students_grades\u001b[38;5;241m.\u001b[39mitems():\n\u001b[1;32m---> 10\u001b[0m     total \u001b[38;5;241m=\u001b[39m \u001b[38;5;28msum\u001b[39m(grades)\n\u001b[0;32m     11\u001b[0m     average \u001b[38;5;241m=\u001b[39m total \u001b[38;5;241m/\u001b[39m \u001b[38;5;28mlen\u001b[39m(student)  \u001b[38;5;66;03m# Error: len() should be used on grades, not student\u001b[39;00m\n\u001b[0;32m     13\u001b[0m     \u001b[38;5;28;01mif\u001b[39;00m average \u001b[38;5;241m>\u001b[39m\u001b[38;5;241m=\u001b[39m passing_grade:\n",
      "\u001b[1;31mTypeError\u001b[0m: unsupported operand type(s) for +: 'int' and 'str'"
     ]
    }
   ],
   "source": [
    "# Student grades data\n",
    "student_grades = {\n",
    "    \"Alice\": [85, 90, 88],\n",
    "    \"Bob\": [55, 60, 58],\n",
    "    \"Charlie\": [90, 92, 91],\n",
    "    \"David\": [65, \"seventy\", 50]  # Error: \"seventy\" is a string, not an integer\n",
    "}\n",
    "\n",
    "# Call the function and print the result\n",
    "passing_grade = 60\n",
    "passing_students = find_passing_students(student_grades, passing_grade)\n",
    "print(\"Passing Students: \", passing_students)"
   ]
  },
  {
   "cell_type": "markdown",
   "metadata": {},
   "source": [
    "# 2"
   ]
  },
  {
   "cell_type": "code",
   "execution_count": 11,
   "metadata": {},
   "outputs": [],
   "source": [
    "def count_vowels_in_names(names_list):\n",
    "    \n",
    "    \"\"\"\n",
    "    This function takes a list of names (strings) and returns a dictionary\n",
    "    with each name and the count of vowels (a, e, i, o, u) in that name.\n",
    "    \"\"\"\n",
    "\n",
    "    vowels = 'aeiou'\n",
    "    vowel_count = {}\n",
    "    \n",
    "    for name in names_list:\n",
    "            count = sum([1 for letter in name.lower() if letter in vowels])\n",
    "            vowel_count[name] = names_list # Error: should be count, not names_list\n",
    "\n",
    "    return vowel_count"
   ]
  },
  {
   "cell_type": "code",
   "execution_count": 10,
   "metadata": {},
   "outputs": [
    {
     "ename": "AttributeError",
     "evalue": "'int' object has no attribute 'lower'",
     "output_type": "error",
     "traceback": [
      "\u001b[1;31m---------------------------------------------------------------------------\u001b[0m",
      "\u001b[1;31mAttributeError\u001b[0m                            Traceback (most recent call last)",
      "Cell \u001b[1;32mIn[10], line 5\u001b[0m\n\u001b[0;32m      2\u001b[0m student_names \u001b[38;5;241m=\u001b[39m [\u001b[38;5;124m\"\u001b[39m\u001b[38;5;124mAlice\u001b[39m\u001b[38;5;124m\"\u001b[39m, \u001b[38;5;124m\"\u001b[39m\u001b[38;5;124mBob\u001b[39m\u001b[38;5;124m\"\u001b[39m, \u001b[38;5;241m123\u001b[39m, \u001b[38;5;124m\"\u001b[39m\u001b[38;5;124mDavid\u001b[39m\u001b[38;5;124m\"\u001b[39m, \u001b[38;5;124m\"\u001b[39m\u001b[38;5;124mEve\u001b[39m\u001b[38;5;124m\"\u001b[39m]  \u001b[38;5;66;03m# Error: 123 is an integer, not a string\u001b[39;00m\n\u001b[0;32m      4\u001b[0m \u001b[38;5;66;03m# Call the function and print the results\u001b[39;00m\n\u001b[1;32m----> 5\u001b[0m vowel_counts \u001b[38;5;241m=\u001b[39m count_vowels_in_names(student_names)\n\u001b[0;32m      6\u001b[0m \u001b[38;5;28mprint\u001b[39m(\u001b[38;5;124m\"\u001b[39m\u001b[38;5;124mVowel Counts: \u001b[39m\u001b[38;5;124m\"\u001b[39m, vowel_counts)\n",
      "Cell \u001b[1;32mIn[9], line 12\u001b[0m, in \u001b[0;36mcount_vowels_in_names\u001b[1;34m(names_list)\u001b[0m\n\u001b[0;32m      9\u001b[0m vowel_count \u001b[38;5;241m=\u001b[39m {}\n\u001b[0;32m     11\u001b[0m \u001b[38;5;28;01mfor\u001b[39;00m name \u001b[38;5;129;01min\u001b[39;00m names_list:\n\u001b[1;32m---> 12\u001b[0m         count \u001b[38;5;241m=\u001b[39m \u001b[38;5;28msum\u001b[39m([\u001b[38;5;241m1\u001b[39m \u001b[38;5;28;01mfor\u001b[39;00m letter \u001b[38;5;129;01min\u001b[39;00m name\u001b[38;5;241m.\u001b[39mlower() \u001b[38;5;28;01mif\u001b[39;00m letter \u001b[38;5;129;01min\u001b[39;00m vowels])\n\u001b[0;32m     13\u001b[0m         vowel_count[name] \u001b[38;5;241m=\u001b[39m count\n\u001b[0;32m     15\u001b[0m \u001b[38;5;28;01mreturn\u001b[39;00m vowel_count\n",
      "\u001b[1;31mAttributeError\u001b[0m: 'int' object has no attribute 'lower'"
     ]
    }
   ],
   "source": [
    "# List of student names\n",
    "student_names = [\"Alice\", \"Bob\", 123, \"David\", \"Eve\"]  # Error: 123 is an integer, not a string\n",
    "\n",
    "# Call the function and print the results\n",
    "vowel_counts = count_vowels_in_names(student_names)\n",
    "print(\"Vowel Counts: \", vowel_counts)"
   ]
  },
  {
   "cell_type": "markdown",
   "metadata": {},
   "source": [
    "# 3"
   ]
  },
  {
   "cell_type": "code",
   "execution_count": 13,
   "metadata": {},
   "outputs": [],
   "source": [
    "def convert_temps(temp_data):\n",
    "    \"\"\"\n",
    "    This function takes a list of tuples, where each tuple contains a city name (string)\n",
    "    and a temperature in Celsius (float or int). It converts the temperature to Fahrenheit \n",
    "    and returns a list of tuples with the city name and converted temperature.\n",
    "    \"\"\"\n",
    "\n",
    "    converted = [(city, (temp * 9/5) + 32) for city in temp_data] # Error: forgot to define temp in the loop\n",
    "    \n",
    "    return converted"
   ]
  },
  {
   "cell_type": "code",
   "execution_count": null,
   "metadata": {},
   "outputs": [],
   "source": [
    "# List of city temperatures (Celsius)\n",
    "city_temperatures = [(\"New York\", 22), (\"Los Angeles\", 28), (\"London\", \"eighteen\"), (\"Tokyo\", 30)]  \n",
    "# Error: \"London\" has temperature as a string, not an integer or float\n",
    "\n",
    "# Call the function and print the results\n",
    "converted_temperatures = convert_temps(city_temperatures)\n",
    "print(\"Converted Temperatures (Fahrenheit):\", converted_temperatures)"
   ]
  },
  {
   "cell_type": "markdown",
   "metadata": {},
   "source": [
    "# 4"
   ]
  },
  {
   "cell_type": "code",
   "execution_count": 22,
   "metadata": {},
   "outputs": [],
   "source": [
    "def longest_word(apa):\n",
    "    \"\"\"\n",
    "    This function takes a list of words and returns the longest word in the list.\n",
    "    \"\"\"\n",
    "    longest = \"\"\n",
    "    \n",
    "    for mapa in apa:\n",
    "        if len(longest) > len(mapa):  # Error: Should be len(word) > len(longest) to find the longest word\n",
    "            longest = mapa\n",
    "    \n",
    "    return longest"
   ]
  },
  {
   "cell_type": "code",
   "execution_count": 23,
   "metadata": {},
   "outputs": [
    {
     "name": "stdout",
     "output_type": "stream",
     "text": [
      "Longest word: \n"
     ]
    }
   ],
   "source": [
    "# Call the function and print the result\n",
    "words = [\"apple\", \"banana\", \"cherry\", \"blueberry\"]\n",
    "longest = longest_word(words)\n",
    "print(\"Longest word:\", longest)"
   ]
  },
  {
   "cell_type": "code",
   "execution_count": null,
   "metadata": {},
   "outputs": [],
   "source": []
  }
 ],
 "metadata": {
  "kernelspec": {
   "display_name": "introduktion",
   "language": "python",
   "name": "python3"
  },
  "language_info": {
   "codemirror_mode": {
    "name": "ipython",
    "version": 3
   },
   "file_extension": ".py",
   "mimetype": "text/x-python",
   "name": "python",
   "nbconvert_exporter": "python",
   "pygments_lexer": "ipython3",
   "version": "3.12.4"
  }
 },
 "nbformat": 4,
 "nbformat_minor": 2
}
