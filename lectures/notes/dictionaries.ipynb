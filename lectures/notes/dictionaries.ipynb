{
 "cells": [
  {
   "cell_type": "markdown",
   "metadata": {},
   "source": [
    "## Dictionaries"
   ]
  },
  {
   "cell_type": "markdown",
   "metadata": {},
   "source": [
    "Vi ska idag lära oss om strukturen / datatypen dictionary i Python. En dictionary är, precis som en lista, ett sätt att lagra information i."
   ]
  },
  {
   "cell_type": "code",
   "execution_count": 5,
   "metadata": {},
   "outputs": [
    {
     "data": {
      "text/plain": [
       "['mitt_första_element', 2, 3.14, True]"
      ]
     },
     "execution_count": 5,
     "metadata": {},
     "output_type": "execute_result"
    }
   ],
   "source": [
    "en_lista = ['mitt_första_element', 2, 3.14, True] # här är en lista\n",
    "\n",
    "en_lista"
   ]
  },
  {
   "cell_type": "code",
   "execution_count": 6,
   "metadata": {},
   "outputs": [
    {
     "name": "stdout",
     "output_type": "stream",
     "text": [
      "mitt_första_element\n"
     ]
    }
   ],
   "source": [
    "print(en_lista[0])   # 0 är indexet för det första elementet i listan, och vi får ut: mitt_första_element"
   ]
  },
  {
   "cell_type": "markdown",
   "metadata": {},
   "source": [
    "Vår första dictionary"
   ]
  },
  {
   "cell_type": "code",
   "execution_count": 13,
   "metadata": {},
   "outputs": [
    {
     "data": {
      "text/plain": [
       "{'namn': 'ali', 'adress': 'Norra Parkpromenaden 23, Täby', 'ålder': 34}"
      ]
     },
     "execution_count": 13,
     "metadata": {},
     "output_type": "execute_result"
    }
   ],
   "source": [
    "personlig_info = {'namn': 'ali', \n",
    "                  'adress': 'Norra Parkpromenaden 23, Täby', \n",
    "                  'ålder': 34}\n",
    "\n",
    "personlig_info"
   ]
  },
  {
   "cell_type": "code",
   "execution_count": 10,
   "metadata": {},
   "outputs": [
    {
     "name": "stdout",
     "output_type": "stream",
     "text": [
      "ali\n",
      "Norra Parkpromenaden 23\n"
     ]
    }
   ],
   "source": [
    "print(personlig_info['namn']) # här får vi ut värdet för 'namn'\n",
    "print(personlig_info['adress']) # här får vi ut värdet för 'adress'"
   ]
  },
  {
   "cell_type": "markdown",
   "metadata": {},
   "source": [
    "En Dictionary i Python består generellt sett av två saker\n",
    "\n",
    "**keys** & **values**\n",
    "\n",
    "Man säger att dessa nycklar och värden kommer i key-value pairs.\n",
    "\n",
    "Strukturen i en Dictionary är följande:\n",
    "\n",
    "min_dictionary = {key1: value1, key2: value2, ...,  keyN: valueN}"
   ]
  },
  {
   "cell_type": "markdown",
   "metadata": {},
   "source": [
    "I en Dictionary så kan man få ut ett visst värde genom att \"indexera\" på motsvarande nyckel"
   ]
  },
  {
   "cell_type": "markdown",
   "metadata": {},
   "source": [
    "Vill man således ha värdet som tillhör key2 skriver man\n",
    "\n",
    "min_dictionary[key2]"
   ]
  },
  {
   "cell_type": "markdown",
   "metadata": {},
   "source": [
    "___"
   ]
  },
  {
   "cell_type": "markdown",
   "metadata": {},
   "source": [
    "Dictionaries är flexibla och kan ta olika datatyper som värden"
   ]
  },
  {
   "cell_type": "code",
   "execution_count": 14,
   "metadata": {},
   "outputs": [],
   "source": [
    "mer_personlig_info = {'namn': 'ali', \n",
    "                      'adress': 'Norra Parkpromenaden 23, Täby', \n",
    "                      'ålder': 34, \n",
    "                      'favoritpokemon': ['Charmander', 'Charmeleon', 'Charizard']}"
   ]
  },
  {
   "cell_type": "code",
   "execution_count": 24,
   "metadata": {},
   "outputs": [
    {
     "data": {
      "text/plain": [
       "['Charmander', 'Charmeleon', 'Charizard']"
      ]
     },
     "execution_count": 24,
     "metadata": {},
     "output_type": "execute_result"
    }
   ],
   "source": [
    "mer_personlig_info['favoritpokemon']"
   ]
  },
  {
   "cell_type": "markdown",
   "metadata": {},
   "source": [
    "**Fler exempel**"
   ]
  },
  {
   "cell_type": "markdown",
   "metadata": {},
   "source": [
    "Säg att vi vill göra en informationsbok för elever i den här klassen"
   ]
  },
  {
   "cell_type": "code",
   "execution_count": 46,
   "metadata": {},
   "outputs": [],
   "source": [
    "elevbok = {'Olov O': {'Ålder': 43, \n",
    "                      'Favoritdryck': 'Bubbelvatten', \n",
    "                      'Intresse': 'Arduino', \n",
    "                      'Rekord äta upp en BigMac': None}, \n",
    "          'Julian W': {'Ålder': 24, \n",
    "                      'Favoritdryck': 'Pepsi Max', \n",
    "                      'Intresse': 'Läsa', \n",
    "                      'Rekord äta upp en BigMac': 2}}"
   ]
  },
  {
   "cell_type": "code",
   "execution_count": 38,
   "metadata": {},
   "outputs": [
    {
     "data": {
      "text/plain": [
       "{'Ålder': 24,\n",
       " 'Favoritdryck': 'Pepsi Max',\n",
       " 'Intresse': 'Läsa',\n",
       " 'Rekord äta upp en BigMac': 2}"
      ]
     },
     "execution_count": 38,
     "metadata": {},
     "output_type": "execute_result"
    }
   ],
   "source": [
    "elevbok['Julian W']"
   ]
  },
  {
   "cell_type": "code",
   "execution_count": 69,
   "metadata": {},
   "outputs": [
    {
     "data": {
      "text/plain": [
       "'Arduino'"
      ]
     },
     "execution_count": 69,
     "metadata": {},
     "output_type": "execute_result"
    }
   ],
   "source": [
    "elevbok['Olov O']['Intresse']"
   ]
  },
  {
   "cell_type": "markdown",
   "metadata": {},
   "source": [
    "**Att lägga till nya entries (dvs key-value pairs) i en Dictionary är busenkelt**"
   ]
  },
  {
   "cell_type": "code",
   "execution_count": 41,
   "metadata": {},
   "outputs": [
    {
     "data": {
      "text/plain": [
       "{'Olov O': {'Ålder': 43,\n",
       "  'Favoritdryck': 'Bubbelvatten',\n",
       "  'Intresse': 'Arduino',\n",
       "  'Rekord äta upp en BigMac': None},\n",
       " 'Julian W': {'Ålder': 24,\n",
       "  'Favoritdryck': 'Pepsi Max',\n",
       "  'Intresse': 'Läsa',\n",
       "  'Rekord äta upp en BigMac': 2}}"
      ]
     },
     "execution_count": 41,
     "metadata": {},
     "output_type": "execute_result"
    }
   ],
   "source": [
    "elevbok"
   ]
  },
  {
   "cell_type": "code",
   "execution_count": 47,
   "metadata": {},
   "outputs": [],
   "source": [
    "elevbok['Isak F'] = 'TBD'"
   ]
  },
  {
   "cell_type": "code",
   "execution_count": 44,
   "metadata": {},
   "outputs": [
    {
     "data": {
      "text/plain": [
       "{'Olov O': {'Ålder': 43,\n",
       "  'Favoritdryck': 'Bubbelvatten',\n",
       "  'Intresse': 'Arduino',\n",
       "  'Rekord äta upp en BigMac': None},\n",
       " 'Julian W': {'Ålder': 24,\n",
       "  'Favoritdryck': 'Pepsi Max',\n",
       "  'Intresse': 'Läsa',\n",
       "  'Rekord äta upp en BigMac': 2},\n",
       " 'Isak f': 'TBD'}"
      ]
     },
     "execution_count": 44,
     "metadata": {},
     "output_type": "execute_result"
    }
   ],
   "source": [
    "elevbok"
   ]
  },
  {
   "cell_type": "markdown",
   "metadata": {},
   "source": [
    "Vi kan enkelt överskriva beftinliga värden också"
   ]
  },
  {
   "cell_type": "code",
   "execution_count": 48,
   "metadata": {},
   "outputs": [],
   "source": [
    "elevbok['Isak F'] = {'Ålder': 26, \n",
    "                      'Favoritdryck': 'Fanta', \n",
    "                      'Intresse': 'League of Legends', \n",
    "                      'Rekord äta upp en BigMac': 0.5}"
   ]
  },
  {
   "cell_type": "code",
   "execution_count": 50,
   "metadata": {},
   "outputs": [
    {
     "data": {
      "text/plain": [
       "{'Ålder': 26,\n",
       " 'Favoritdryck': 'Fanta',\n",
       " 'Intresse': 'League of Legends',\n",
       " 'Rekord äta upp en BigMac': 0.5}"
      ]
     },
     "execution_count": 50,
     "metadata": {},
     "output_type": "execute_result"
    }
   ],
   "source": [
    "elevbok['Isak F']"
   ]
  },
  {
   "cell_type": "markdown",
   "metadata": {},
   "source": [
    "**Var försiktiga dock**! Det går som ovan att skriva över values för givna keys, och det kan ibland vara bra. Men ibland också mycket dåligt."
   ]
  },
  {
   "cell_type": "markdown",
   "metadata": {},
   "source": [
    "## Låt oss nu leka lite med Dictionaries"
   ]
  },
  {
   "cell_type": "markdown",
   "metadata": {},
   "source": [
    "Ett vanligt use-case är när man vill kombinera information från olika listor. Information som har någon typ av samband med varandra."
   ]
  },
  {
   "cell_type": "code",
   "execution_count": 53,
   "metadata": {},
   "outputs": [],
   "source": [
    "names = ['Viktoria', 'Lotta', 'Mariia']\n",
    "favorit_aktivitet = ['Träna', 'Backpacking', 'Sova']\n",
    "\n",
    "hobbys = {}\n",
    "\n",
    "for name, aktivitet in zip(names, favorit_aktivitet):\n",
    "\n",
    "    hobbys[name] = aktivitet"
   ]
  },
  {
   "cell_type": "code",
   "execution_count": 55,
   "metadata": {},
   "outputs": [
    {
     "name": "stdout",
     "output_type": "stream",
     "text": [
      "{'Viktoria': 'Träna', 'Lotta': 'Backpacking', 'Mariia': 'Sova'}\n"
     ]
    }
   ],
   "source": [
    "print(hobbys)"
   ]
  },
  {
   "cell_type": "code",
   "execution_count": 59,
   "metadata": {},
   "outputs": [
    {
     "name": "stdout",
     "output_type": "stream",
     "text": [
      "Viktoria Träna Chicken Masala\n",
      "Lotta Backpacking Sushi\n",
      "Mariia Sova Bröd & Vatten\n"
     ]
    }
   ],
   "source": [
    "names = ['Viktoria', 'Lotta', 'Mariia']\n",
    "favorit_aktivitet = ['Träna', 'Backpacking', 'Sova']\n",
    "favorit_måltid = ['Chicken Masala', 'Sushi', 'Bröd & Vatten']\n",
    "\n",
    "for name, aktivitet, måltid in zip(names, favorit_aktivitet, favorit_måltid):\n",
    "\n",
    "    print(name, aktivitet, måltid)"
   ]
  },
  {
   "cell_type": "code",
   "execution_count": 61,
   "metadata": {},
   "outputs": [
    {
     "data": {
      "text/plain": [
       "{'Viktoria': {'Favorit aktivitet': 'Träna',\n",
       "  'Favorit måltid': 'Chicken Masala'},\n",
       " 'Lotta': {'Favorit aktivitet': 'Backpacking', 'Favorit måltid': 'Sushi'},\n",
       " 'Mariia': {'Favorit aktivitet': 'Sova', 'Favorit måltid': 'Bröd & Vatten'}}"
      ]
     },
     "execution_count": 61,
     "metadata": {},
     "output_type": "execute_result"
    }
   ],
   "source": [
    "personlig_info = {}\n",
    "\n",
    "for name, aktivitet, måltid in zip(names, favorit_aktivitet, favorit_måltid):\n",
    "\n",
    "    personlig_info[name] = {'Favorit aktivitet': aktivitet, 'Favorit måltid': måltid}\n",
    "\n",
    "personlig_info"
   ]
  },
  {
   "cell_type": "code",
   "execution_count": 79,
   "metadata": {},
   "outputs": [
    {
     "data": {
      "text/plain": [
       "'Sova'"
      ]
     },
     "execution_count": 79,
     "metadata": {},
     "output_type": "execute_result"
    }
   ],
   "source": [
    "personlig_info['Mariia']['Favorit aktivitet']"
   ]
  },
  {
   "cell_type": "markdown",
   "metadata": {},
   "source": [
    "**Fler exempel**"
   ]
  },
  {
   "cell_type": "code",
   "execution_count": 88,
   "metadata": {},
   "outputs": [],
   "source": [
    "grades = 'FEDCBA'\n",
    "\n",
    "grade_limits = {}\n",
    "\n",
    "for i, grade in enumerate(grades):\n",
    "\n",
    "    #print(f'Betygräns för {grade}: {i*20}')\n",
    "\n",
    "    grade_limits[grade] = i*20"
   ]
  },
  {
   "cell_type": "markdown",
   "metadata": {},
   "source": [
    "___"
   ]
  },
  {
   "cell_type": "markdown",
   "metadata": {},
   "source": [
    "Om man ex på förhand inte vet vad alla nycklar (keys) är i en dictionary, kan man få ut det på följande vis"
   ]
  },
  {
   "cell_type": "code",
   "execution_count": 100,
   "metadata": {},
   "outputs": [
    {
     "data": {
      "text/plain": [
       "dict_keys(['F', 'E', 'D', 'C', 'B', 'A'])"
      ]
     },
     "execution_count": 100,
     "metadata": {},
     "output_type": "execute_result"
    }
   ],
   "source": [
    "grade_limits.keys()"
   ]
  },
  {
   "cell_type": "code",
   "execution_count": 102,
   "metadata": {},
   "outputs": [
    {
     "name": "stdout",
     "output_type": "stream",
     "text": [
      "F\n",
      "E\n",
      "D\n",
      "C\n",
      "B\n",
      "A\n"
     ]
    }
   ],
   "source": [
    "for key in grade_limits.keys():\n",
    "\n",
    "    print(key)"
   ]
  },
  {
   "cell_type": "markdown",
   "metadata": {},
   "source": [
    "På motsvarande sätt kan du få ut tillhörande värden (values)"
   ]
  },
  {
   "cell_type": "code",
   "execution_count": 101,
   "metadata": {},
   "outputs": [
    {
     "data": {
      "text/plain": [
       "dict_values([0, 20, 40, 60, 80, 100])"
      ]
     },
     "execution_count": 101,
     "metadata": {},
     "output_type": "execute_result"
    }
   ],
   "source": [
    "grade_limits.values()"
   ]
  },
  {
   "cell_type": "code",
   "execution_count": 103,
   "metadata": {},
   "outputs": [
    {
     "name": "stdout",
     "output_type": "stream",
     "text": [
      "0\n",
      "20\n",
      "40\n",
      "60\n",
      "80\n",
      "100\n"
     ]
    }
   ],
   "source": [
    "for value in grade_limits.values():\n",
    "\n",
    "    print(value)"
   ]
  },
  {
   "cell_type": "markdown",
   "metadata": {},
   "source": [
    "Hur kan vi komma åt bägge, samtidigt?"
   ]
  },
  {
   "cell_type": "code",
   "execution_count": 105,
   "metadata": {},
   "outputs": [
    {
     "name": "stdout",
     "output_type": "stream",
     "text": [
      "key = F\n",
      "value = 0\n",
      "\n",
      "key = E\n",
      "value = 20\n",
      "\n",
      "key = D\n",
      "value = 40\n",
      "\n",
      "key = C\n",
      "value = 60\n",
      "\n",
      "key = B\n",
      "value = 80\n",
      "\n",
      "key = A\n",
      "value = 100\n",
      "\n"
     ]
    }
   ],
   "source": [
    "for key, value in grade_limits.items():\n",
    "\n",
    "    print(f'key = {key}')\n",
    "    print(f'value = {value}', end='\\n\\n')"
   ]
  },
  {
   "cell_type": "markdown",
   "metadata": {},
   "source": [
    "**Viktig distinktion mellan listor och dictionaries**"
   ]
  },
  {
   "cell_type": "markdown",
   "metadata": {},
   "source": [
    "I listor så indexerar vi på elementposition, medan i dictionaries så indexerar vi på nycklar"
   ]
  },
  {
   "cell_type": "markdown",
   "metadata": {},
   "source": [
    "## DICTIONARY COMPREHENSIONS"
   ]
  },
  {
   "cell_type": "code",
   "execution_count": 106,
   "metadata": {},
   "outputs": [
    {
     "data": {
      "text/plain": [
       "['F', 'E', 'D', 'C', 'B', 'A']"
      ]
     },
     "execution_count": 106,
     "metadata": {},
     "output_type": "execute_result"
    }
   ],
   "source": [
    "grades = 'FEDCBA'\n",
    "\n",
    "[letter for letter in grades]"
   ]
  },
  {
   "cell_type": "markdown",
   "metadata": {},
   "source": [
    "Skillnaden mellan list- och dict comprehension är att för list behöver du endast ange ett värde att beräkna och lägga till. Som ovan så var värdet vi \"beräknade\" bara varje bokstav helt enkelt.\n",
    "\n",
    "Men för dictionaries, behöver du ange två värden. En nyckel, och en value!"
   ]
  },
  {
   "cell_type": "code",
   "execution_count": 108,
   "metadata": {},
   "outputs": [
    {
     "data": {
      "text/plain": [
       "{'F': 'ALI', 'E': 'ALI', 'D': 'ALI', 'C': 'ALI', 'B': 'ALI', 'A': 'ALI'}"
      ]
     },
     "execution_count": 108,
     "metadata": {},
     "output_type": "execute_result"
    }
   ],
   "source": [
    "grades = 'FEDCBA'\n",
    "\n",
    "{letter: 'ALI' for letter in grades}"
   ]
  },
  {
   "cell_type": "code",
   "execution_count": 111,
   "metadata": {},
   "outputs": [
    {
     "data": {
      "text/plain": [
       "{0: 'F', 20: 'E', 40: 'D', 60: 'C', 80: 'B', 100: 'A'}"
      ]
     },
     "execution_count": 111,
     "metadata": {},
     "output_type": "execute_result"
    }
   ],
   "source": [
    "grades = 'FEDCBA'\n",
    "\n",
    "{letter: i*20 for i, letter in enumerate(grades)}"
   ]
  },
  {
   "cell_type": "code",
   "execution_count": null,
   "metadata": {},
   "outputs": [],
   "source": []
  }
 ],
 "metadata": {
  "kernelspec": {
   "display_name": "introduktion",
   "language": "python",
   "name": "python3"
  },
  "language_info": {
   "codemirror_mode": {
    "name": "ipython",
    "version": 3
   },
   "file_extension": ".py",
   "mimetype": "text/x-python",
   "name": "python",
   "nbconvert_exporter": "python",
   "pygments_lexer": "ipython3",
   "version": "3.12.4"
  }
 },
 "nbformat": 4,
 "nbformat_minor": 2
}
