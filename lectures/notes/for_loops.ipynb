{
 "cells": [
  {
   "cell_type": "markdown",
   "metadata": {},
   "source": [
    "**Iterables**"
   ]
  },
  {
   "cell_type": "code",
   "execution_count": null,
   "metadata": {},
   "outputs": [],
   "source": [
    "namn = 'Ali Leylani'\n",
    "\n",
    "# strängar är iterabler, eftersom att du kan iterera igenom varje bokstav i strängen.\n",
    "\n",
    "print(namn[0]) # Viktigt! Python börjar räkna från 0, inte 1.\n",
    "print(namn[1]) \n",
    "print(namn[2])\n",
    "print(namn[3])\n",
    "print(namn[4])\n",
    "print(namn[5])\n",
    "print(namn[6])\n",
    "print(namn[7])\n",
    "print(namn[8])\n",
    "print(namn[9])\n",
    "print(namn[10]) "
   ]
  },
  {
   "cell_type": "markdown",
   "metadata": {},
   "source": [
    "Vad händer om du skriver ett index som inte finns i strängen?\n",
    "\n",
    "Vi får ett IndexError."
   ]
  },
  {
   "cell_type": "code",
   "execution_count": null,
   "metadata": {},
   "outputs": [],
   "source": [
    "print(namn[11])"
   ]
  },
  {
   "cell_type": "markdown",
   "metadata": {},
   "source": [
    "Det går mycket bra att använda negativa index också, Python kommer då att ge dig karaktärer baklänges istället."
   ]
  },
  {
   "cell_type": "code",
   "execution_count": null,
   "metadata": {},
   "outputs": [],
   "source": [
    "print(namn[0])\n",
    "print(namn[-1])\n",
    "print(namn[-2])"
   ]
  },
  {
   "cell_type": "markdown",
   "metadata": {},
   "source": [
    "**len()-funktionen**\n",
    "\n",
    "Denna ger oss längden/antalet av något. I strängfallet kommer den ge oss antalet karaktärer i strängen."
   ]
  },
  {
   "cell_type": "code",
   "execution_count": 18,
   "metadata": {},
   "outputs": [
    {
     "data": {
      "text/plain": [
       "13"
      ]
     },
     "execution_count": 18,
     "metadata": {},
     "output_type": "execute_result"
    }
   ],
   "source": [
    "name = 'Sara Eriksson'\n",
    "\n",
    "len(name)"
   ]
  },
  {
   "cell_type": "code",
   "execution_count": null,
   "metadata": {},
   "outputs": [],
   "source": [
    "print(name[-1])\n",
    "print(name[12])"
   ]
  },
  {
   "cell_type": "code",
   "execution_count": 22,
   "metadata": {},
   "outputs": [
    {
     "name": "stdout",
     "output_type": "stream",
     "text": [
      "Sara Eriksson"
     ]
    }
   ],
   "source": [
    "name = 'Sara Eriksson'\n",
    "\n",
    "n = 0\n",
    "\n",
    "while n < len(name):\n",
    "\n",
    "    print(name[n], end='')\n",
    "    n+=1"
   ]
  },
  {
   "cell_type": "markdown",
   "metadata": {},
   "source": [
    "___"
   ]
  },
  {
   "cell_type": "markdown",
   "metadata": {},
   "source": [
    "En lista är ett objekt som kan innehålla andra objekt, exempelvis strängar. Vi kommer prata mer om listor nästa lektion."
   ]
  },
  {
   "cell_type": "code",
   "execution_count": 28,
   "metadata": {},
   "outputs": [
    {
     "name": "stdout",
     "output_type": "stream",
     "text": [
      "['Ali', 'Esoon', 'Hampus']\n",
      "<class 'list'>\n"
     ]
    }
   ],
   "source": [
    "# Här skapar vi en lista med några i lärarteamet\n",
    "\n",
    "lärarlista = ['Ali', 'Esoon', 'Hampus']\n",
    "\n",
    "print(lärarlista)\n",
    "print(type(lärarlista))"
   ]
  },
  {
   "cell_type": "markdown",
   "metadata": {},
   "source": [
    "Det går mycket bra att iterera över listor, precis som vi gjorde med strängar"
   ]
  },
  {
   "cell_type": "code",
   "execution_count": 29,
   "metadata": {},
   "outputs": [
    {
     "name": "stdout",
     "output_type": "stream",
     "text": [
      "Ali\n",
      "Hampus\n"
     ]
    }
   ],
   "source": [
    "print(lärarlista[0])\n",
    "print(lärarlista[-1])"
   ]
  },
  {
   "cell_type": "code",
   "execution_count": 31,
   "metadata": {},
   "outputs": [
    {
     "name": "stdout",
     "output_type": "stream",
     "text": [
      "lärarlista: <class 'list'>\n",
      "Ali: <class 'str'>\n"
     ]
    }
   ],
   "source": [
    "print(f'lärarlista: {type(lärarlista)}')\n",
    "print(f'Ali: {type(lärarlista[0])}')"
   ]
  },
  {
   "cell_type": "markdown",
   "metadata": {},
   "source": [
    "Viktigt här är att man kan dubbelindexera."
   ]
  },
  {
   "cell_type": "code",
   "execution_count": 34,
   "metadata": {},
   "outputs": [
    {
     "name": "stdout",
     "output_type": "stream",
     "text": [
      "Ali\n",
      "A\n",
      "l\n",
      "i\n"
     ]
    }
   ],
   "source": [
    "print(lärarlista[0])   # detta kommer att ge oss det första elementet i vår lista\n",
    "print(lärarlista[0][0])\n",
    "print(lärarlista[0][1])\n",
    "print(lärarlista[0][2])"
   ]
  },
  {
   "cell_type": "markdown",
   "metadata": {},
   "source": [
    "Låt oss nu skapa en lista med alla veckodagar"
   ]
  },
  {
   "cell_type": "code",
   "execution_count": 35,
   "metadata": {},
   "outputs": [
    {
     "name": "stdout",
     "output_type": "stream",
     "text": [
      "['Måndag', 'Tisdag', 'Onsdag', 'Torsdag', 'Fredag', 'Lördag', 'Söndag']\n"
     ]
    }
   ],
   "source": [
    "veckodagar = ['Måndag', 'Tisdag', 'Onsdag', 'Torsdag', 'Fredag', 'Lördag', 'Söndag']\n",
    "\n",
    "print(veckodagar)"
   ]
  },
  {
   "cell_type": "markdown",
   "metadata": {},
   "source": [
    "**For-loopar**"
   ]
  },
  {
   "cell_type": "markdown",
   "metadata": {},
   "source": [
    "En for-loop är också en typ av loop, likt while, men är mer lämplig i vissa fall när man vill iterera \n",
    "genom ett bestämt antal objekt.\n",
    "\n",
    "Anta att vi vill printa ut varje element i ex en lista."
   ]
  },
  {
   "cell_type": "code",
   "execution_count": 37,
   "metadata": {},
   "outputs": [
    {
     "name": "stdout",
     "output_type": "stream",
     "text": [
      "Måndag\n",
      "Tisdag\n",
      "Onsdag\n",
      "Torsdag\n",
      "Fredag\n",
      "Lördag\n",
      "Söndag\n"
     ]
    }
   ],
   "source": [
    "for a in veckodagar:\n",
    "\n",
    "    print(a)"
   ]
  },
  {
   "cell_type": "code",
   "execution_count": 51,
   "metadata": {},
   "outputs": [
    {
     "name": "stdout",
     "output_type": "stream",
     "text": [
      "Måndag\n",
      "Tisdag\n",
      "Onsdag\n",
      "Torsdag\n",
      "Fredag\n",
      "Lördag\n",
      "Söndag\n"
     ]
    }
   ],
   "source": [
    "for veckodag in veckodagar:\n",
    "\n",
    "    print(veckodag)"
   ]
  },
  {
   "cell_type": "code",
   "execution_count": 50,
   "metadata": {},
   "outputs": [
    {
     "name": "stdout",
     "output_type": "stream",
     "text": [
      "Söndag\n"
     ]
    }
   ],
   "source": [
    "print(veckodag)"
   ]
  },
  {
   "cell_type": "markdown",
   "metadata": {},
   "source": [
    "Det går jättebra att även for-loopa över strängar"
   ]
  },
  {
   "cell_type": "code",
   "execution_count": 52,
   "metadata": {},
   "outputs": [
    {
     "name": "stdout",
     "output_type": "stream",
     "text": [
      "A\n",
      "l\n",
      "i\n",
      " \n",
      "L\n",
      "e\n",
      "y\n",
      "l\n",
      "a\n",
      "n\n",
      "i\n"
     ]
    }
   ],
   "source": [
    "for bokstav in 'Ali Leylani':\n",
    "    print(bokstav)"
   ]
  },
  {
   "cell_type": "code",
   "execution_count": 55,
   "metadata": {},
   "outputs": [
    {
     "ename": "TypeError",
     "evalue": "'int' object is not iterable",
     "output_type": "error",
     "traceback": [
      "\u001b[1;31m---------------------------------------------------------------------------\u001b[0m",
      "\u001b[1;31mTypeError\u001b[0m                                 Traceback (most recent call last)",
      "Cell \u001b[1;32mIn[55], line 3\u001b[0m\n\u001b[0;32m      1\u001b[0m number \u001b[38;5;241m=\u001b[39m \u001b[38;5;241m110\u001b[39m\n\u001b[1;32m----> 3\u001b[0m \u001b[38;5;28;01mfor\u001b[39;00m digit \u001b[38;5;129;01min\u001b[39;00m number:\n\u001b[0;32m      5\u001b[0m     \u001b[38;5;28mprint\u001b[39m(digit)\n",
      "\u001b[1;31mTypeError\u001b[0m: 'int' object is not iterable"
     ]
    }
   ],
   "source": [
    "number = 110\n",
    "\n",
    "for digit in number:\n",
    "\n",
    "    print(digit)"
   ]
  },
  {
   "cell_type": "markdown",
   "metadata": {},
   "source": [
    "**range()-funktionen**"
   ]
  },
  {
   "cell_type": "markdown",
   "metadata": {},
   "source": [
    "Ofta vill vi jobba med alal siffror mellan två tal, och då är range() bra att använda\n",
    "\n",
    "Anta att vi vill printa alla tal från 0 till 10, då kan vi skriva"
   ]
  },
  {
   "cell_type": "code",
   "execution_count": 60,
   "metadata": {},
   "outputs": [
    {
     "name": "stdout",
     "output_type": "stream",
     "text": [
      "range(0, 10)\n"
     ]
    }
   ],
   "source": [
    "our_numbers = range(0, 10)\n",
    "\n",
    "print(our_numbers)"
   ]
  },
  {
   "cell_type": "markdown",
   "metadata": {},
   "source": [
    "Det där blev vi inte så mycket klokare av, men om vi kombinerar range med en for-loop får vi följande"
   ]
  },
  {
   "cell_type": "code",
   "execution_count": 61,
   "metadata": {},
   "outputs": [
    {
     "name": "stdout",
     "output_type": "stream",
     "text": [
      "0\n",
      "1\n",
      "2\n",
      "3\n",
      "4\n",
      "5\n",
      "6\n",
      "7\n",
      "8\n",
      "9\n"
     ]
    }
   ],
   "source": [
    "for number in our_numbers:\n",
    "    print(number)"
   ]
  },
  {
   "cell_type": "markdown",
   "metadata": {},
   "source": [
    "Aha! Nu fattade Python, och för varje loop så assignade den variabeln number till siffrorna som range(0,10) skapade.\n",
    "\n",
    "**Viktigt** är att range(start, stop) inte inkluderar stop, utan stannar vid stop-1. Se loopen ovan.\n",
    "\n",
    "Vill man även inkludera stop måste man således skriva range(start, stop+1)."
   ]
  },
  {
   "cell_type": "code",
   "execution_count": 65,
   "metadata": {},
   "outputs": [
    {
     "name": "stdout",
     "output_type": "stream",
     "text": [
      "0\n",
      "1\n",
      "2\n",
      "3\n",
      "4\n",
      "5\n",
      "6\n",
      "7\n",
      "8\n",
      "9\n"
     ]
    }
   ],
   "source": [
    "numbers = range(0,10)\n",
    "\n",
    "for number in numbers:\n",
    "    print(number)"
   ]
  },
  {
   "cell_type": "markdown",
   "metadata": {},
   "source": [
    "Vi kan lägga till ytterligare ett argument till range, som bestämmer 'i steg om' mellan varje tal.\n",
    "\n",
    "Syntaxen är range(start, stop, step)\n"
   ]
  },
  {
   "cell_type": "code",
   "execution_count": null,
   "metadata": {},
   "outputs": [
    {
     "name": "stdout",
     "output_type": "stream",
     "text": [
      "0\n",
      "2\n",
      "4\n",
      "6\n",
      "8\n",
      "10\n",
      "12\n",
      "14\n",
      "16\n",
      "18\n",
      "20\n",
      "22\n",
      "24\n",
      "26\n",
      "28\n",
      "30\n",
      "32\n",
      "34\n",
      "36\n",
      "38\n",
      "40\n",
      "42\n",
      "44\n",
      "46\n",
      "48\n",
      "50\n",
      "52\n",
      "54\n",
      "56\n",
      "58\n",
      "60\n",
      "62\n",
      "64\n",
      "66\n",
      "68\n",
      "70\n",
      "72\n",
      "74\n",
      "76\n",
      "78\n",
      "80\n",
      "82\n",
      "84\n",
      "86\n",
      "88\n",
      "90\n",
      "92\n",
      "94\n",
      "96\n",
      "98\n"
     ]
    }
   ],
   "source": [
    "numbers = range(0,100,2)\n",
    "\n",
    "for number in numbers:\n",
    "    print(number)"
   ]
  },
  {
   "cell_type": "code",
   "execution_count": 69,
   "metadata": {},
   "outputs": [
    {
     "name": "stdout",
     "output_type": "stream",
     "text": [
      "100\n",
      "90\n",
      "80\n",
      "70\n",
      "60\n",
      "50\n",
      "40\n",
      "30\n",
      "20\n",
      "10\n"
     ]
    }
   ],
   "source": [
    "# det går bra att även gå baklänges\n",
    "\n",
    "numbers = range(100,0,-10)\n",
    "\n",
    "for number in numbers:\n",
    "    print(number)"
   ]
  },
  {
   "cell_type": "markdown",
   "metadata": {},
   "source": [
    "___"
   ]
  },
  {
   "cell_type": "markdown",
   "metadata": {},
   "source": [
    "**For-break**"
   ]
  },
  {
   "cell_type": "code",
   "execution_count": 70,
   "metadata": {},
   "outputs": [
    {
     "name": "stdout",
     "output_type": "stream",
     "text": [
      "['Måndag', 'Tisdag', 'Onsdag', 'Torsdag', 'Fredag', 'Lördag', 'Söndag']\n"
     ]
    }
   ],
   "source": [
    "print(veckodagar)"
   ]
  },
  {
   "cell_type": "code",
   "execution_count": 74,
   "metadata": {},
   "outputs": [
    {
     "name": "stdout",
     "output_type": "stream",
     "text": [
      "Måndag\n",
      "Tisdag\n",
      "Onsdag\n",
      "Torsdag\n",
      "Fredag\n"
     ]
    }
   ],
   "source": [
    "for veckodag in veckodagar:\n",
    "\n",
    "    print(veckodag)\n",
    "\n",
    "    if veckodag == 'Fredag':              # när veckodag antar värdet Fredag...\n",
    "        break                             # ... presenteras Python denn Break, och hoppar således ur loopen"
   ]
  },
  {
   "cell_type": "markdown",
   "metadata": {},
   "source": [
    "___"
   ]
  },
  {
   "cell_type": "markdown",
   "metadata": {},
   "source": [
    "**Nested for-loops**\n",
    "\n",
    "Vi kan givetvis även göra nästade for-loopar."
   ]
  },
  {
   "cell_type": "code",
   "execution_count": 77,
   "metadata": {},
   "outputs": [
    {
     "name": "stdout",
     "output_type": "stream",
     "text": [
      "Ali\n",
      "\n",
      "Leylani\n"
     ]
    }
   ],
   "source": [
    "# Btw, om vi bara printar print() så skapas en ny rad - kan vara nice ibland.\n",
    "\n",
    "print('Ali')\n",
    "print()\n",
    "print('Leylani')"
   ]
  },
  {
   "cell_type": "code",
   "execution_count": 79,
   "metadata": {},
   "outputs": [
    {
     "name": "stdout",
     "output_type": "stream",
     "text": [
      "i=0\n",
      "j=4\n",
      "j=5\n",
      "j=6\n",
      "\n",
      "i=1\n",
      "j=4\n",
      "j=5\n",
      "j=6\n",
      "\n",
      "i=2\n",
      "j=4\n",
      "j=5\n",
      "j=6\n",
      "\n"
     ]
    }
   ],
   "source": [
    "for i in range(0,3):\n",
    "\n",
    "    print(f'i={i}')\n",
    "\n",
    "    for j in range(4, 7):\n",
    "\n",
    "        print(f'j={j}')\n",
    "\n",
    "    print()    "
   ]
  },
  {
   "cell_type": "code",
   "execution_count": 82,
   "metadata": {},
   "outputs": [
    {
     "name": "stdout",
     "output_type": "stream",
     "text": [
      "0\n",
      "5\n",
      "6\n",
      "7\n",
      "8\n",
      "\n",
      "1\n",
      "5\n",
      "6\n",
      "7\n",
      "8\n",
      "\n",
      "2\n",
      "5\n",
      "6\n",
      "7\n",
      "8\n",
      "\n"
     ]
    }
   ],
   "source": [
    "for x in range(0,3):\n",
    "\n",
    "    print(x)\n",
    "\n",
    "    for y in range(5,9):\n",
    "\n",
    "        print(y)\n",
    "\n",
    "    print()"
   ]
  },
  {
   "cell_type": "code",
   "execution_count": 80,
   "metadata": {},
   "outputs": [
    {
     "name": "stdout",
     "output_type": "stream",
     "text": [
      "ij=04\n",
      "ij=05\n",
      "ij=06\n",
      "\n",
      "ij=14\n",
      "ij=15\n",
      "ij=16\n",
      "\n",
      "ij=24\n",
      "ij=25\n",
      "ij=26\n",
      "\n"
     ]
    }
   ],
   "source": [
    "for i in range(0,3):\n",
    "\n",
    "    for j in range(4, 7):\n",
    "\n",
    "        print(f'ij={i}{j}')\n",
    "\n",
    "    print()  "
   ]
  }
 ],
 "metadata": {
  "kernelspec": {
   "display_name": "introduktion",
   "language": "python",
   "name": "python3"
  },
  "language_info": {
   "codemirror_mode": {
    "name": "ipython",
    "version": 3
   },
   "file_extension": ".py",
   "mimetype": "text/x-python",
   "name": "python",
   "nbconvert_exporter": "python",
   "pygments_lexer": "ipython3",
   "version": "3.12.4"
  }
 },
 "nbformat": 4,
 "nbformat_minor": 2
}
