{
 "cells": [
  {
   "cell_type": "markdown",
   "metadata": {},
   "source": [
    "**List**"
   ]
  },
  {
   "cell_type": "markdown",
   "metadata": {},
   "source": [
    "En lista är bara en container (dvs en behållare) av andra objekt. Det kan vara en behållare av namn, tal eller kombinationer av dessa. Listor kan även innehålla andra listor, eller vad som helst egentligen."
   ]
  },
  {
   "cell_type": "code",
   "execution_count": 1,
   "metadata": {},
   "outputs": [
    {
     "name": "stdout",
     "output_type": "stream",
     "text": [
      "['Fabio', 'Lotta', 'Greger', 'Wijdan']\n",
      "<class 'list'>\n"
     ]
    }
   ],
   "source": [
    "studenter = ['Fabio', 'Lotta', 'Greger', 'Wijdan']\n",
    "\n",
    "print(studenter)\n",
    "print(type(studenter))"
   ]
  },
  {
   "cell_type": "markdown",
   "metadata": {},
   "source": [
    "Vi har tidigare sett at vi kan indexera listor, precis som strängar, och kommer då åt de olika elementen i listan."
   ]
  },
  {
   "cell_type": "code",
   "execution_count": 4,
   "metadata": {},
   "outputs": [
    {
     "name": "stdout",
     "output_type": "stream",
     "text": [
      "Fabio\n",
      "Lotta\n",
      "GregerWijdan\n"
     ]
    }
   ],
   "source": [
    "print(studenter[0])\n",
    "print(studenter[1])\n",
    "print(studenter[2] + studenter[3])"
   ]
  },
  {
   "cell_type": "code",
   "execution_count": 13,
   "metadata": {},
   "outputs": [
    {
     "name": "stdout",
     "output_type": "stream",
     "text": [
      "Fabio Lotta Greger Wijdan "
     ]
    }
   ],
   "source": [
    "for student in studenter:\n",
    "\n",
    "    print(student, end=' ')"
   ]
  },
  {
   "cell_type": "code",
   "execution_count": 9,
   "metadata": {},
   "outputs": [
    {
     "name": "stdout",
     "output_type": "stream",
     "text": [
      "Wijdan\n"
     ]
    }
   ],
   "source": [
    "print(student)"
   ]
  },
  {
   "cell_type": "code",
   "execution_count": 23,
   "metadata": {},
   "outputs": [
    {
     "name": "stdout",
     "output_type": "stream",
     "text": [
      "F\n",
      "Ha! a är den bästa bokstaven :)\n",
      "b\n",
      "Buhu, din bokstav är o\n"
     ]
    }
   ],
   "source": [
    "for letter in studenter[0]:\n",
    "\n",
    "    if letter == 'F' or letter == 'b':\n",
    "\n",
    "        print(letter)\n",
    "\n",
    "    elif letter == 'a':\n",
    "\n",
    "        print(f'Ha! {letter} är den bästa bokstaven :)')\n",
    "\n",
    "    elif letter == 'i':\n",
    "\n",
    "        pass\n",
    "\n",
    "    else:\n",
    "\n",
    "        print(f'Buhu, din bokstav är {letter}')\n",
    "\n",
    "    "
   ]
  },
  {
   "cell_type": "code",
   "execution_count": 12,
   "metadata": {},
   "outputs": [
    {
     "name": "stdout",
     "output_type": "stream",
     "text": [
      "A\n",
      "l\n",
      "i\n"
     ]
    }
   ],
   "source": [
    "for letter in 'Ali':\n",
    "\n",
    "    print(letter)"
   ]
  },
  {
   "cell_type": "markdown",
   "metadata": {},
   "source": [
    "**enumerate()**"
   ]
  },
  {
   "cell_type": "code",
   "execution_count": 29,
   "metadata": {},
   "outputs": [
    {
     "name": "stdout",
     "output_type": "stream",
     "text": [
      "student 0 = Fabio\n",
      "student 1 = Lotta\n",
      "student 2 = Greger\n",
      "student 3 = Wijdan\n"
     ]
    }
   ],
   "source": [
    "for i, student in enumerate(studenter): # med enumerate får du också indexet (platsen) vilket respektive\n",
    "                                        # värde i listan studenter har\n",
    "\n",
    "    print(f'student {i} = {student}')"
   ]
  },
  {
   "cell_type": "markdown",
   "metadata": {},
   "source": [
    "**Ändra values i listor**"
   ]
  },
  {
   "cell_type": "code",
   "execution_count": 32,
   "metadata": {},
   "outputs": [
    {
     "name": "stdout",
     "output_type": "stream",
     "text": [
      "['Fabio', 'Lotta', 'Greger', 'Wijdan']\n"
     ]
    }
   ],
   "source": [
    "print(studenter)"
   ]
  },
  {
   "cell_type": "code",
   "execution_count": 33,
   "metadata": {},
   "outputs": [
    {
     "name": "stdout",
     "output_type": "stream",
     "text": [
      "['Fabio', 'Lotta', 'Greger', 'Viktoria']\n"
     ]
    }
   ],
   "source": [
    "studenter[3] = 'Viktoria'\n",
    "\n",
    "print(studenter)"
   ]
  },
  {
   "cell_type": "markdown",
   "metadata": {},
   "source": [
    "**append()**"
   ]
  },
  {
   "cell_type": "code",
   "execution_count": 34,
   "metadata": {},
   "outputs": [
    {
     "name": "stdout",
     "output_type": "stream",
     "text": [
      "['Fabio', 'Lotta', 'Greger', 'Viktoria']\n"
     ]
    }
   ],
   "source": [
    "print(studenter)"
   ]
  },
  {
   "cell_type": "code",
   "execution_count": 35,
   "metadata": {},
   "outputs": [
    {
     "name": "stdout",
     "output_type": "stream",
     "text": [
      "['Fabio', 'Lotta', 'Greger', 'Viktoria', 'Sara']\n"
     ]
    }
   ],
   "source": [
    "studenter.append('Sara')\n",
    "\n",
    "print(studenter)"
   ]
  },
  {
   "cell_type": "code",
   "execution_count": 36,
   "metadata": {},
   "outputs": [
    {
     "name": "stdout",
     "output_type": "stream",
     "text": [
      "['Fabio', 'Lotta', 'Greger', 'Viktoria', 'Sara', 'Astrid']\n"
     ]
    }
   ],
   "source": [
    "studenter.append(input('Vad heter du?'))\n",
    "\n",
    "print(studenter)"
   ]
  },
  {
   "cell_type": "code",
   "execution_count": 38,
   "metadata": {},
   "outputs": [
    {
     "name": "stdout",
     "output_type": "stream",
     "text": [
      "['Amir', 'Rozann', 'Esoon', 'Mimmi', 'Max', 'Abba', 'Beta', 'Ceasar', 'David', 'Rudolf']\n"
     ]
    }
   ],
   "source": [
    "studenter = []\n",
    "\n",
    "class_members = 5\n",
    "\n",
    "for i in range(0, class_members):\n",
    "\n",
    "    studenter.append(input('Vad heter du, kära student?'))\n",
    "\n",
    "print(studenter)"
   ]
  },
  {
   "cell_type": "code",
   "execution_count": null,
   "metadata": {},
   "outputs": [],
   "source": [
    "studenter = []\n",
    "class_members = 5\n",
    "\n",
    "i = 0\n",
    "\n",
    "while i < class_members:\n",
    "\n",
    "    studenter.append(input('Vad heter du, kära student?'))\n",
    "    i += 1\n",
    "\n",
    "print(studenter)\n"
   ]
  },
  {
   "cell_type": "markdown",
   "metadata": {},
   "source": [
    "**Slicing**"
   ]
  },
  {
   "cell_type": "markdown",
   "metadata": {},
   "source": [
    "Används när man vill se delar av en lista, snarare än hela listan."
   ]
  },
  {
   "cell_type": "code",
   "execution_count": 41,
   "metadata": {},
   "outputs": [
    {
     "name": "stdout",
     "output_type": "stream",
     "text": [
      "['Amir', 'Rozann', 'Esoon', 'Mimmi', 'Max', 'Abba', 'Beta', 'Ceasar', 'David', 'Rudolf']\n",
      "Mimmi\n"
     ]
    }
   ],
   "source": [
    "print(studenter)    # såhär man kan se hela listan\n",
    "print(studenter[3]) # såhär kan man alltså se ETT element ur en lista"
   ]
  },
  {
   "cell_type": "code",
   "execution_count": 44,
   "metadata": {},
   "outputs": [
    {
     "name": "stdout",
     "output_type": "stream",
     "text": [
      "['Amir', 'Rozann', 'Esoon']\n",
      "['Mimmi', 'Max', 'Abba', 'Beta', 'Ceasar']\n"
     ]
    }
   ],
   "source": [
    "print(studenter[0:3]) # kommer att visa upp elementen på plats 0 till 3 (ej inklusive 3)\n",
    "\n",
    "print(studenter[3:8])"
   ]
  },
  {
   "cell_type": "markdown",
   "metadata": {},
   "source": [
    "**Sortera en lista**"
   ]
  },
  {
   "cell_type": "code",
   "execution_count": 46,
   "metadata": {},
   "outputs": [
    {
     "name": "stdout",
     "output_type": "stream",
     "text": [
      "['beta', 'alpha', 'gamma', 'epsilon', 'delta']\n"
     ]
    }
   ],
   "source": [
    "greek_letters = ['beta', 'alpha', 'gamma', 'epsilon', 'delta']\n",
    "\n",
    "print(greek_letters)"
   ]
  },
  {
   "cell_type": "code",
   "execution_count": 50,
   "metadata": {},
   "outputs": [
    {
     "name": "stdout",
     "output_type": "stream",
     "text": [
      "['alpha', 'beta', 'delta', 'epsilon', 'gamma']\n",
      "['beta', 'alpha', 'gamma', 'epsilon', 'delta']\n"
     ]
    }
   ],
   "source": [
    "print(sorted(greek_letters))\n",
    "print(greek_letters)"
   ]
  },
  {
   "cell_type": "code",
   "execution_count": 51,
   "metadata": {},
   "outputs": [
    {
     "name": "stdout",
     "output_type": "stream",
     "text": [
      "['alpha', 'beta', 'delta', 'epsilon', 'gamma']\n"
     ]
    }
   ],
   "source": [
    "sorted_greek_letters = sorted(greek_letters)\n",
    "\n",
    "print(sorted_greek_letters)"
   ]
  },
  {
   "cell_type": "code",
   "execution_count": 54,
   "metadata": {},
   "outputs": [
    {
     "name": "stdout",
     "output_type": "stream",
     "text": [
      "[1, 5, 3, 2, 4, 6, 8, 7, 9, 10]\n"
     ]
    }
   ],
   "source": [
    "my_randomly_sorted_numbers = [1, 5, 3, 2, 4, 6, 8, 7, 9, 10]\n",
    "\n",
    "print(my_randomly_sorted_numbers)"
   ]
  },
  {
   "cell_type": "code",
   "execution_count": 56,
   "metadata": {},
   "outputs": [
    {
     "name": "stdout",
     "output_type": "stream",
     "text": [
      "[1, 2, 3, 4, 5, 6, 7, 8, 9, 10]\n"
     ]
    }
   ],
   "source": [
    "my_sorted_numbers = sorted(my_randomly_sorted_numbers)\n",
    "\n",
    "print(my_sorted_numbers)"
   ]
  },
  {
   "cell_type": "code",
   "execution_count": 74,
   "metadata": {},
   "outputs": [
    {
     "name": "stdout",
     "output_type": "stream",
     "text": [
      "['Bali', 32, 'Ali']\n"
     ]
    },
    {
     "ename": "TypeError",
     "evalue": "'<' not supported between instances of 'int' and 'str'",
     "output_type": "error",
     "traceback": [
      "\u001b[1;31m---------------------------------------------------------------------------\u001b[0m",
      "\u001b[1;31mTypeError\u001b[0m                                 Traceback (most recent call last)",
      "Cell \u001b[1;32mIn[74], line 4\u001b[0m\n\u001b[0;32m      1\u001b[0m blandad_lista \u001b[38;5;241m=\u001b[39m [\u001b[38;5;124m'\u001b[39m\u001b[38;5;124mBali\u001b[39m\u001b[38;5;124m'\u001b[39m, \u001b[38;5;241m32\u001b[39m, \u001b[38;5;124m'\u001b[39m\u001b[38;5;124mAli\u001b[39m\u001b[38;5;124m'\u001b[39m]\n\u001b[0;32m      3\u001b[0m \u001b[38;5;28mprint\u001b[39m(blandad_lista)\n\u001b[1;32m----> 4\u001b[0m \u001b[38;5;28mprint\u001b[39m(\u001b[38;5;28msorted\u001b[39m(blandad_lista))\n",
      "\u001b[1;31mTypeError\u001b[0m: '<' not supported between instances of 'int' and 'str'"
     ]
    }
   ],
   "source": [
    "blandad_lista = ['Bali', 32, 'Ali']\n",
    "\n",
    "print(blandad_lista)\n",
    "print(sorted(blandad_lista))"
   ]
  },
  {
   "cell_type": "code",
   "execution_count": 65,
   "metadata": {},
   "outputs": [
    {
     "name": "stdout",
     "output_type": "stream",
     "text": [
      "['Bali', '32', '25', '103', '101', 'Ali']\n",
      "['101', '103', '25', '32', 'Ali', 'Bali']\n"
     ]
    }
   ],
   "source": [
    "annan_blandad_lista = ['Bali', '32', '25','103','101', 'Ali']\n",
    "\n",
    "print(annan_blandad_lista)\n",
    "print(sorted(annan_blandad_lista))"
   ]
  },
  {
   "cell_type": "markdown",
   "metadata": {},
   "source": [
    "**List comprehension**"
   ]
  },
  {
   "cell_type": "code",
   "execution_count": 69,
   "metadata": {},
   "outputs": [
    {
     "name": "stdout",
     "output_type": "stream",
     "text": [
      "[0, 1, 4, 9, 16, 25, 36, 49, 64, 81, 100]\n",
      "[0, 1, 4, 9, 16, 25, 36, 49, 64, 81, 100, 121, 144, 169, 196, 225, 256, 289, 324, 361]\n"
     ]
    }
   ],
   "source": [
    "ineffektiv_kvadrat_lista = [0, 1, 4, 9, 16, 25, 36, 49, 64, 81, 100]\n",
    "print(ineffektiv_kvadrat_lista)\n",
    "\n",
    "effektiv_kvadrat_lista = [x**2 for x in range(0,20)]\n",
    "print(effektiv_kvadrat_lista)"
   ]
  },
  {
   "cell_type": "code",
   "execution_count": 71,
   "metadata": {},
   "outputs": [
    {
     "name": "stdout",
     "output_type": "stream",
     "text": [
      "[0, 1, 8, 27, 64, 125, 216, 343, 512, 729, 1000, 1331, 1728, 2197, 2744, 3375, 4096, 4913, 5832, 6859]\n"
     ]
    }
   ],
   "source": [
    "kvadrater = [x**2 for x in range(0,20)]\n",
    "cubes = [x**3 for x in range(0, 20)]\n",
    "\n",
    "print(cubes)"
   ]
  },
  {
   "cell_type": "markdown",
   "metadata": {},
   "source": [
    "$ y = 5x + 2 $"
   ]
  },
  {
   "cell_type": "code",
   "execution_count": 72,
   "metadata": {},
   "outputs": [
    {
     "name": "stdout",
     "output_type": "stream",
     "text": [
      "[2, 7, 12, 17, 22, 27, 32, 37, 42, 47]\n"
     ]
    }
   ],
   "source": [
    "straight_line = [5*x+2 for x in range(0,10)]\n",
    "\n",
    "print(straight_line)"
   ]
  },
  {
   "cell_type": "markdown",
   "metadata": {},
   "source": [
    "**Matplotlib**"
   ]
  },
  {
   "cell_type": "markdown",
   "metadata": {},
   "source": [
    "Anta att vi vill plotta lite grafer. För enkla grafer är matplotlib ett utmärkt hjälpmedel!\n",
    "\n",
    "Vi behöver dock installera det först!"
   ]
  },
  {
   "cell_type": "code",
   "execution_count": 119,
   "metadata": {},
   "outputs": [],
   "source": [
    "import matplotlib.pyplot as plt   # vi ger här modulen ett alias, som vi kan använda varje gång vi vill kalla på den"
   ]
  },
  {
   "cell_type": "markdown",
   "metadata": {},
   "source": [
    "$ y = 2^x $\n",
    "\n",
    "$ 0 <= x <= 5 $"
   ]
  },
  {
   "cell_type": "code",
   "execution_count": 120,
   "metadata": {},
   "outputs": [
    {
     "data": {
      "image/png": "[encoded data removed]",
      "text/plain": [
       "<Figure size 640x480 with 1 Axes>"
      ]
     },
     "metadata": {},
     "output_type": "display_data"
    }
   ],
   "source": [
    "x_values = [0, 1, 2, 3, 4, 5]\n",
    "y_values = [1, 2, 4, 8, 16, 32]\n",
    "\n",
    "plt.plot(x_values, y_values)\n",
    "plt.show()"
   ]
  },
  {
   "cell_type": "code",
   "execution_count": 122,
   "metadata": {},
   "outputs": [
    {
     "data": {
      "image/png": "[encoded data removed]",
      "text/plain": [
       "<Figure size 640x480 with 1 Axes>"
      ]
     },
     "metadata": {},
     "output_type": "display_data"
    }
   ],
   "source": [
    "plt.plot(y_values)\n",
    "plt.show()"
   ]
  },
  {
   "cell_type": "code",
   "execution_count": 123,
   "metadata": {},
   "outputs": [
    {
     "data": {
      "image/png": "[encoded data removed]",
      "text/plain": [
       "<Figure size 640x480 with 1 Axes>"
      ]
     },
     "metadata": {},
     "output_type": "display_data"
    }
   ],
   "source": [
    "y_values = [1, 2, 4, 8, 16, 32]\n",
    "x_values = [5, 6, 7, 8, 9, 10]\n",
    "\n",
    "plt.plot(x_values, y_values)\n",
    "plt.show()"
   ]
  },
  {
   "cell_type": "code",
   "execution_count": 124,
   "metadata": {},
   "outputs": [
    {
     "data": {
      "image/png": "[encoded data removed]",
      "text/plain": [
       "<Figure size 640x480 with 1 Axes>"
      ]
     },
     "metadata": {},
     "output_type": "display_data"
    }
   ],
   "source": [
    "plt.plot(y_values)\n",
    "plt.show()"
   ]
  },
  {
   "cell_type": "code",
   "execution_count": 129,
   "metadata": {},
   "outputs": [
    {
     "data": {
      "image/png": "[encoded data removed]",
      "text/plain": [
       "<Figure size 640x480 with 1 Axes>"
      ]
     },
     "metadata": {},
     "output_type": "display_data"
    }
   ],
   "source": [
    "plt.plot(x_values, y_values)\n",
    "plt.xlabel('Detta hamnar under x-axeln')\n",
    "plt.ylabel('Detta hamnar under y-axeln')\n",
    "plt.title('Detta är titeln')\n",
    "plt.show()"
   ]
  },
  {
   "cell_type": "markdown",
   "metadata": {},
   "source": [
    "Anta att vi nu istället vill plott följande funktion:\n",
    "\n",
    "$ y = x^2 + 2$"
   ]
  },
  {
   "cell_type": "code",
   "execution_count": 134,
   "metadata": {},
   "outputs": [
    {
     "name": "stdout",
     "output_type": "stream",
     "text": [
      "[-5, -4, -3, -2, -1, 0, 1, 2, 3, 4, 5]\n",
      "[27, 18, 11, 6, 3, 2, 3, 6, 11, 18, 27]\n"
     ]
    },
    {
     "data": {
      "image/png": "[encoded data removed]",
      "text/plain": [
       "<Figure size 640x480 with 1 Axes>"
      ]
     },
     "metadata": {},
     "output_type": "display_data"
    }
   ],
   "source": [
    "y_values = [x**2 + 2 for x in range(-5,6)]\n",
    "x_values = [x for x in range(-5,6)]\n",
    "\n",
    "print(x_values)\n",
    "print(y_values)\n",
    "\n",
    "plt.plot(x_values, y_values)\n",
    "plt.xlabel('x')\n",
    "plt.ylabel('y')\n",
    "plt.title('y = x^2 + 2')\n",
    "plt.show()"
   ]
  },
  {
   "cell_type": "markdown",
   "metadata": {},
   "source": [
    "**Plotta fler funktioner i samma graf**"
   ]
  },
  {
   "cell_type": "markdown",
   "metadata": {},
   "source": [
    "Anta att vi vill plotta följande linjer, samtidigt:\n",
    "\n",
    "$ y = x + 5$\n",
    "\n",
    "$ y = x^2$\n",
    "\n",
    "och vi vill göra det från x = 0 till x = 5"
   ]
  },
  {
   "cell_type": "code",
   "execution_count": 136,
   "metadata": {},
   "outputs": [
    {
     "name": "stdout",
     "output_type": "stream",
     "text": [
      "x_values: [0, 1, 2, 3, 4, 5]\n",
      "line y-values: [5, 6, 7, 8, 9, 10]\n",
      "line parabola-values: [0, 1, 4, 9, 16, 25]\n"
     ]
    }
   ],
   "source": [
    "x_values = [x for x in range(0,6)]\n",
    "\n",
    "line_y_values = [x+5 for x in range(0,6)]\n",
    "parabola_y_values = [x**2 for x in range(0,6)]\n",
    "\n",
    "print(f'x_values: {x_values}')\n",
    "print(f'line y-values: {line_y_values}')\n",
    "print(f'line parabola-values: {parabola_y_values}')"
   ]
  },
  {
   "cell_type": "code",
   "execution_count": 141,
   "metadata": {},
   "outputs": [
    {
     "data": {
      "image/png": "[encoded data removed]",
      "text/plain": [
       "<Figure size 640x480 with 1 Axes>"
      ]
     },
     "metadata": {},
     "output_type": "display_data"
    }
   ],
   "source": [
    "plt.plot(x_values, line_y_values, color='green')\n",
    "plt.plot(x_values, parabola_y_values, color='red')\n",
    "plt.xlabel('x')\n",
    "plt.ylabel('y')\n",
    "plt.title('multiple plots')\n",
    "plt.show()"
   ]
  },
  {
   "cell_type": "code",
   "execution_count": null,
   "metadata": {},
   "outputs": [],
   "source": []
  }
 ],
 "metadata": {
  "kernelspec": {
   "display_name": "introduktion",
   "language": "python",
   "name": "python3"
  },
  "language_info": {
   "codemirror_mode": {
    "name": "ipython",
    "version": 3
   },
   "file_extension": ".py",
   "mimetype": "text/x-python",
   "name": "python",
   "nbconvert_exporter": "python",
   "pygments_lexer": "ipython3",
   "version": "3.12.4"
  }
 },
 "nbformat": 4,
 "nbformat_minor": 2
}
