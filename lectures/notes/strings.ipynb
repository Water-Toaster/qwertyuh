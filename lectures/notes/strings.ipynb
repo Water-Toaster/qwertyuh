{
 "cells": [
  {
   "cell_type": "markdown",
   "metadata": {},
   "source": [
    "**Lägga ihop strängar**"
   ]
  },
  {
   "cell_type": "code",
   "execution_count": 2,
   "metadata": {},
   "outputs": [
    {
     "name": "stdout",
     "output_type": "stream",
     "text": [
      "Ali Leylani\n"
     ]
    }
   ],
   "source": [
    "firstname = 'Ali'\n",
    "lastname = 'Leylani'\n",
    "\n",
    "fullname = firstname + ' ' + lastname\n",
    "\n",
    "print(fullname)"
   ]
  },
  {
   "cell_type": "code",
   "execution_count": 3,
   "metadata": {},
   "outputs": [
    {
     "data": {
      "text/plain": [
       "'AliAliAli'"
      ]
     },
     "execution_count": 3,
     "metadata": {},
     "output_type": "execute_result"
    }
   ],
   "source": [
    "firstname*3"
   ]
  },
  {
   "cell_type": "markdown",
   "metadata": {},
   "source": [
    "Genom att använda trippla ' eller \" kan vi markera för Python att vi vill ha en flerradssträng"
   ]
  },
  {
   "cell_type": "code",
   "execution_count": 11,
   "metadata": {},
   "outputs": [],
   "source": [
    "long_string = '''\n",
    "\n",
    "\n",
    "Ali är lärare \n",
    "\n",
    "på AI24\n",
    "\n",
    "'''"
   ]
  },
  {
   "cell_type": "code",
   "execution_count": 12,
   "metadata": {},
   "outputs": [
    {
     "name": "stdout",
     "output_type": "stream",
     "text": [
      "\n",
      "\n",
      "\n",
      "Ali är lärare \n",
      "\n",
      "på AI24\n",
      "\n",
      "\n"
     ]
    }
   ],
   "source": [
    "print(long_string)"
   ]
  },
  {
   "cell_type": "code",
   "execution_count": 16,
   "metadata": {},
   "outputs": [
    {
     "name": "stdout",
     "output_type": "stream",
     "text": [
      "\n",
      "Namn:           Ali Leylani\n",
      "Ålder:          34\n",
      "Profession:     AI boss\n",
      "Adress:         Norra Parkpromenaden 23\n",
      "\n"
     ]
    }
   ],
   "source": [
    "firstname = 'Ali'\n",
    "lastname = 'Leylani'\n",
    "age = 34\n",
    "profession = 'AI boss'\n",
    "adress = 'Norra Parkpromenaden 23'\n",
    "\n",
    "fullname = firstname + ' ' + lastname\n",
    "\n",
    "personal_details = f\"\"\"\n",
    "Namn:           {fullname}\n",
    "Ålder:          {age}\n",
    "Profession:     {profession}\n",
    "Adress:         {adress}\n",
    "\"\"\"\n",
    "\n",
    "print(personal_details)"
   ]
  },
  {
   "cell_type": "markdown",
   "metadata": {},
   "source": [
    "**Indexing & slicing**"
   ]
  },
  {
   "cell_type": "code",
   "execution_count": 34,
   "metadata": {},
   "outputs": [
    {
     "name": "stdout",
     "output_type": "stream",
     "text": [
      "quote[0]:I\n",
      "quote[1]:t\n",
      "quote[2]:'\n",
      "quote[3]:s\n",
      "quote[4:10]: funny\n",
      "quote[-1]: e\n",
      "quote[0:10:2]: I' un\n",
      "quote[::2]: I' un eas tstu\n",
      "quote[::1]: It's funny because it's true\n",
      "quote[::-1]: eurt s'ti esuaceb ynnuf s'tI\n"
     ]
    }
   ],
   "source": [
    "quote = \"It's funny because it's true\"\n",
    "\n",
    "print(f'quote[0]:{quote[0]}')\n",
    "print(f'quote[1]:{quote[1]}')\n",
    "print(f'quote[2]:{quote[2]}')\n",
    "print(f'quote[3]:{quote[3]}')\n",
    "\n",
    "print(f'quote[4:10]:{quote[4:10]}')\n",
    "\n",
    "print(f'quote[-1]: {quote[-1]}')\n",
    "\n",
    "print(f'quote[0:10:2]: {quote[0:10:2]}')    # slica i steg om 2 (start:stop:step)\n",
    "\n",
    "print(f'quote[::2]: {quote[::2]}')       #  om du inte ger start och stop är default ALLA\n",
    "\n",
    "print(f'quote[::1]: {quote[::1]}')       #  om du inte ger start och stop är default ALLA\n",
    "\n",
    "print(f'quote[::-1]: {quote[::-1]}')       #  reversed order"
   ]
  },
  {
   "cell_type": "markdown",
   "metadata": {},
   "source": [
    "**split()-funktionen**"
   ]
  },
  {
   "cell_type": "markdown",
   "metadata": {},
   "source": [
    "Den här funktionen är grymt bra om man vill dela upp en sträng baserat på ett visst mönster\n",
    "\n",
    "Exempel: vi vill dela upp vår sträng vid varje kommatecken"
   ]
  },
  {
   "cell_type": "code",
   "execution_count": 36,
   "metadata": {},
   "outputs": [
    {
     "name": "stdout",
     "output_type": "stream",
     "text": [
      "<class 'str'>\n"
     ]
    }
   ],
   "source": [
    "subjects = 'Math,biology,  cHeMistry , PrOgramming      '\n",
    "\n",
    "print(type(subjects))"
   ]
  },
  {
   "cell_type": "code",
   "execution_count": 37,
   "metadata": {},
   "outputs": [
    {
     "data": {
      "text/plain": [
       "['Math', 'biology', '  cHeMistry ', ' PrOgramming      ']"
      ]
     },
     "execution_count": 37,
     "metadata": {},
     "output_type": "execute_result"
    }
   ],
   "source": [
    "subjects.split(',')"
   ]
  },
  {
   "cell_type": "code",
   "execution_count": 38,
   "metadata": {},
   "outputs": [
    {
     "data": {
      "text/plain": [
       "['Math,bi', 'l', 'gy,  cHeMistry , PrOgramming      ']"
      ]
     },
     "execution_count": 38,
     "metadata": {},
     "output_type": "execute_result"
    }
   ],
   "source": [
    "subjects.split('o')\n"
   ]
  },
  {
   "cell_type": "code",
   "execution_count": 40,
   "metadata": {},
   "outputs": [
    {
     "name": "stdout",
     "output_type": "stream",
     "text": [
      "['Math,bi', 'ogy,  cHeMistry , PrOgramming      ']\n"
     ]
    }
   ],
   "source": [
    "result = subjects.split('ol')\n",
    "\n",
    "print(result)"
   ]
  },
  {
   "cell_type": "code",
   "execution_count": 41,
   "metadata": {},
   "outputs": [
    {
     "data": {
      "text/plain": [
       "2"
      ]
     },
     "execution_count": 41,
     "metadata": {},
     "output_type": "execute_result"
    }
   ],
   "source": [
    "len(result)"
   ]
  },
  {
   "cell_type": "markdown",
   "metadata": {},
   "source": [
    "**zip-funktionen**"
   ]
  },
  {
   "cell_type": "markdown",
   "metadata": {},
   "source": [
    "Ibland vill man 'klistra ihop' elementen ur ex två listor, i den ordningen de dyker upp i respektive lista.\n",
    "\n",
    "Det kan vi göra på följande sätt."
   ]
  },
  {
   "cell_type": "code",
   "execution_count": 53,
   "metadata": {},
   "outputs": [
    {
     "name": "stdout",
     "output_type": "stream",
     "text": [
      "['monday: pizza', 'tuesday: pasta', 'wednesday: lasagne', 'thursday: fries', 'friday: taco']\n"
     ]
    }
   ],
   "source": [
    "meny = ['pizza', 'pasta', 'lasagne', 'fries', 'taco']\n",
    "days = ['monday' , 'tuesday', 'wednesday', 'thursday', 'friday']\n",
    "\n",
    "veckomeny = []\n",
    "\n",
    "for day, dish in zip(days, meny):\n",
    "\n",
    "    # print(f'{day}: {dish}')\n",
    "\n",
    "    veckomeny.append(f'{day}: {dish}')\n",
    "\n",
    "print(veckomeny)"
   ]
  },
  {
   "cell_type": "code",
   "execution_count": 54,
   "metadata": {},
   "outputs": [
    {
     "data": {
      "text/plain": [
       "['monday: pizza',\n",
       " 'tuesday: pasta',\n",
       " 'wednesday: lasagne',\n",
       " 'thursday: fries',\n",
       " 'friday: taco']"
      ]
     },
     "execution_count": 54,
     "metadata": {},
     "output_type": "execute_result"
    }
   ],
   "source": [
    "[f'{day}: {dish}' for day, dish in zip(days, meny)]"
   ]
  },
  {
   "cell_type": "code",
   "execution_count": 55,
   "metadata": {},
   "outputs": [
    {
     "data": {
      "text/plain": [
       "['monday: pizza made by Mario',\n",
       " 'tuesday: pasta made by Giuseppe',\n",
       " 'wednesday: lasagne made by Luigi',\n",
       " 'thursday: fries made by Peach',\n",
       " 'friday: taco made by Yoshi']"
      ]
     },
     "execution_count": 55,
     "metadata": {},
     "output_type": "execute_result"
    }
   ],
   "source": [
    "meny = ['pizza', 'pasta', 'lasagne', 'fries', 'taco']\n",
    "days = ['monday' , 'tuesday', 'wednesday', 'thursday', 'friday']\n",
    "chefs = [ 'Mario', 'Giuseppe', 'Luigi', 'Peach', 'Yoshi']\n",
    "\n",
    "[f'{day}: {dish} made by {chef}' for day, dish, chef in zip(days, meny, chefs)]"
   ]
  },
  {
   "cell_type": "code",
   "execution_count": null,
   "metadata": {},
   "outputs": [],
   "source": []
  }
 ],
 "metadata": {
  "kernelspec": {
   "display_name": "introduktion",
   "language": "python",
   "name": "python3"
  },
  "language_info": {
   "codemirror_mode": {
    "name": "ipython",
    "version": 3
   },
   "file_extension": ".py",
   "mimetype": "text/x-python",
   "name": "python",
   "nbconvert_exporter": "python",
   "pygments_lexer": "ipython3",
   "version": "3.12.4"
  }
 },
 "nbformat": 4,
 "nbformat_minor": 2
}
