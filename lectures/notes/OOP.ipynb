{
 "cells": [
  {
   "cell_type": "markdown",
   "metadata": {},
   "source": [
    "## OOP - Objekt Orienterad Programmering"
   ]
  },
  {
   "cell_type": "markdown",
   "metadata": {},
   "source": [
    "Allting i Python, i synnerhet alla datatyper och funktioner vi hitills har jobbat med har ett mer tekniskt namn - objekt.\n",
    "\n",
    "Allting i Python är objekt som tillhör olika klasser. Vad är en klass?\n",
    "\n",
    "Vi har stött på många olika klasser innan, exempelvis strängar, listor, heltal, decimaltal osv. \n",
    "\n",
    "Om vi definierar en variabel till att vara ex. en sträng så säger vi att den variabeln nu är en instans av klassen sträng."
   ]
  },
  {
   "cell_type": "code",
   "execution_count": 2,
   "metadata": {},
   "outputs": [],
   "source": [
    "# variabeln mitt_namn är nu assignad till att vara en sträng.\n",
    "\n",
    "mitt_namn = 'Ali Leylani'\n",
    "\n",
    "# variabeln min_lista är nu assignad till att vara en lista.\n",
    "\n",
    "min_lista = ['Ali', 'Har', 'Fel', 'Ibland']"
   ]
  },
  {
   "cell_type": "markdown",
   "metadata": {},
   "source": [
    "Vi har också sett att olika datatyper (klasser) beter sig på liknande sätt relativt objekt i samma klass."
   ]
  },
  {
   "cell_type": "code",
   "execution_count": 3,
   "metadata": {},
   "outputs": [],
   "source": [
    "# detta är en annan sträng\n",
    "\n",
    "ditt_namn = 'John Krasinski'\n",
    "\n",
    "\n",
    "# men lägg märke till att denna sträng beter sig precis lika som vår första sträng när vi utför\n",
    "# operationer på den"
   ]
  },
  {
   "cell_type": "markdown",
   "metadata": {},
   "source": [
    "*Exempel* \n",
    "\n",
    "Multiplikation av strängar. Själva värdet av strängarna i sig kan vara annorlunda, men de beter sig precis likadant under ex multiplikation"
   ]
  },
  {
   "cell_type": "code",
   "execution_count": 5,
   "metadata": {},
   "outputs": [
    {
     "name": "stdout",
     "output_type": "stream",
     "text": [
      "Ali LeylaniAli Leylani\n",
      "John KrasinskiJohn Krasinski\n"
     ]
    }
   ],
   "source": [
    "print(mitt_namn*2)\n",
    "print(ditt_namn*2)"
   ]
  },
  {
   "cell_type": "markdown",
   "metadata": {},
   "source": [
    "metoden .lower()"
   ]
  },
  {
   "cell_type": "code",
   "execution_count": 6,
   "metadata": {},
   "outputs": [
    {
     "name": "stdout",
     "output_type": "stream",
     "text": [
      "ali leylani\n",
      "john krasinski\n"
     ]
    }
   ],
   "source": [
    "print(mitt_namn.lower())\n",
    "print(ditt_namn.lower())"
   ]
  },
  {
   "cell_type": "markdown",
   "metadata": {},
   "source": [
    "Motsvarande likheter finns ex för listor (och även för alla andra klasser, för den delen)"
   ]
  },
  {
   "cell_type": "code",
   "execution_count": 9,
   "metadata": {},
   "outputs": [
    {
     "name": "stdout",
     "output_type": "stream",
     "text": [
      "['Ali', 'Har', 'Fel', 'Ibland', 'Ali', 'Har', 'Fel', 'Ibland', 'Ali', 'Har', 'Fel', 'Ibland']\n",
      "['Hej', 'och', 'hå', 'Hej', 'och', 'hå', 'Hej', 'och', 'hå']\n",
      "['Ali', 'Har', 'Fel', 'Ibland', 111222]\n",
      "['Hej', 'och', 'hå', 111222]\n"
     ]
    }
   ],
   "source": [
    "min_lista = ['Ali', 'Har', 'Fel', 'Ibland']\n",
    "din_lista = ['Hej', 'och', 'hå']\n",
    "\n",
    "print(min_lista * 3)\n",
    "print(din_lista * 3)\n",
    "\n",
    "min_lista.append(111222)\n",
    "din_lista.append(111222)\n",
    "\n",
    "print(min_lista)\n",
    "print(din_lista)"
   ]
  },
  {
   "cell_type": "markdown",
   "metadata": {},
   "source": [
    "Vi kan kontrollera om ett objekt är av en given klass med hjälp av **isinstance()**-funktionen"
   ]
  },
  {
   "cell_type": "code",
   "execution_count": 12,
   "metadata": {},
   "outputs": [
    {
     "name": "stdout",
     "output_type": "stream",
     "text": [
      "<class 'str'>\n"
     ]
    }
   ],
   "source": [
    "mitt_namn = 'Ali Leylani'\n",
    "\n",
    "# type returnerar vilken class ditt objekt tillhör\n",
    "print(type(mitt_namn))"
   ]
  },
  {
   "cell_type": "code",
   "execution_count": 14,
   "metadata": {},
   "outputs": [
    {
     "data": {
      "text/plain": [
       "True"
      ]
     },
     "execution_count": 14,
     "metadata": {},
     "output_type": "execute_result"
    }
   ],
   "source": [
    "# isinstance() kontrollerar om ditt objekt är av den givna klassen och returnerar True om så är fallet. False annars.\n",
    "\n",
    "isinstance(mitt_namn, str)"
   ]
  },
  {
   "cell_type": "code",
   "execution_count": 16,
   "metadata": {},
   "outputs": [
    {
     "data": {
      "text/plain": [
       "False"
      ]
     },
     "execution_count": 16,
     "metadata": {},
     "output_type": "execute_result"
    }
   ],
   "source": [
    "# detta blir false, eftersom att mitt_namn är en instans av klassen sträng, och inte lista.\n",
    "\n",
    "isinstance(mitt_namn, list)"
   ]
  },
  {
   "cell_type": "markdown",
   "metadata": {},
   "source": [
    "isinstance() är en mycket viktigt funktion som ni kommer använda från och med nu.\n",
    "\n",
    "*Exempel usecase*"
   ]
  },
  {
   "cell_type": "code",
   "execution_count": 18,
   "metadata": {},
   "outputs": [
    {
     "name": "stdout",
     "output_type": "stream",
     "text": [
      "Success! Objektet är en instans av önskad klass\n"
     ]
    }
   ],
   "source": [
    "# Om vi vill kontrollera att ett givet objekt är av önskad datatyp\n",
    "\n",
    "mitt_objekt = [1, 2, 3, 4, 5]\n",
    "\n",
    "if isinstance(mitt_objekt, list):\n",
    "\n",
    "    print('Success! Objektet är en instans av önskad klass')\n",
    "\n",
    "else:\n",
    "\n",
    "    print('What you doing person. Hand me an instance of the desired class!')"
   ]
  },
  {
   "cell_type": "markdown",
   "metadata": {},
   "source": [
    "**Objekt tillhörande olika klasser sägs vara instanser av dessa klasser**\n",
    "\n",
    "**Vi kan använda isinstance() funktionen för att kontrollera om ett objekt tillhör en given klass**"
   ]
  },
  {
   "cell_type": "markdown",
   "metadata": {},
   "source": [
    "Bara för att vara extra tydlig:\n",
    "\n",
    "Alla objekt i Python tillhör en viss klass. Med klass menar man ex strängar, integers, funktioner, dictionaries osv. Det som särskiljer en klass från en annan klass är hur deras instanser beter sig under olika operationer (ex print, addition, multiplikation osv.)\n",
    "\n",
    "\n",
    "\n"
   ]
  },
  {
   "cell_type": "markdown",
   "metadata": {},
   "source": [
    "*Strängar*"
   ]
  },
  {
   "cell_type": "code",
   "execution_count": 21,
   "metadata": {},
   "outputs": [
    {
     "data": {
      "text/plain": [
       "'HejHå'"
      ]
     },
     "execution_count": 21,
     "metadata": {},
     "output_type": "execute_result"
    }
   ],
   "source": [
    "en_sträng = 'Hej'\n",
    "annan_sträng = 'Hå'\n",
    "\n",
    "# addition av två strängar är helt enkelt definierad som en sammanslagning av strängarna\n",
    "en_sträng + annan_sträng"
   ]
  },
  {
   "cell_type": "code",
   "execution_count": 23,
   "metadata": {},
   "outputs": [
    {
     "ename": "TypeError",
     "evalue": "can't multiply sequence by non-int of type 'str'",
     "output_type": "error",
     "traceback": [
      "\u001b[1;31m---------------------------------------------------------------------------\u001b[0m",
      "\u001b[1;31mTypeError\u001b[0m                                 Traceback (most recent call last)",
      "Cell \u001b[1;32mIn[23], line 3\u001b[0m\n\u001b[0;32m      1\u001b[0m \u001b[38;5;66;03m# multiplikation av strängar är inte ens definierad (går ej att uföra)\u001b[39;00m\n\u001b[0;32m      2\u001b[0m \u001b[38;5;66;03m# återigen, detta beteende gällar ALLA strängar\u001b[39;00m\n\u001b[1;32m----> 3\u001b[0m en_sträng \u001b[38;5;241m*\u001b[39m annan_sträng\n",
      "\u001b[1;31mTypeError\u001b[0m: can't multiply sequence by non-int of type 'str'"
     ]
    }
   ],
   "source": [
    "# multiplikation av strängar är inte ens definierad (går ej att uföra)\n",
    "# återigen, detta beteende gällar ALLA strängar\n",
    "en_sträng * annan_sträng"
   ]
  },
  {
   "cell_type": "markdown",
   "metadata": {},
   "source": [
    "*Heltal*"
   ]
  },
  {
   "cell_type": "code",
   "execution_count": 24,
   "metadata": {},
   "outputs": [
    {
     "data": {
      "text/plain": [
       "223"
      ]
     },
     "execution_count": 24,
     "metadata": {},
     "output_type": "execute_result"
    }
   ],
   "source": [
    "ett_tal = 123\n",
    "ett_annat_tal = 100\n",
    "\n",
    "# addition av tal är helt enkelt det vi alla är vana vid sedan grundskolan\n",
    "\n",
    "ett_tal + ett_annat_tal"
   ]
  },
  {
   "cell_type": "code",
   "execution_count": 26,
   "metadata": {},
   "outputs": [
    {
     "data": {
      "text/plain": [
       "12300"
      ]
     },
     "execution_count": 26,
     "metadata": {},
     "output_type": "execute_result"
    }
   ],
   "source": [
    "# multiplikation, likaså, det vi alla är vana vid\n",
    "\n",
    "# tillskilnad från ex strängar är multiplikation operationen definierad för heltal\n",
    "\n",
    "ett_tal * ett_annat_tal"
   ]
  },
  {
   "cell_type": "markdown",
   "metadata": {},
   "source": [
    "**Så, vi har stött på en massa klasser i Python redan ex. strängar, heltal, listor, disctionaries, decimaltal, funktioner. **\n",
    "\n",
    "Det finns många fler."
   ]
  },
  {
   "cell_type": "markdown",
   "metadata": {},
   "source": [
    "## Awesome, hur bygger vi egna klasser då?"
   ]
  },
  {
   "cell_type": "markdown",
   "metadata": {},
   "source": [
    "Jag vill skapa en *Person*-klass"
   ]
  },
  {
   "cell_type": "code",
   "execution_count": 37,
   "metadata": {},
   "outputs": [],
   "source": [
    "# nu är detta min första enkla klass\n",
    "\n",
    "class Person:\n",
    "\n",
    "    # init är en specialfunktion som Python kör så fort du skapar en instans av denna klass\n",
    "    def __init__(self, namn, ålder) -> None:\n",
    "        \n",
    "        # all kod som står här nedanför kommer alltså att köras så får du skapar en instans av denna klass\n",
    "\n",
    "        # dessa variabler nedan kallas för attribut. \n",
    "        # vi kommer alltså skapa två attribut\n",
    "        # det ena kallar vi för self.name och den ger vi värdet namn (som kommer från användaren som argument när \n",
    "        # användaren skapar en instans av denna klass)\n",
    "        # och den andra är self.age som vi ger värdet ålder (som också kommer från användaren)\n",
    "\n",
    "        self.name = namn      \n",
    "        self.age = ålder"
   ]
  },
  {
   "cell_type": "markdown",
   "metadata": {},
   "source": [
    "Vi kan skapa en instans av denna klassen på följande viss"
   ]
  },
  {
   "cell_type": "code",
   "execution_count": 39,
   "metadata": {},
   "outputs": [],
   "source": [
    "teacher = Person(namn = 'Ali', ålder='25')      # dessa argument kommer att fångas upp av __init__() metoden och användas för att\n",
    "                                                # utföra den indenterade koden i __init__() metoden.\n",
    "student = Person(namn = 'Isak F', ålder='27')"
   ]
  },
  {
   "cell_type": "code",
   "execution_count": 42,
   "metadata": {},
   "outputs": [
    {
     "name": "stdout",
     "output_type": "stream",
     "text": [
      "Attributet self.name för teacher har värdet Ali\n",
      "Attributet self.age för teacher har värder 25\n"
     ]
    }
   ],
   "source": [
    "# vi kan komma ut klass-attributen \"utifrån\" på följande sätt\n",
    "\n",
    "# vi tar våran instans och följer den med .attribut_namn\n",
    "\n",
    "print(f'Attributet self.name för teacher har värdet {teacher.name}')\n",
    "print(f'Attributet self.age för teacher har värder {teacher.age}')"
   ]
  },
  {
   "cell_type": "code",
   "execution_count": 43,
   "metadata": {},
   "outputs": [
    {
     "name": "stdout",
     "output_type": "stream",
     "text": [
      "Attributet self.name för student har värdet Isak F\n",
      "Attributet self.age för student har värder 27\n"
     ]
    }
   ],
   "source": [
    "print(f'Attributet self.name för student har värdet {student.name}')\n",
    "print(f'Attributet self.age för student har värder {student.age}')"
   ]
  },
  {
   "cell_type": "markdown",
   "metadata": {},
   "source": [
    "Ovan har vi nu två olika instanser av klassen Person, och vi har nu givit bägge dessa olika attribut.\n",
    "\n",
    "Vi har också sett hur vi kan komma åt dessa attribut."
   ]
  },
  {
   "cell_type": "markdown",
   "metadata": {},
   "source": [
    "**Fråga:** Kan vi bevisa att teacher & student är instanser av klassen Person? Hur isåfall?"
   ]
  },
  {
   "cell_type": "code",
   "execution_count": 47,
   "metadata": {},
   "outputs": [
    {
     "name": "stdout",
     "output_type": "stream",
     "text": [
      "teacher är en instans av klassen Person: True\n",
      "student är en instans av klassen Person: True\n"
     ]
    }
   ],
   "source": [
    "# Vi kan använda isinstans()\n",
    "# Eftersom att vi nu definierat en Person klass, kommer Python att känna igen den\n",
    "\n",
    "print(f'teacher är en instans av klassen Person: {isinstance(teacher, Person)}')\n",
    "print(f'student är en instans av klassen Person: {isinstance(student, Person)}')"
   ]
  },
  {
   "cell_type": "code",
   "execution_count": 48,
   "metadata": {},
   "outputs": [
    {
     "name": "stdout",
     "output_type": "stream",
     "text": [
      "teacher är en instans av klassen sträng: False\n",
      "teacher är en instans av klassen sträng: False\n"
     ]
    }
   ],
   "source": [
    "print(f'teacher är en instans av klassen sträng: {isinstance(teacher, str)}')\n",
    "print(f'teacher är en instans av klassen sträng: {isinstance(teacher, str)}')\n",
    "\n"
   ]
  },
  {
   "cell_type": "markdown",
   "metadata": {},
   "source": [
    "____"
   ]
  },
  {
   "cell_type": "markdown",
   "metadata": {},
   "source": [
    "**Ok, let's move on a bit**\n",
    "\n",
    "Vi kan utöver __init__() metoden även definiera andra metoder för våra egna klasser."
   ]
  },
  {
   "cell_type": "code",
   "execution_count": 73,
   "metadata": {},
   "outputs": [],
   "source": [
    "class Person:\n",
    "\n",
    "    def __init__(self, namn, ålder) -> None:\n",
    "\n",
    "        self.name = namn      \n",
    "        self.age = ålder\n",
    "\n",
    "    # vi har nu uttökat klassen med en metod. En metod är en helt vanlig funktion, men som är specifik för en viss klass\n",
    "    # denna metod nedan kommer alltså bara fungera för instanser av klassen Person.\n",
    "    \n",
    "    def presentation(self):\n",
    "\n",
    "        print(f'Hi, my name is {self.name} and I am {self.age} years old.')\n",
    "\n",
    "    def age_in_the_future(self, antal_år):\n",
    "\n",
    "        print(f'I will be {self.age + antal_år} years old in {antal_år} years.')"
   ]
  },
  {
   "cell_type": "code",
   "execution_count": 74,
   "metadata": {},
   "outputs": [],
   "source": [
    "# notera att vi ovan skrivit över klassen Person vi skrev tidigare. Denna version av Person har uttökad funktionalitet.\n",
    "\n",
    "classmate = Person(namn = 'Olivia R', ålder = 30)"
   ]
  },
  {
   "cell_type": "code",
   "execution_count": 66,
   "metadata": {},
   "outputs": [
    {
     "name": "stdout",
     "output_type": "stream",
     "text": [
      "Vår kära klasskamrat heter Olivia R och är 30 år gammal.\n"
     ]
    }
   ],
   "source": [
    "print(f'Vår kära klasskamrat heter {classmate.name} och är {classmate.age} år gammal.')"
   ]
  },
  {
   "cell_type": "markdown",
   "metadata": {},
   "source": [
    "Vi kommer åt klassmetoder genom att kalla på de på följande viss\n",
    "\n",
    ".metod_namn()"
   ]
  },
  {
   "cell_type": "code",
   "execution_count": 64,
   "metadata": {},
   "outputs": [
    {
     "name": "stdout",
     "output_type": "stream",
     "text": [
      "Hi, my name is Olivia R and I am 30 years old.\n"
     ]
    }
   ],
   "source": [
    "classmate.presentation()"
   ]
  },
  {
   "cell_type": "code",
   "execution_count": 76,
   "metadata": {},
   "outputs": [
    {
     "name": "stdout",
     "output_type": "stream",
     "text": [
      "I will be 35 years old in 5 years.\n"
     ]
    }
   ],
   "source": [
    "# vi kan leverara argument till metoder genom att helt enkelt fylla i dem som argument när vi kallar på metoden i fråga\n",
    "\n",
    "classmate.age_in_the_future(antal_år = 5)"
   ]
  },
  {
   "cell_type": "markdown",
   "metadata": {},
   "source": [
    "**Skillnaden** på att komma åt klassattribut och metoder är alltså att vi inkluderar paranteser på slutet för metoder."
   ]
  },
  {
   "cell_type": "markdown",
   "metadata": {},
   "source": [
    "____\n",
    "\n",
    "Vad är detta mystiska *self* som vi ser i klassen?"
   ]
  },
  {
   "cell_type": "code",
   "execution_count": 77,
   "metadata": {},
   "outputs": [],
   "source": [
    "class Person:\n",
    "\n",
    "    def __init__(self, namn, ålder) -> None:\n",
    "\n",
    "        self.name = namn      \n",
    "        self.age = ålder\n",
    "\n",
    "    # första argumenten till våra metoder är ALLTID self, innanför klassen\n",
    "    # self innehåller våra attribut, och för att komma åt attributen i våra metoder\n",
    "    # måste vi refferera till self\n",
    "    \n",
    "    def presentation(self):\n",
    "\n",
    "        print(f'Hi, my name is {self.name} and I am {self.age} years old.')\n",
    "\n",
    "\n",
    "    def age_in_the_future(self, antal_år):\n",
    "\n",
    "        print(f'I will be {self.age + antal_år} years old in {antal_år} years.')"
   ]
  },
  {
   "cell_type": "markdown",
   "metadata": {},
   "source": [
    "När du initierar en instans av klassen person kommer den att skapa en del attribut, i detta fall self.name & self.age.\n",
    "\n",
    "Dessa attribut lagras i self, och vi måste använda syntaxen\n",
    "\n",
    "    self.attribut_namn \n",
    "\n",
    "för att komma åt attributen i kod *innanför* klassen!"
   ]
  },
  {
   "cell_type": "markdown",
   "metadata": {},
   "source": [
    "**Viktigt** När vi kallar på metoderna *utanför* klassen så anger vi **inte** self som argument. Self är bara något\n",
    "internt som hanteras av klassen i sig."
   ]
  },
  {
   "cell_type": "code",
   "execution_count": 78,
   "metadata": {},
   "outputs": [],
   "source": [
    "classmate = Person(namn = 'Oliva R', ålder = 30)"
   ]
  },
  {
   "cell_type": "code",
   "execution_count": 80,
   "metadata": {},
   "outputs": [
    {
     "name": "stdout",
     "output_type": "stream",
     "text": [
      "Hi, my name is Oliva R and I am 30 years old.\n"
     ]
    }
   ],
   "source": [
    "# tekniskt sett tar presentation ett argument (self) men vi anger den INTE när vi kallar på metoden utanför klassen\n",
    "classmate.presentation()"
   ]
  },
  {
   "cell_type": "code",
   "execution_count": 81,
   "metadata": {},
   "outputs": [
    {
     "name": "stdout",
     "output_type": "stream",
     "text": [
      "I will be 35 years old in 5 years.\n"
     ]
    }
   ],
   "source": [
    "# tekniskt sett tar age_in_the_future två stycken argument (self och antal_år), men vi angeras alltså återigen\n",
    "# INTE self utanför klassen när vi kallar på metoden. Vi behöver således bara ange ett argument, vs antal_år\n",
    "\n",
    "classmate.age_in_the_future(5)"
   ]
  },
  {
   "cell_type": "markdown",
   "metadata": {},
   "source": [
    "___\n",
    "\n",
    "## Alright, let's tidy tings up a bit."
   ]
  },
  {
   "cell_type": "code",
   "execution_count": 96,
   "metadata": {},
   "outputs": [],
   "source": [
    "class Person:\n",
    "\n",
    "    '''\n",
    "    A class representing a person.\n",
    "    \n",
    "    * attributes:\n",
    "    \n",
    "    name (str): the name of the person.\n",
    "    age (int): the age of the person.\n",
    "    \n",
    "    * Methods:\n",
    "\n",
    "    1. presentation(): prints a presentation of the person\n",
    "    2. age_in_the_future(antal_år): prints the age of the person in a certain number of years\n",
    "    '''\n",
    "\n",
    "    def __init__(self, namn: str, ålder: int | float) -> None:\n",
    "\n",
    "        '''\n",
    "        Initializes a new instance of the Person class with the given attributes.\n",
    "        '''\n",
    "\n",
    "        self.name = namn      \n",
    "        self.age = ålder\n",
    "\n",
    "    \n",
    "    def presentation(self) -> None:\n",
    "\n",
    "        '''A method that presents the person in question, with name and age.'''\n",
    "\n",
    "        print(f'Hi, my name is {self.name} and I am {self.age} years old.')\n",
    "\n",
    "\n",
    "    def age_in_the_future(self, antal_år: int | float) -> None:\n",
    "\n",
    "        '''Calculates the age of the person in a given number of years.'''\n",
    "\n",
    "        print(f'I will be {self.age + antal_år} years old in {antal_år} years.')"
   ]
  },
  {
   "cell_type": "code",
   "execution_count": 97,
   "metadata": {},
   "outputs": [],
   "source": [
    "# lägg märke till att Python, precis för funktioner, mappar positionen av ditt argument till\n",
    "# argumenten i funktionen.\n",
    "\n",
    "# nedan har jag angett två stycken argument. Den första kommer att mappas till namn, och den andra kommer att mappas till ålder\n",
    "\n",
    "student = Person('Fabio Rubino', 39)"
   ]
  },
  {
   "cell_type": "code",
   "execution_count": 98,
   "metadata": {},
   "outputs": [
    {
     "name": "stdout",
     "output_type": "stream",
     "text": [
      "Help on Person in module __main__ object:\n",
      "\n",
      "class Person(builtins.object)\n",
      " |  Person(namn: str, ålder: int | float) -> None\n",
      " |\n",
      " |  A class representing a person.\n",
      " |\n",
      " |  * attributes:\n",
      " |\n",
      " |  name (str): the name of the person.\n",
      " |  age (int): the age of the person.\n",
      " |\n",
      " |  * Methods:\n",
      " |\n",
      " |  1. presentation(): prints a presentation of the person\n",
      " |  2. age_in_the_future(antal_år): prints the age of the person in a certain number of years\n",
      " |\n",
      " |  Methods defined here:\n",
      " |\n",
      " |  __init__(self, namn: str, ålder: int | float) -> None\n",
      " |      Initializes a new instance of the Person class with the given attributes.\n",
      " |\n",
      " |  age_in_the_future(self, antal_år: int | float) -> None\n",
      " |      Calculates the age of the person in a given number of years.\n",
      " |\n",
      " |  presentation(self) -> None\n",
      " |      A method that presents the person in question, with name and age.\n",
      " |\n",
      " |  ----------------------------------------------------------------------\n",
      " |  Data descriptors defined here:\n",
      " |\n",
      " |  __dict__\n",
      " |      dictionary for instance variables\n",
      " |\n",
      " |  __weakref__\n",
      " |      list of weak references to the object\n",
      "\n"
     ]
    }
   ],
   "source": [
    "help(student)"
   ]
  },
  {
   "cell_type": "markdown",
   "metadata": {},
   "source": [
    "**Privata och publika attribut**\n",
    "\n",
    "Med publika attribut menar vi sådana som du som användare kan direkt komma åt *utifrån* klassen"
   ]
  },
  {
   "cell_type": "code",
   "execution_count": 99,
   "metadata": {},
   "outputs": [
    {
     "name": "stdout",
     "output_type": "stream",
     "text": [
      "Fabio Rubino\n",
      "39\n"
     ]
    }
   ],
   "source": [
    "# följande attribut är publika eftersom att vi kan komma åt de utifrån klassen\n",
    "\n",
    "print(student.name)\n",
    "print(student.age)"
   ]
  },
  {
   "cell_type": "code",
   "execution_count": 146,
   "metadata": {},
   "outputs": [],
   "source": [
    "class Person:\n",
    "\n",
    "    '''\n",
    "    A class representing a person.\n",
    "    \n",
    "    * attributes:\n",
    "    \n",
    "    name (str): the name of the person.\n",
    "    age (int): the age of the person.\n",
    "    adress (str): the adress of the person.\n",
    "    födelsemånad (str): the birth month of the person.\n",
    "    \n",
    "    * Methods:\n",
    "\n",
    "    1. presentation(): prints a presentation of the person\n",
    "    2. age_in_the_future(antal_år): prints the age of the person in a certain number of years\n",
    "    '''\n",
    "\n",
    "    def __init__(self, namn: str, ålder: int | float, adress: str, födelsemånad: str) -> None:\n",
    "\n",
    "        '''\n",
    "        Initializes a new instance of the Person class with the given attributes.\n",
    "        '''\n",
    "\n",
    "        # publika attribut namnges helt enkelt enligt nedan\n",
    "        # dvs, self.attribut_namn\n",
    "\n",
    "        self.name = namn      \n",
    "        self.age = ålder\n",
    "\n",
    "        # vi kan också namge attribut på följande vis\n",
    "        # self._attribut_namn, dvs med ett understreck före själva namnet\n",
    "\n",
    "        # genom att namnge på följande sett så indikerar vi att detta är ett privat\n",
    "        # attribut. Ett privat attribut är något som man INTE vill att användaren ska direkt använda utanför klassen\n",
    "        # utan används enbart internt inom klassen\n",
    "        self._adress = adress\n",
    "\n",
    "\n",
    "        # om vi vill ha en ännu mer privat attribut så kan vi namnge det med två understreck före namnet\n",
    "        # på detta vis så kommer Python att neka all åtkomst utifrån till attributet. Den kommer\n",
    "        # endast kunna bli kallad på innanför klassen.\n",
    "\n",
    "        self.__birthmonth = födelsemånad\n",
    "    \n",
    "    def presentation(self) -> None:\n",
    "\n",
    "        '''A method that presents the person in question, with name, age, adress and birthmonth.'''\n",
    "\n",
    "        print(f'Hi, my name is {self.name}, I am {self.age} years old and I live at {self._adress}. I was born in {self.__birthmonth}.')\n",
    "\n",
    "\n",
    "    def age_in_the_future(self, antal_år: int | float) -> None:\n",
    "\n",
    "        '''Calculates the age of the person in a given number of years.'''\n",
    "\n",
    "        print(f'I will be {self.age + antal_år} years old in {antal_år} years.')\n",
    "\n",
    "    # denna metod repr kommer Python defaulta till när ni exempelvis använder print på er instans\n",
    "    def __repr__(self) -> str:\n",
    "\n",
    "        '''Returns an unambiguous string representation of the object and its attributes'''\n",
    "\n",
    "        return f'Person(name={self.name}, age={self.age}, adress={self._adress}, birthmonth={self.__birthmonth})'"
   ]
  },
  {
   "cell_type": "code",
   "execution_count": 147,
   "metadata": {},
   "outputs": [],
   "source": [
    "student = Person('Jonas J', 29, 'Visättravägen X', 'September')"
   ]
  },
  {
   "cell_type": "code",
   "execution_count": 148,
   "metadata": {},
   "outputs": [
    {
     "name": "stdout",
     "output_type": "stream",
     "text": [
      "Person(name=Jonas J, age=29, adress=Visättravägen X, birthmonth=September)\n"
     ]
    }
   ],
   "source": [
    "# Python kommer att söka efter __repr__ metoden när ni använder print på vår instans, och utför koden\n",
    "# som hör till den metoden. I detta fall kommer den att returnera en sträng som vi har skapat i metoden.\n",
    "print(student)"
   ]
  },
  {
   "cell_type": "code",
   "execution_count": 135,
   "metadata": {},
   "outputs": [
    {
     "name": "stdout",
     "output_type": "stream",
     "text": [
      "Jonas J\n",
      "29\n"
     ]
    }
   ],
   "source": [
    "# detta är instansens publika attribut, dvs det som vi kan komma åt utifrån klassen \n",
    "\n",
    "print(student.name)\n",
    "print(student.age)"
   ]
  },
  {
   "cell_type": "code",
   "execution_count": 136,
   "metadata": {},
   "outputs": [
    {
     "name": "stdout",
     "output_type": "stream",
     "text": [
      "Visättravägen X\n"
     ]
    }
   ],
   "source": [
    "# trots att denna var privat egentligen, kommer vi ändå åt den. Python nekar oss inte.\n",
    "# men, du som användare ska vara väldigt försiktig med attribut som börjar med ett understreck\n",
    "# helst ska du INTE använda de utanför klassen\n",
    "\n",
    "print(student._adress)"
   ]
  },
  {
   "cell_type": "code",
   "execution_count": 137,
   "metadata": {},
   "outputs": [
    {
     "name": "stdout",
     "output_type": "stream",
     "text": [
      "Hi, my name is Jonas J, I am 29 years old and I live at Visättravägen X. I was born in September.\n"
     ]
    }
   ],
   "source": [
    "student.presentation()"
   ]
  },
  {
   "cell_type": "code",
   "execution_count": 138,
   "metadata": {},
   "outputs": [
    {
     "ename": "AttributeError",
     "evalue": "'Person' object has no attribute '__birthmonth'",
     "output_type": "error",
     "traceback": [
      "\u001b[1;31m---------------------------------------------------------------------------\u001b[0m",
      "\u001b[1;31mAttributeError\u001b[0m                            Traceback (most recent call last)",
      "Cell \u001b[1;32mIn[138], line 3\u001b[0m\n\u001b[0;32m      1\u001b[0m \u001b[38;5;66;03m# helprivata attribut (de vars namn inleds med två understreck) kommer vi ej åt utifrån\u001b[39;00m\n\u001b[1;32m----> 3\u001b[0m student\u001b[38;5;241m.\u001b[39m__birthmonth\n",
      "\u001b[1;31mAttributeError\u001b[0m: 'Person' object has no attribute '__birthmonth'"
     ]
    }
   ],
   "source": [
    "# helprivata attribut (de vars namn inleds med två understreck) kommer vi ej åt utifrån\n",
    "\n",
    "student.__birthmonth"
   ]
  },
  {
   "cell_type": "markdown",
   "metadata": {},
   "source": [
    "____"
   ]
  },
  {
   "cell_type": "markdown",
   "metadata": {},
   "source": [
    "**Lite mer om privata attribut**"
   ]
  },
  {
   "cell_type": "code",
   "execution_count": 149,
   "metadata": {},
   "outputs": [],
   "source": [
    "class Student:\n",
    "\n",
    "    def __init__(self, namn: str, efternamn: str, årskurs: str, program: str) -> None:\n",
    "\n",
    "        self.namn = namn\n",
    "        self.__efternamn = efternamn\n",
    "        self.årskurs = årskurs\n",
    "        self.program = program"
   ]
  },
  {
   "cell_type": "code",
   "execution_count": 150,
   "metadata": {},
   "outputs": [],
   "source": [
    "en_student = Student('Jonas', 'Jonasson', '2024', 'Data Science')"
   ]
  },
  {
   "cell_type": "code",
   "execution_count": 151,
   "metadata": {},
   "outputs": [
    {
     "name": "stdout",
     "output_type": "stream",
     "text": [
      "Jonas\n",
      "2024\n",
      "Data Science\n"
     ]
    }
   ],
   "source": [
    "# vi kan komma åt samtliga publika argument på följande vis\n",
    "\n",
    "print(en_student.namn)\n",
    "print(en_student.årskurs)\n",
    "print(en_student.program)"
   ]
  },
  {
   "cell_type": "code",
   "execution_count": 152,
   "metadata": {},
   "outputs": [
    {
     "ename": "AttributeError",
     "evalue": "'Student' object has no attribute '__efternamn'",
     "output_type": "error",
     "traceback": [
      "\u001b[1;31m---------------------------------------------------------------------------\u001b[0m",
      "\u001b[1;31mAttributeError\u001b[0m                            Traceback (most recent call last)",
      "Cell \u001b[1;32mIn[152], line 3\u001b[0m\n\u001b[0;32m      1\u001b[0m \u001b[38;5;66;03m# däremot kommer vi inte åt det privata attributet\u001b[39;00m\n\u001b[1;32m----> 3\u001b[0m \u001b[38;5;28mprint\u001b[39m(en_student\u001b[38;5;241m.\u001b[39m__efternamn)\n",
      "\u001b[1;31mAttributeError\u001b[0m: 'Student' object has no attribute '__efternamn'"
     ]
    }
   ],
   "source": [
    "# däremot kommer vi inte åt det privata attributet\n",
    "\n",
    "print(en_student.__efternamn)"
   ]
  },
  {
   "cell_type": "markdown",
   "metadata": {},
   "source": [
    "**Hur kan vi ändå säkerställa att vi kommer åt den utanför?**"
   ]
  },
  {
   "cell_type": "code",
   "execution_count": 162,
   "metadata": {},
   "outputs": [],
   "source": [
    "class Student:\n",
    "\n",
    "    def __init__(self, namn: str, efternamn: str, årskurs: str, program: str) -> None:\n",
    "\n",
    "        self.namn = namn\n",
    "        self.__efternamn = efternamn\n",
    "        self.årskurs = årskurs\n",
    "        self.program = program\n",
    "\n",
    "    # vi kommer skapa en speciell metod som vi kommer \"dekorera\" med @property\n",
    "\n",
    "    @property\n",
    "    def efternamn(self) -> str:\n",
    "\n",
    "        return self.__efternamn"
   ]
  },
  {
   "cell_type": "code",
   "execution_count": 163,
   "metadata": {},
   "outputs": [],
   "source": [
    "en_student = Student('Johanna', 'Jokilainen', '2024', 'AI Engineering')"
   ]
  },
  {
   "cell_type": "code",
   "execution_count": 164,
   "metadata": {},
   "outputs": [
    {
     "name": "stdout",
     "output_type": "stream",
     "text": [
      "Johanna\n",
      "2024\n",
      "AI Engineering\n"
     ]
    }
   ],
   "source": [
    "# vi kommer fortfarande åt samtliga publika argument på följande vis\n",
    "\n",
    "print(en_student.namn)\n",
    "print(en_student.årskurs)\n",
    "print(en_student.program)"
   ]
  },
  {
   "cell_type": "code",
   "execution_count": 166,
   "metadata": {},
   "outputs": [
    {
     "name": "stdout",
     "output_type": "stream",
     "text": [
      "Jokilainen\n"
     ]
    }
   ],
   "source": [
    "# men nu, pga att vi har definierat en @property - kommer vi även åt det privata attributet!\n",
    "# notera att vår @property metod är en METOD och metoder kallar man med paranteser på slutet.\n",
    "# men undantaget är just @property metoder - dessa ska kallas på som om de vore attribut!\n",
    "\n",
    "print(en_student.efternamn)"
   ]
  },
  {
   "cell_type": "markdown",
   "metadata": {},
   "source": []
  }
 ],
 "metadata": {
  "kernelspec": {
   "display_name": "introduktion",
   "language": "python",
   "name": "python3"
  },
  "language_info": {
   "codemirror_mode": {
    "name": "ipython",
    "version": 3
   },
   "file_extension": ".py",
   "mimetype": "text/x-python",
   "name": "python",
   "nbconvert_exporter": "python",
   "pygments_lexer": "ipython3",
   "version": "3.12.4"
  }
 },
 "nbformat": 4,
 "nbformat_minor": 2
}
