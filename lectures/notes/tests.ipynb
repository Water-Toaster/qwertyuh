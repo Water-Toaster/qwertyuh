{
 "cells": [
  {
   "cell_type": "markdown",
   "metadata": {},
   "source": [
    "## Testing"
   ]
  },
  {
   "cell_type": "markdown",
   "metadata": {},
   "source": [
    "*What is it?*\n",
    "\n",
    "Testing in software development ensures that our code behaves as expected.\n",
    "\n",
    "By writing tests, you are verifying that the logic in your program works under different conditions.\n",
    "\n",
    "*Why is it important?*\n",
    "\n",
    "Testing is important because it helps us to catch bugs early in the development process, and specifically aims to ensure that changes in code doesn't break existing functionality.\n",
    "\n",
    "Additionally, testing can also help to improve the quality of your code and make it more reliable and maintainable."
   ]
  },
  {
   "cell_type": "markdown",
   "metadata": {},
   "source": [
    "____"
   ]
  },
  {
   "cell_type": "markdown",
   "metadata": {},
   "source": [
    "## A primer on asserts\n",
    "\n",
    "What is an assert?\n",
    "\n",
    "*assert* is a statement in Python to test conditions.\n",
    "\n",
    "If the condition evaluets to True, nothing happens. However, if it yield False, an exception is raised."
   ]
  },
  {
   "cell_type": "code",
   "execution_count": 2,
   "metadata": {},
   "outputs": [],
   "source": [
    "assert 1 + 1 == 2   # this statement is true, thus nothing happens"
   ]
  },
  {
   "cell_type": "code",
   "execution_count": 3,
   "metadata": {},
   "outputs": [
    {
     "ename": "AssertionError",
     "evalue": "",
     "output_type": "error",
     "traceback": [
      "\u001b[1;31m---------------------------------------------------------------------------\u001b[0m",
      "\u001b[1;31mAssertionError\u001b[0m                            Traceback (most recent call last)",
      "Cell \u001b[1;32mIn[3], line 1\u001b[0m\n\u001b[1;32m----> 1\u001b[0m \u001b[38;5;28;01massert\u001b[39;00m \u001b[38;5;241m1\u001b[39m \u001b[38;5;241m+\u001b[39m \u001b[38;5;241m1\u001b[39m \u001b[38;5;241m==\u001b[39m \u001b[38;5;241m3\u001b[39m\n",
      "\u001b[1;31mAssertionError\u001b[0m: "
     ]
    }
   ],
   "source": [
    "assert 1 + 1 == 3   # this statement is false, and an exception is raised"
   ]
  },
  {
   "cell_type": "markdown",
   "metadata": {},
   "source": [
    "You can use assert to test any conditon. E.g., \n",
    "\n",
    "* Numerical comparisons:\n",
    "\n",
    "        assert 3 > 2\n",
    "\n",
    "* String comparisions:\n",
    "\n",
    "        assert 'hello'.upper() == 'HELLO'\n",
    "\n",
    "* List membership:\n",
    "\n",
    "        assert 4 in [1, 2, 3, 4]\n",
    "\n",
    "And much more!"
   ]
  },
  {
   "cell_type": "markdown",
   "metadata": {},
   "source": [
    "____"
   ]
  },
  {
   "cell_type": "markdown",
   "metadata": {},
   "source": [
    "## Pytest"
   ]
  },
  {
   "cell_type": "markdown",
   "metadata": {},
   "source": [
    "One of the most popular packages for testing is *pytest*\n",
    "\n",
    "Install it in your environment using\n",
    "\n",
    "    pip install pytest"
   ]
  },
  {
   "cell_type": "markdown",
   "metadata": {},
   "source": [
    "-- A first simple test --"
   ]
  },
  {
   "cell_type": "markdown",
   "metadata": {},
   "source": [
    "Create a Python file, let's call it test_sample.py.\n",
    "\n",
    "Inside it, we'll write some functions and corresponding tests.\n",
    "\n",
    "Add the following code to test_sample.py:"
   ]
  },
  {
   "cell_type": "code",
   "execution_count": 4,
   "metadata": {},
   "outputs": [],
   "source": [
    "# content of test_sample.py\n",
    "\n",
    "def add(x, y):\n",
    "    return x + y\n",
    "\n",
    "def subtract(x, y):\n",
    "    return x - y\n",
    "\n",
    "def test_add():\n",
    "    assert add(2, 3) == 5\n",
    "\n",
    "def test_subtract():\n",
    "    assert subtract(5, 3) == 2\n",
    "\n",
    "def test_add_mirror():\n",
    "    assert add(5, 2) == add(2, 5)\n",
    "\n",
    "def test_subtract_mirror():\n",
    "    assert not (subtract(5, 2) == subtract(2, 5))"
   ]
  },
  {
   "cell_type": "markdown",
   "metadata": {},
   "source": [
    "Now in your our terminal, navigate to the folder containing test_sample.py.\n",
    "\n",
    "Ensure that the environment in which pytest is installed is active. Then, run the following command:"
   ]
  },
  {
   "cell_type": "markdown",
   "metadata": {},
   "source": [
    "          pytest"
   ]
  },
  {
   "cell_type": "markdown",
   "metadata": {},
   "source": [
    "Now look in your terminal, you'll see\n",
    "\n",
    "* a dot (.) for each test that passed.\n",
    "* an F for each that failed."
   ]
  },
  {
   "cell_type": "markdown",
   "metadata": {},
   "source": [
    "**Importantly** pytest will look for tests to run in subdirectories aswell, and there look for files with names *test_* and functions within those files that are named starting *test_*. "
   ]
  },
  {
   "cell_type": "markdown",
   "metadata": {},
   "source": [
    "This is a naming convention that pytest follows to discover and run tests automatically."
   ]
  },
  {
   "cell_type": "code",
   "execution_count": null,
   "metadata": {},
   "outputs": [],
   "source": [
    "# we can expand our test however we'd like.\n",
    "# specifically, we can also include cases in which\n",
    "# we do expect an error to arise\n",
    "\n",
    "import pytest\n",
    "\n",
    "def add(x, y):\n",
    "    return x + y\n",
    "\n",
    "def subtract(x, y):\n",
    "    return x - y\n",
    "\n",
    "def test_add():\n",
    "    assert add(2, 3) == 5\n",
    "\n",
    "def test_subtract():\n",
    "    assert subtract(5, 3) == 2\n",
    "\n",
    "def test_add_mirror():\n",
    "    assert add(5, 2) == add(2, 5)\n",
    "\n",
    "def test_subtract_mirror():\n",
    "    assert not (subtract(5, 2) == subtract(2, 5))\n",
    "\n",
    "def test_add_typ_error():\n",
    "    with pytest.raises(TypeError):\n",
    "        add('2', 3)"
   ]
  },
  {
   "cell_type": "markdown",
   "metadata": {},
   "source": []
  }
 ],
 "metadata": {
  "kernelspec": {
   "display_name": "introduktion",
   "language": "python",
   "name": "python3"
  },
  "language_info": {
   "codemirror_mode": {
    "name": "ipython",
    "version": 3
   },
   "file_extension": ".py",
   "mimetype": "text/x-python",
   "name": "python",
   "nbconvert_exporter": "python",
   "pygments_lexer": "ipython3",
   "version": "3.12.4"
  }
 },
 "nbformat": 4,
 "nbformat_minor": 2
}
