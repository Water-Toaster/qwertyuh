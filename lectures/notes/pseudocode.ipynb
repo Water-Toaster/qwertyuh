{
 "cells": [
  {
   "cell_type": "markdown",
   "metadata": {},
   "source": [
    "**Detta är kod:**"
   ]
  },
  {
   "cell_type": "code",
   "execution_count": null,
   "metadata": {},
   "outputs": [],
   "source": [
    "student_list = []\n",
    "\n",
    "number_of_students = int(input('How many students are there in this class? Answer in an integer amount.'))\n",
    "\n",
    "for i in range(number_of_students):\n",
    "\n",
    "    student_list.append(input(f'What is the name of student number {i + 1} ?'))\n",
    "\n",
    "for student in student_list:\n",
    "\n",
    "    print(f'Hello {student}!')"
   ]
  },
  {
   "cell_type": "markdown",
   "metadata": {},
   "source": [
    "**Pseudokod** är i datorprogrammering ett för ett icke-programspråk specifikt sätt att beskriva algoritmer. Det finns ingen standard för pseudokod.\n",
    "\n",
    "Pseudokod beskriver hur en viss kodsnutt ska bete sig / göra. Det är sedan upp till dig som användare att implementera denna algoritm på ett korrrekt sätt i ditt valda progammeringsspråk."
   ]
  },
  {
   "cell_type": "markdown",
   "metadata": {},
   "source": [
    "    initiate student list\n",
    "\n",
    "    ask user for number of students in class\n",
    "\n",
    "    loop over amount of students in class\n",
    "        ask for name of student and add to student list\n",
    "\n",
    "    loop over all students\n",
    "        say hi to student"
   ]
  },
  {
   "cell_type": "markdown",
   "metadata": {},
   "source": []
  }
 ],
 "metadata": {
  "kernelspec": {
   "display_name": "introduktion",
   "language": "python",
   "name": "python3"
  },
  "language_info": {
   "name": "python",
   "version": "3.12.4"
  }
 },
 "nbformat": 4,
 "nbformat_minor": 2
}
