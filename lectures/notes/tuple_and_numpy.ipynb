{
 "cells": [
  {
   "cell_type": "markdown",
   "metadata": {},
   "source": [
    "## Tuples"
   ]
  },
  {
   "cell_type": "markdown",
   "metadata": {},
   "source": [
    "Vi ska nu prata om Tuples och förtydliga skillnaden mellan Tuples och Lists.\n",
    "\n",
    "En Tupel är sorts lista, men som inte går att ändra elemten i efter att du skapat den.\n",
    "\n",
    "Exempel: listor går att ändra "
   ]
  },
  {
   "cell_type": "code",
   "execution_count": null,
   "metadata": {},
   "outputs": [],
   "source": [
    "min_lista = ['Sommar', 'Sol', 'Markoolio']\n",
    "print(min_lista)\n",
    "\n",
    "min_lista.append('Vi har korta kjolor')   # lägg till ett element till vår lista\n",
    "print(min_lista)   \n",
    "\n",
    "min_lista[0] = 'Vinter'   # re-assigna värdet på första elementet i vår lista\n",
    "print(min_lista)"
   ]
  },
  {
   "cell_type": "markdown",
   "metadata": {},
   "source": [
    "Låt oss nu skapa en Tupel. En tupel är precis som en lista ett sätt att \"samla\" information på."
   ]
  },
  {
   "cell_type": "code",
   "execution_count": null,
   "metadata": {},
   "outputs": [],
   "source": [
    "min_tuple = ('Sommar', 'Sol', 'Markoolio')   # parenteser används för att skapa tupels!\n",
    "print(min_tuple)"
   ]
  },
  {
   "cell_type": "markdown",
   "metadata": {},
   "source": [
    "Det går väldigt bra att indexa tuplar, precis som listor"
   ]
  },
  {
   "cell_type": "code",
   "execution_count": null,
   "metadata": {},
   "outputs": [],
   "source": [
    "print(min_tuple[0])\n",
    "print(min_tuple[-1])"
   ]
  },
  {
   "cell_type": "markdown",
   "metadata": {},
   "source": [
    "**Till skillnad mot listor går det INTE att förändra i en Tupel när den väl är skapad**\n",
    "\n",
    "Dvs, det går inte att lägga till nya element, och det går inte att ändra värdet på befintliga element."
   ]
  },
  {
   "cell_type": "code",
   "execution_count": null,
   "metadata": {},
   "outputs": [],
   "source": [
    "min_tuple.append('Bernie Sanders')   # det går ej att lägga till"
   ]
  },
  {
   "cell_type": "code",
   "execution_count": null,
   "metadata": {},
   "outputs": [],
   "source": [
    "min_tuple[0] = 'Vår'   # det går inte heller att re-assigna värden"
   ]
  },
  {
   "cell_type": "markdown",
   "metadata": {},
   "source": [
    "**Men**, detta är inte nödvändigtvis dåligt. I många fall vill vi, av säkerhetsskäl, inte att data som skapats ska kunna förändras."
   ]
  },
  {
   "cell_type": "markdown",
   "metadata": {},
   "source": [
    "Vi kan addera tuplar om vi vill, fungerar då på samma sätt som listor."
   ]
  },
  {
   "cell_type": "code",
   "execution_count": null,
   "metadata": {},
   "outputs": [],
   "source": [
    "en_tuple = ('Backstreets', 'Back', 'Alright')\n",
    "annan_tuple = ('If', 'You', 'Want', 'To', 'Be', 'My', 'Lover')\n",
    "\n",
    "print(en_tuple)\n",
    "print(annan_tuple)"
   ]
  },
  {
   "cell_type": "code",
   "execution_count": null,
   "metadata": {},
   "outputs": [],
   "source": [
    "en_tuple + annan_tuple"
   ]
  },
  {
   "cell_type": "markdown",
   "metadata": {},
   "source": [
    "Men lägg märke till att respektive tupel inte ändrats"
   ]
  },
  {
   "cell_type": "code",
   "execution_count": null,
   "metadata": {},
   "outputs": [],
   "source": [
    "print(en_tuple)\n",
    "print(annan_tuple)"
   ]
  },
  {
   "cell_type": "markdown",
   "metadata": {},
   "source": [
    "**En till likhet med listor är att vi kan direktassigna värden till variabler**"
   ]
  },
  {
   "cell_type": "code",
   "execution_count": null,
   "metadata": {},
   "outputs": [],
   "source": [
    "i, j = [5, 1]\n",
    "\n",
    "print(f'i: {i}')\n",
    "print(f'j: {j}')"
   ]
  },
  {
   "cell_type": "code",
   "execution_count": null,
   "metadata": {},
   "outputs": [],
   "source": [
    "i, j, k = [5, 1, 8]\n",
    "\n",
    "print(f'i: {i}')\n",
    "print(f'j: {j}')\n",
    "print(f'k: {k}')"
   ]
  },
  {
   "cell_type": "markdown",
   "metadata": {},
   "source": [
    "Det är superviktigt att antal variabler du assignar är lika många som antal element i din lista"
   ]
  },
  {
   "cell_type": "code",
   "execution_count": null,
   "metadata": {},
   "outputs": [],
   "source": [
    "i, j, k = [5, 1]      # fler variabler än element\n",
    "\n",
    "print(f'i: {i}')\n",
    "print(f'j: {j}')\n",
    "print(f'k: {k}')"
   ]
  },
  {
   "cell_type": "code",
   "execution_count": null,
   "metadata": {},
   "outputs": [],
   "source": [
    "i, j = [5, 1, 3]      # färre variabler än element\n",
    "\n",
    "print(f'i: {i}')\n",
    "print(f'j: {j}')"
   ]
  },
  {
   "cell_type": "markdown",
   "metadata": {},
   "source": [
    "**Exakt samma sak funkar för tuples!**"
   ]
  },
  {
   "cell_type": "code",
   "execution_count": null,
   "metadata": {},
   "outputs": [],
   "source": [
    "i, j = (2, 3)\n",
    "\n",
    "print(f'i: {i}')\n",
    "print(f'j: {j}')"
   ]
  },
  {
   "cell_type": "markdown",
   "metadata": {},
   "source": [
    "**Ett VÄLDIGT vanligt scenario där vi ser tuplar på är följande**"
   ]
  },
  {
   "cell_type": "code",
   "execution_count": 43,
   "metadata": {},
   "outputs": [],
   "source": [
    "foods = ['Ramen', 'Chili con Carne', 'Pizza']\n",
    "prices = [50, 60, 70]"
   ]
  },
  {
   "cell_type": "code",
   "execution_count": null,
   "metadata": {},
   "outputs": [],
   "source": [
    "for food, price in zip(foods, prices):\n",
    "\n",
    "    print(food, price)"
   ]
  },
  {
   "cell_type": "code",
   "execution_count": null,
   "metadata": {},
   "outputs": [],
   "source": [
    "for combination in zip(foods, prices):\n",
    "\n",
    "    print(combination)\n",
    "    #print(type(combination))\n",
    "    food = combination[0]\n",
    "    price = combination[1]\n",
    "    print(f'{food} kostar {price} kr')"
   ]
  },
  {
   "cell_type": "markdown",
   "metadata": {},
   "source": [
    "Det vi gör nedan (som vi lärt oss tidigare) är alltså att direktassigna två variabler till de olika elementen\n",
    "ur tupeln som skapas av zip()-funktionen"
   ]
  },
  {
   "cell_type": "code",
   "execution_count": null,
   "metadata": {},
   "outputs": [],
   "source": [
    "for food, price in zip(foods, prices):   # detta fungerar eftersom att zip() genererar tuplar! I detta fall med två element vardera\n",
    "\n",
    "    print(f'{food} kostar {price} kr')"
   ]
  },
  {
   "cell_type": "markdown",
   "metadata": {},
   "source": [
    "zip()-funktionen kan ta emot hur många listor som helst!"
   ]
  },
  {
   "cell_type": "code",
   "execution_count": 52,
   "metadata": {},
   "outputs": [],
   "source": [
    "foods = ['Ramen', 'Chili con Carne', 'Pizza']\n",
    "prices = [50, 60, 70]\n",
    "drinks = ['Cola', 'Beer', 'Wine']"
   ]
  },
  {
   "cell_type": "code",
   "execution_count": null,
   "metadata": {},
   "outputs": [],
   "source": [
    "for combination in zip(foods, prices, drinks):   # zip generar nu tuplar med tre element vardera\n",
    "\n",
    "    print(combination)"
   ]
  },
  {
   "cell_type": "code",
   "execution_count": null,
   "metadata": {},
   "outputs": [],
   "source": [
    "for food, price, drink in zip(foods, prices, drinks):   # zip generar nu tuplar med tre element vardera\n",
    "\n",
    "    print(f'A {food} with some {drink} costs {price} kronor.')"
   ]
  },
  {
   "cell_type": "markdown",
   "metadata": {},
   "source": [
    "**Obs, ordning på variabler är superviktig**\n",
    "\n",
    "Nedan skapar vi ett logiskt fel, pga felaktiv ordning i vår variabelassignment"
   ]
  },
  {
   "cell_type": "code",
   "execution_count": null,
   "metadata": {},
   "outputs": [],
   "source": [
    "for price, food, drink in zip(foods, prices, drinks):   # här har vi bytt ordning på price och food, vilket ger oss ett oförväntat resultat\n",
    "\n",
    "    print(f'A {food} with some {drink} costs {price} kronor.')"
   ]
  },
  {
   "cell_type": "markdown",
   "metadata": {},
   "source": [
    "## Hur märks detta i funktioner?"
   ]
  },
  {
   "cell_type": "markdown",
   "metadata": {},
   "source": [
    "Låt oss bygga en funktion som gör lite roliga saker med en siffra som vi ger till den"
   ]
  },
  {
   "cell_type": "code",
   "execution_count": 60,
   "metadata": {},
   "outputs": [],
   "source": [
    "# låt oss skapa en funktion som multiplicerar talet vi ger som input, med tio\n",
    "\n",
    "def rolig_funktion(nummer):\n",
    "\n",
    "    produkt = nummer*10\n",
    "\n",
    "    return produkt"
   ]
  },
  {
   "cell_type": "code",
   "execution_count": null,
   "metadata": {},
   "outputs": [],
   "source": [
    "output = rolig_funktion(5)\n",
    "\n",
    "print(output)"
   ]
  },
  {
   "cell_type": "markdown",
   "metadata": {},
   "source": [
    "Låt oss nu uttöka funktionen till att göra två saker med vår siffra, och returnera bägge dessa resultat"
   ]
  },
  {
   "cell_type": "code",
   "execution_count": 62,
   "metadata": {},
   "outputs": [],
   "source": [
    "# multiplicera given input med både tio och tjugo, returnera bägge\n",
    "\n",
    "def roligare_funktion(nummer):\n",
    "\n",
    "    gånger_tio = nummer*10\n",
    "    gånger_tjugo = nummer*20\n",
    "\n",
    "    return gånger_tio, gånger_tjugo"
   ]
  },
  {
   "cell_type": "code",
   "execution_count": null,
   "metadata": {},
   "outputs": [],
   "source": [
    "output = roligare_funktion(5)\n",
    "\n",
    "print(output)\n"
   ]
  },
  {
   "cell_type": "markdown",
   "metadata": {},
   "source": [
    "**Det vi ser är alltså att OM din funktion returnerar FLER än ett objekt, så kommer outputen att leveras i en tuple**"
   ]
  },
  {
   "cell_type": "markdown",
   "metadata": {},
   "source": [
    "Vi kan då, precis som innan, fånga upp de olika värdena som tupel innehåller på följande sätt"
   ]
  },
  {
   "cell_type": "code",
   "execution_count": null,
   "metadata": {},
   "outputs": [],
   "source": [
    "a, b = roligare_funktion(5)\n",
    "\n",
    "print(f'a: {a}')\n",
    "print(f'b: {b}')"
   ]
  },
  {
   "cell_type": "markdown",
   "metadata": {},
   "source": [
    "Låt oss göra detta supertydligt och skapa en funktion som returnerar MASSA värden"
   ]
  },
  {
   "cell_type": "code",
   "execution_count": 65,
   "metadata": {},
   "outputs": [],
   "source": [
    "def roligaste_funktionen(nummer):\n",
    "\n",
    "    gånger_tio = 10*nummer\n",
    "    gånger_tjugo = 20*nummer\n",
    "    gånger_trettio = 30*nummer\n",
    "\n",
    "    delat_på_två = nummer/2\n",
    "    upphöjt_till_två = nummer**2\n",
    "\n",
    "    return gånger_tio, gånger_tjugo, gånger_trettio, delat_på_två, upphöjt_till_två"
   ]
  },
  {
   "cell_type": "code",
   "execution_count": null,
   "metadata": {},
   "outputs": [],
   "source": [
    "output = roligaste_funktionen(5)\n",
    "\n",
    "print(output)"
   ]
  },
  {
   "cell_type": "code",
   "execution_count": null,
   "metadata": {},
   "outputs": [],
   "source": [
    "a, b, c, d, e = roligaste_funktionen(5)\n",
    "\n",
    "print(f'a: {a}')\n",
    "print(f'b: {b}')\n",
    "print(f'c: {c}')\n",
    "print(f'd: {d}')\n",
    "print(f'e: {e}')"
   ]
  },
  {
   "cell_type": "markdown",
   "metadata": {},
   "source": [
    "## Hur märks detta i listkomprehensioner?"
   ]
  },
  {
   "cell_type": "code",
   "execution_count": null,
   "metadata": {},
   "outputs": [],
   "source": [
    "snacks = ['chips', 'choklad', 'salt lakrits']\n",
    "prices = [5, 10, 8] \n",
    "\n",
    "[combination for combination in zip(snacks, prices)]"
   ]
  },
  {
   "cell_type": "code",
   "execution_count": null,
   "metadata": {},
   "outputs": [],
   "source": [
    "snacks = ['chips', 'choklad', 'salt lakrits']\n",
    "prices = [5, 10, 8] \n",
    "\n",
    "[f'{snack} kostar {price} kronor.' for snack, price in zip(snacks, prices)]"
   ]
  },
  {
   "cell_type": "markdown",
   "metadata": {},
   "source": [
    "Nu är vi på tivoli, där entrepriserna är lite... godtyckliga."
   ]
  },
  {
   "cell_type": "code",
   "execution_count": null,
   "metadata": {},
   "outputs": [],
   "source": [
    "number_of_persons = [5, 10, 15]    # sällskapsstorlek\n",
    "price_per_person = [100, 120, 150] # pris per person, beroene på sällskapsstorlek\n",
    "\n",
    "# vi ser ovan att det blir dyrare per person, ju större sällskap man är\n",
    "\n",
    "[combination for combination in zip(number_of_persons, price_per_person)]\n"
   ]
  },
  {
   "cell_type": "code",
   "execution_count": null,
   "metadata": {},
   "outputs": [],
   "source": [
    "# nedan beräknar vi det totala sällskapspriset!\n",
    "\n",
    "[number*price for number, price in zip(number_of_persons, price_per_person)]"
   ]
  },
  {
   "cell_type": "code",
   "execution_count": null,
   "metadata": {},
   "outputs": [],
   "source": [
    "# nedan beräknar vi det totala sällskapspriset!\n",
    "\n",
    "# ofta brukar man, om det inte riskerar att skapa förvirring, använda exempelvis i,j,k etc... som dummy variables\n",
    "\n",
    "[i*j for i, j in zip(number_of_persons, price_per_person)]"
   ]
  },
  {
   "cell_type": "code",
   "execution_count": null,
   "metadata": {},
   "outputs": [],
   "source": [
    "# nedan utför vi helt random beräkningar, bara för att visa att VI KAN\n",
    "\n",
    "[(i+j)*2 for i, j in zip(number_of_persons, price_per_person)]"
   ]
  },
  {
   "cell_type": "markdown",
   "metadata": {},
   "source": [
    "Låt oss definiera en funktion som adderar två värden till varandra, och returnerar resultatet"
   ]
  },
  {
   "cell_type": "code",
   "execution_count": 77,
   "metadata": {},
   "outputs": [],
   "source": [
    "def addera(a, b):\n",
    "\n",
    "    summa = a+b\n",
    "\n",
    "    return summa"
   ]
  },
  {
   "cell_type": "code",
   "execution_count": null,
   "metadata": {},
   "outputs": [],
   "source": [
    "lista_ett = [1,1,1]\n",
    "lista_random = [5, 8, 11]\n",
    "\n",
    "[combination for combination in zip(lista_ett, lista_random)]"
   ]
  },
  {
   "cell_type": "code",
   "execution_count": null,
   "metadata": {},
   "outputs": [],
   "source": [
    "[f'i: {i}, j: {j}' for i, j in zip(lista_ett, lista_random)]"
   ]
  },
  {
   "cell_type": "code",
   "execution_count": null,
   "metadata": {},
   "outputs": [],
   "source": [
    "[addera(i,j) for i, j in zip(lista_ett, lista_random)]"
   ]
  },
  {
   "cell_type": "markdown",
   "metadata": {},
   "source": [
    "Ok, en detalj till. Detta är nog inte så överraskande egentligen men låt oss ändå förtydliga"
   ]
  },
  {
   "cell_type": "code",
   "execution_count": null,
   "metadata": {},
   "outputs": [],
   "source": [
    "lista_ett = [1,1,1]\n",
    "lista_random = [5, 8, 11]\n",
    "lista_tiotal = [10, 20, 30]\n",
    "lista_nollor = [0, 0, 0]\n",
    "\n",
    "[combination for combination in zip(lista_ett, lista_random, lista_nollor, lista_tiotal)]"
   ]
  },
  {
   "cell_type": "markdown",
   "metadata": {},
   "source": [
    "Precis som tidigare, så måste antalet dummy variables vara lika många som längden av de genererade tuplarna"
   ]
  },
  {
   "cell_type": "code",
   "execution_count": null,
   "metadata": {},
   "outputs": [],
   "source": [
    "# detta blir error, vi har för få dummy variables\n",
    "\n",
    "[i+j+k for i, j, k in zip(lista_ett, lista_random, lista_nollor, lista_tiotal)]"
   ]
  },
  {
   "cell_type": "code",
   "execution_count": null,
   "metadata": {},
   "outputs": [],
   "source": [
    "# nedan assignar vi 4 dummy variables, vilket funkar!\n",
    "# dock använder vi inte alla i våra beräknar (specifikt l)\n",
    "# men det är HELT OK\n",
    "# python doesnt care - vad du väljer att göra med variablerna är helt upp till dig\n",
    "\n",
    "[i+j+k for i, j, k, l in zip(lista_ett, lista_random, lista_nollor, lista_tiotal)]"
   ]
  },
  {
   "cell_type": "markdown",
   "metadata": {},
   "source": [
    "## Numpy"
   ]
  },
  {
   "cell_type": "markdown",
   "metadata": {},
   "source": [
    "Numpy (numerical python) är ett viktigt paket för numeriska beräkningar i Python. Specifikt när man vill jobba med Linjär Algebra. "
   ]
  },
  {
   "cell_type": "code",
   "execution_count": null,
   "metadata": {},
   "outputs": [],
   "source": [
    "lista_1 = [1, 2, 3]\n",
    "lista_2 = [4, 5, 6]\n",
    "\n",
    "# listorna konkateneras, inte adderas! Dvs, läggs ihop på bredden.\n",
    "print(lista_1 + lista_2)\n",
    "\n",
    "tuple_1 = (1, 2, 3)\n",
    "tuple_2 = (4, 5, 6)\n",
    "\n",
    "print(tuple_1 + tuple_2)\n",
    "\n",
    "# listor och tuplar beter sig likadant vid addition, de konkateneras på bredden"
   ]
  },
  {
   "cell_type": "code",
   "execution_count": null,
   "metadata": {},
   "outputs": [],
   "source": [
    "# multiplicerar vi en lista eller tupel med ett tal, kommer listan att konketeeras med sig själv, \n",
    "# lika många gånger som talet vi multiplicerar med.\n",
    "\n",
    "print(lista_1*3)\n",
    "print(tuple_1*3)"
   ]
  },
  {
   "cell_type": "markdown",
   "metadata": {},
   "source": [
    "**Nu kör vi med Numpy!**"
   ]
  },
  {
   "cell_type": "code",
   "execution_count": null,
   "metadata": {},
   "outputs": [],
   "source": [
    "# numpy är ett standardpaketet, likt ex random, som man enkelt kan importera in direkt\n",
    "\n",
    "import numpy as np       # det är väldigt vanligt att ge numpy aliaset np vid importering\n",
    "\n",
    "vector = np.array([1, 2, 3]) # här skapar vi ett objekt av datatypen numpy \"array\"\n",
    "\n",
    "print(vector)\n",
    "print(type(vector))"
   ]
  },
  {
   "cell_type": "markdown",
   "metadata": {},
   "source": [
    "Ok, låt oss utforska denna nya datatyp lite grann.\n",
    "\n",
    "Vi kan indexera numpy arrays precis som tidigare för listor och tuples"
   ]
  },
  {
   "cell_type": "code",
   "execution_count": null,
   "metadata": {},
   "outputs": [],
   "source": [
    "print(vector[0])\n",
    "print(vector[:2])\n",
    "print(vector[-1])"
   ]
  },
  {
   "cell_type": "markdown",
   "metadata": {},
   "source": [
    "En array **ÄR** förändringsbar, precis som en lista - dock INTE som en tuple"
   ]
  },
  {
   "cell_type": "code",
   "execution_count": null,
   "metadata": {},
   "outputs": [],
   "source": [
    "print(vector)"
   ]
  },
  {
   "cell_type": "code",
   "execution_count": null,
   "metadata": {},
   "outputs": [],
   "source": [
    "vector[0] = 5\n",
    "print(vector)"
   ]
  },
  {
   "cell_type": "markdown",
   "metadata": {},
   "source": [
    "Om vi multiplicerar en numpy array (eller en vektor) med ett tal, kommer det att ske **elementvis multiplikation**"
   ]
  },
  {
   "cell_type": "code",
   "execution_count": null,
   "metadata": {},
   "outputs": [],
   "source": [
    "print(vector)\n",
    "print(vector*3)"
   ]
  },
  {
   "cell_type": "markdown",
   "metadata": {},
   "source": [
    "Vad händer om vi adderar numpy arrays till varandra?"
   ]
  },
  {
   "cell_type": "code",
   "execution_count": null,
   "metadata": {},
   "outputs": [],
   "source": [
    "vector_one = np.array([1, 1, 1])\n",
    "vector_random = np.array([2, 4, 9])\n",
    "\n",
    "# under addition av numpy arrays sker alltså återigen elementvis addition!\n",
    "print(vector_one + vector_random)"
   ]
  },
  {
   "cell_type": "markdown",
   "metadata": {},
   "source": [
    "Det finns många olika sätt att snabbt skapa arrays på. Ett av de är följande"
   ]
  },
  {
   "cell_type": "code",
   "execution_count": null,
   "metadata": {},
   "outputs": [],
   "source": [
    "# ones() är en metod till np som skapar en numpy array som består av ett givet antal ettor\n",
    "\n",
    "ettor = np.ones(5)   # skapar en np array av längd 5 och består enbart av ettor\n",
    "\n",
    "print(ettor)"
   ]
  },
  {
   "cell_type": "code",
   "execution_count": null,
   "metadata": {},
   "outputs": [],
   "source": [
    "nollor = np.zeros(5)   # skapar en np array av längd 5 och består enbart av nollor\n",
    "\n",
    "print(nollor)"
   ]
  },
  {
   "cell_type": "markdown",
   "metadata": {},
   "source": [
    "**Omvandla listor till arrays**"
   ]
  },
  {
   "cell_type": "code",
   "execution_count": null,
   "metadata": {},
   "outputs": [],
   "source": [
    "mina_siffror_i_en_lista = [x for x in range(3)]\n",
    "print(mina_siffror_i_en_lista)"
   ]
  },
  {
   "cell_type": "code",
   "execution_count": null,
   "metadata": {},
   "outputs": [],
   "source": [
    "# för att ändra en lista till en numpy array, använder vi np.array() metoden\n",
    "# där vi helt enkelt ger vår lista som argument till metoden\n",
    "\n",
    "mina_siffror_i_en_array = np.array(mina_siffror_i_en_lista)\n",
    "print(mina_siffror_i_en_array)\n",
    "print(type(mina_siffror_i_en_array))"
   ]
  },
  {
   "cell_type": "markdown",
   "metadata": {},
   "source": [
    "Fungerar arrays enbart för siffor... ?"
   ]
  },
  {
   "cell_type": "code",
   "execution_count": null,
   "metadata": {},
   "outputs": [],
   "source": [
    "mina_strängar_i_en_lista = [x for x in \"abc\"]\n",
    "print(mina_strängar_i_en_lista)"
   ]
  },
  {
   "cell_type": "code",
   "execution_count": null,
   "metadata": {},
   "outputs": [],
   "source": [
    "mina_strängar_i_en_array = np.array(mina_strängar_i_en_lista)\n",
    "print(mina_strängar_i_en_array)"
   ]
  },
  {
   "cell_type": "markdown",
   "metadata": {},
   "source": [
    "Svar: Ja, det går att skapa arrays med annat än siffror"
   ]
  },
  {
   "cell_type": "markdown",
   "metadata": {},
   "source": [
    "**Vad händer om vi försöker lägga ihop arrays som består av av olika datatyper?**"
   ]
  },
  {
   "cell_type": "code",
   "execution_count": null,
   "metadata": {},
   "outputs": [],
   "source": [
    "print(mina_siffror_i_en_array)\n",
    "print(mina_strängar_i_en_array)"
   ]
  },
  {
   "cell_type": "code",
   "execution_count": null,
   "metadata": {},
   "outputs": [],
   "source": [
    "mina_siffror_i_en_array + mina_strängar_i_en_array"
   ]
  },
  {
   "cell_type": "markdown",
   "metadata": {},
   "source": [
    "Det går inte, vilket kanske inte är så förvånande."
   ]
  },
  {
   "cell_type": "markdown",
   "metadata": {},
   "source": [
    "**Linspace**"
   ]
  },
  {
   "cell_type": "markdown",
   "metadata": {},
   "source": [
    "linspace är en funktion som fungerar ungefär som range(), och används för att generera en mängd med siffror"
   ]
  },
  {
   "cell_type": "code",
   "execution_count": null,
   "metadata": {},
   "outputs": [],
   "source": [
    "# detta är ett sätt att skapa en array av siffror på\n",
    "\n",
    "np.array([x for x in range(10)])"
   ]
  },
  {
   "cell_type": "markdown",
   "metadata": {},
   "source": [
    "Ett snyggare, och kanske mer effektivt sätt, är genom att använda linspace()"
   ]
  },
  {
   "cell_type": "code",
   "execution_count": null,
   "metadata": {},
   "outputs": [],
   "source": [
    "# följande kod kommer att skapa en array med (by default) 50 stycken siffror mellan 0 och 10 - i jämna steg\n",
    "\n",
    "np.linspace(0, 10)"
   ]
  },
  {
   "cell_type": "code",
   "execution_count": null,
   "metadata": {},
   "outputs": [],
   "source": [
    "# genom att ge ett till argument kan vi kontrollera antalet tal som skapas mellan ditt start och ditt stopp\n",
    "# nedan väljer vi att skapa en array med 5 stycken siffror mellan 0 och 10\n",
    "\n",
    "np.linspace(0, 10, 5)"
   ]
  },
  {
   "cell_type": "code",
   "execution_count": null,
   "metadata": {},
   "outputs": [],
   "source": [
    "np.linspace(0, 10, 11)"
   ]
  },
  {
   "cell_type": "markdown",
   "metadata": {},
   "source": [
    "Generellt sett ser det ut på följande sätt\n",
    "\n",
    "np.linspace(start, stop, num)\n",
    "\n",
    "där start är din startpunkt, stop är din slutpunkt och num är antalet punkter du vill skapa mellan start och stop"
   ]
  },
  {
   "cell_type": "markdown",
   "metadata": {},
   "source": [
    "## Mean & Sum"
   ]
  },
  {
   "cell_type": "code",
   "execution_count": null,
   "metadata": {},
   "outputs": [],
   "source": [
    "min_array = np.array([1, 6, 20])\n",
    "print(min_array)"
   ]
  },
  {
   "cell_type": "code",
   "execution_count": null,
   "metadata": {},
   "outputs": [],
   "source": [
    "print(f'Medelvärdet av min array är {np.mean(min_array)}')\n",
    "print(f'Summan av min array är {np.sum(min_array)}')"
   ]
  },
  {
   "cell_type": "code",
   "execution_count": null,
   "metadata": {},
   "outputs": [],
   "source": []
  }
 ],
 "metadata": {
  "kernelspec": {
   "display_name": "introduktion",
   "language": "python",
   "name": "python3"
  },
  "language_info": {
   "codemirror_mode": {
    "name": "ipython",
    "version": 3
   },
   "file_extension": ".py",
   "mimetype": "text/x-python",
   "name": "python",
   "nbconvert_exporter": "python",
   "pygments_lexer": "ipython3",
   "version": "3.12.4"
  }
 },
 "nbformat": 4,
 "nbformat_minor": 2
}
