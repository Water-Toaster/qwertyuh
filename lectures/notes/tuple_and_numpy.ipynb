{
 "cells": [
  {
   "cell_type": "markdown",
   "metadata": {},
   "source": [
    "## Tuples"
   ]
  },
  {
   "cell_type": "markdown",
   "metadata": {},
   "source": [
    "Vi ska nu prata om Tuples och förtydliga skillnaden mellan Tuples och Lists.\n",
    "\n",
    "En Tupel är sorts lista, men som inte går att ändra elemten i efter att du skapat den.\n",
    "\n",
    "Exempel: listor går att ändra "
   ]
  },
  {
   "cell_type": "code",
   "execution_count": 3,
   "metadata": {},
   "outputs": [
    {
     "name": "stdout",
     "output_type": "stream",
     "text": [
      "['Sommar', 'Sol', 'Markoolio']\n",
      "['Sommar', 'Sol', 'Markoolio', 'Vi har korta kjolor']\n",
      "['Vinter', 'Sol', 'Markoolio', 'Vi har korta kjolor']\n"
     ]
    }
   ],
   "source": [
    "min_lista = ['Sommar', 'Sol', 'Markoolio']\n",
    "print(min_lista)\n",
    "\n",
    "min_lista.append('Vi har korta kjolor')   # lägg till ett element till vår lista\n",
    "print(min_lista)   \n",
    "\n",
    "min_lista[0] = 'Vinter'   # re-assigna värdet på första elementet i vår lista\n",
    "print(min_lista)"
   ]
  },
  {
   "cell_type": "markdown",
   "metadata": {},
   "source": [
    "Låt oss nu skapa en Tupel. En tupel är precis som en lista ett sätt att \"samla\" information på."
   ]
  },
  {
   "cell_type": "code",
   "execution_count": 4,
   "metadata": {},
   "outputs": [
    {
     "name": "stdout",
     "output_type": "stream",
     "text": [
      "('Sommar', 'Sol', 'Markoolio')\n"
     ]
    }
   ],
   "source": [
    "min_tuple = ('Sommar', 'Sol', 'Markoolio')   # parenteser används för att skapa tupels!\n",
    "print(min_tuple)"
   ]
  },
  {
   "cell_type": "markdown",
   "metadata": {},
   "source": [
    "Det går väldigt bra att indexa tuplar, precis som listor"
   ]
  },
  {
   "cell_type": "code",
   "execution_count": 7,
   "metadata": {},
   "outputs": [
    {
     "name": "stdout",
     "output_type": "stream",
     "text": [
      "Sommar\n",
      "Markoolio\n"
     ]
    }
   ],
   "source": [
    "print(min_tuple[0])\n",
    "print(min_tuple[-1])"
   ]
  },
  {
   "cell_type": "markdown",
   "metadata": {},
   "source": [
    "**Till skillnad mot listor går det INTE att förändra i en Tupel när den väl är skapad**\n",
    "\n",
    "Dvs, det går inte att lägga till nya element, och det går inte att ändra värdet på befintliga element."
   ]
  },
  {
   "cell_type": "code",
   "execution_count": 9,
   "metadata": {},
   "outputs": [
    {
     "ename": "AttributeError",
     "evalue": "'tuple' object has no attribute 'append'",
     "output_type": "error",
     "traceback": [
      "\u001b[1;31m---------------------------------------------------------------------------\u001b[0m",
      "\u001b[1;31mAttributeError\u001b[0m                            Traceback (most recent call last)",
      "Cell \u001b[1;32mIn[9], line 1\u001b[0m\n\u001b[1;32m----> 1\u001b[0m min_tuple\u001b[38;5;241m.\u001b[39mappend(\u001b[38;5;124m'\u001b[39m\u001b[38;5;124mBernie Sanders\u001b[39m\u001b[38;5;124m'\u001b[39m)\n",
      "\u001b[1;31mAttributeError\u001b[0m: 'tuple' object has no attribute 'append'"
     ]
    }
   ],
   "source": [
    "min_tuple.append('Bernie Sanders')   # det går ej att lägga till"
   ]
  },
  {
   "cell_type": "code",
   "execution_count": 11,
   "metadata": {},
   "outputs": [
    {
     "ename": "TypeError",
     "evalue": "'tuple' object does not support item assignment",
     "output_type": "error",
     "traceback": [
      "\u001b[1;31m---------------------------------------------------------------------------\u001b[0m",
      "\u001b[1;31mTypeError\u001b[0m                                 Traceback (most recent call last)",
      "Cell \u001b[1;32mIn[11], line 1\u001b[0m\n\u001b[1;32m----> 1\u001b[0m min_tuple[\u001b[38;5;241m0\u001b[39m] \u001b[38;5;241m=\u001b[39m \u001b[38;5;124m'\u001b[39m\u001b[38;5;124mVår\u001b[39m\u001b[38;5;124m'\u001b[39m\n",
      "\u001b[1;31mTypeError\u001b[0m: 'tuple' object does not support item assignment"
     ]
    }
   ],
   "source": [
    "min_tuple[0] = 'Vår'   # det går inte heller att re-assigna värden"
   ]
  },
  {
   "cell_type": "markdown",
   "metadata": {},
   "source": [
    "**Men**, detta är inte nödvändigtvis dåligt. I många fall vill vi, av säkerhetsskäl, inte att data som skapats ska kunna förändras."
   ]
  },
  {
   "cell_type": "markdown",
   "metadata": {},
   "source": [
    "Vi kan addera tuplar om vi vill, fungerar då på samma sätt som listor."
   ]
  },
  {
   "cell_type": "code",
   "execution_count": 13,
   "metadata": {},
   "outputs": [
    {
     "name": "stdout",
     "output_type": "stream",
     "text": [
      "('Backstreets', 'Back', 'Alright')\n",
      "('If', 'You', 'Want', 'To', 'Be', 'My', 'Lover')\n"
     ]
    }
   ],
   "source": [
    "en_tuple = ('Backstreets', 'Back', 'Alright')\n",
    "annan_tuple = ('If', 'You', 'Want', 'To', 'Be', 'My', 'Lover')\n",
    "\n",
    "print(en_tuple)\n",
    "print(annan_tuple)"
   ]
  },
  {
   "cell_type": "code",
   "execution_count": 14,
   "metadata": {},
   "outputs": [
    {
     "data": {
      "text/plain": [
       "('Backstreets',\n",
       " 'Back',\n",
       " 'Alright',\n",
       " 'If',\n",
       " 'You',\n",
       " 'Want',\n",
       " 'To',\n",
       " 'Be',\n",
       " 'My',\n",
       " 'Lover')"
      ]
     },
     "execution_count": 14,
     "metadata": {},
     "output_type": "execute_result"
    }
   ],
   "source": [
    "en_tuple + annan_tuple"
   ]
  },
  {
   "cell_type": "markdown",
   "metadata": {},
   "source": [
    "Men lägg märke till att respektive tupel inte ändrats"
   ]
  },
  {
   "cell_type": "code",
   "execution_count": 16,
   "metadata": {},
   "outputs": [
    {
     "name": "stdout",
     "output_type": "stream",
     "text": [
      "('Backstreets', 'Back', 'Alright')\n",
      "('If', 'You', 'Want', 'To', 'Be', 'My', 'Lover')\n"
     ]
    }
   ],
   "source": [
    "print(en_tuple)\n",
    "print(annan_tuple)"
   ]
  },
  {
   "cell_type": "markdown",
   "metadata": {},
   "source": [
    "**En till likhet med listor är att vi kan direktassigna värden till variabler**"
   ]
  },
  {
   "cell_type": "code",
   "execution_count": 20,
   "metadata": {},
   "outputs": [
    {
     "name": "stdout",
     "output_type": "stream",
     "text": [
      "i: 5\n",
      "j: 1\n"
     ]
    }
   ],
   "source": [
    "i, j = [5, 1]\n",
    "\n",
    "print(f'i: {i}')\n",
    "print(f'j: {j}')"
   ]
  },
  {
   "cell_type": "code",
   "execution_count": 21,
   "metadata": {},
   "outputs": [
    {
     "name": "stdout",
     "output_type": "stream",
     "text": [
      "i: 5\n",
      "j: 1\n",
      "k: 8\n"
     ]
    }
   ],
   "source": [
    "i, j, k = [5, 1, 8]\n",
    "\n",
    "print(f'i: {i}')\n",
    "print(f'j: {j}')\n",
    "print(f'k: {k}')"
   ]
  },
  {
   "cell_type": "markdown",
   "metadata": {},
   "source": [
    "Det är superviktigt att antal variabler du assignar är lika många som antal element i din lista"
   ]
  },
  {
   "cell_type": "code",
   "execution_count": 22,
   "metadata": {},
   "outputs": [
    {
     "ename": "ValueError",
     "evalue": "not enough values to unpack (expected 3, got 2)",
     "output_type": "error",
     "traceback": [
      "\u001b[1;31m---------------------------------------------------------------------------\u001b[0m",
      "\u001b[1;31mValueError\u001b[0m                                Traceback (most recent call last)",
      "Cell \u001b[1;32mIn[22], line 1\u001b[0m\n\u001b[1;32m----> 1\u001b[0m i, j, k \u001b[38;5;241m=\u001b[39m [\u001b[38;5;241m5\u001b[39m, \u001b[38;5;241m1\u001b[39m]      \u001b[38;5;66;03m# fler variabler än element\u001b[39;00m\n\u001b[0;32m      3\u001b[0m \u001b[38;5;28mprint\u001b[39m(\u001b[38;5;124mf\u001b[39m\u001b[38;5;124m'\u001b[39m\u001b[38;5;124mi: \u001b[39m\u001b[38;5;132;01m{\u001b[39;00mi\u001b[38;5;132;01m}\u001b[39;00m\u001b[38;5;124m'\u001b[39m)\n\u001b[0;32m      4\u001b[0m \u001b[38;5;28mprint\u001b[39m(\u001b[38;5;124mf\u001b[39m\u001b[38;5;124m'\u001b[39m\u001b[38;5;124mj: \u001b[39m\u001b[38;5;132;01m{\u001b[39;00mj\u001b[38;5;132;01m}\u001b[39;00m\u001b[38;5;124m'\u001b[39m)\n",
      "\u001b[1;31mValueError\u001b[0m: not enough values to unpack (expected 3, got 2)"
     ]
    }
   ],
   "source": [
    "i, j, k = [5, 1]      # fler variabler än element\n",
    "\n",
    "print(f'i: {i}')\n",
    "print(f'j: {j}')\n",
    "print(f'k: {k}')"
   ]
  },
  {
   "cell_type": "code",
   "execution_count": 23,
   "metadata": {},
   "outputs": [
    {
     "ename": "ValueError",
     "evalue": "too many values to unpack (expected 2)",
     "output_type": "error",
     "traceback": [
      "\u001b[1;31m---------------------------------------------------------------------------\u001b[0m",
      "\u001b[1;31mValueError\u001b[0m                                Traceback (most recent call last)",
      "Cell \u001b[1;32mIn[23], line 1\u001b[0m\n\u001b[1;32m----> 1\u001b[0m i, j \u001b[38;5;241m=\u001b[39m [\u001b[38;5;241m5\u001b[39m, \u001b[38;5;241m1\u001b[39m, \u001b[38;5;241m3\u001b[39m]      \u001b[38;5;66;03m# färre variabler än element\u001b[39;00m\n\u001b[0;32m      3\u001b[0m \u001b[38;5;28mprint\u001b[39m(\u001b[38;5;124mf\u001b[39m\u001b[38;5;124m'\u001b[39m\u001b[38;5;124mi: \u001b[39m\u001b[38;5;132;01m{\u001b[39;00mi\u001b[38;5;132;01m}\u001b[39;00m\u001b[38;5;124m'\u001b[39m)\n\u001b[0;32m      4\u001b[0m \u001b[38;5;28mprint\u001b[39m(\u001b[38;5;124mf\u001b[39m\u001b[38;5;124m'\u001b[39m\u001b[38;5;124mj: \u001b[39m\u001b[38;5;132;01m{\u001b[39;00mj\u001b[38;5;132;01m}\u001b[39;00m\u001b[38;5;124m'\u001b[39m)\n",
      "\u001b[1;31mValueError\u001b[0m: too many values to unpack (expected 2)"
     ]
    }
   ],
   "source": [
    "i, j = [5, 1, 3]      # färre variabler än element\n",
    "\n",
    "print(f'i: {i}')\n",
    "print(f'j: {j}')"
   ]
  },
  {
   "cell_type": "markdown",
   "metadata": {},
   "source": [
    "**Exakt samma sak funkar för tuples!**"
   ]
  },
  {
   "cell_type": "code",
   "execution_count": 25,
   "metadata": {},
   "outputs": [
    {
     "name": "stdout",
     "output_type": "stream",
     "text": [
      "i: 2\n",
      "j: 3\n"
     ]
    }
   ],
   "source": [
    "i, j = (2, 3)\n",
    "\n",
    "print(f'i: {i}')\n",
    "print(f'j: {j}')"
   ]
  },
  {
   "cell_type": "markdown",
   "metadata": {},
   "source": [
    "**Ett VÄLDIGT vanligt scenario där vi ser tuplar på är följande**"
   ]
  },
  {
   "cell_type": "code",
   "execution_count": 43,
   "metadata": {},
   "outputs": [],
   "source": [
    "foods = ['Ramen', 'Chili con Carne', 'Pizza']\n",
    "prices = [50, 60, 70]"
   ]
  },
  {
   "cell_type": "code",
   "execution_count": 44,
   "metadata": {},
   "outputs": [
    {
     "name": "stdout",
     "output_type": "stream",
     "text": [
      "Ramen 50\n",
      "Chili con Carne 60\n",
      "Pizza 70\n"
     ]
    }
   ],
   "source": [
    "for food, price in zip(foods, prices):\n",
    "\n",
    "    print(food, price)"
   ]
  },
  {
   "cell_type": "code",
   "execution_count": 48,
   "metadata": {},
   "outputs": [
    {
     "name": "stdout",
     "output_type": "stream",
     "text": [
      "('Ramen', 50)\n",
      "Ramen kostar 50 kr\n",
      "('Chili con Carne', 60)\n",
      "Chili con Carne kostar 60 kr\n",
      "('Pizza', 70)\n",
      "Pizza kostar 70 kr\n"
     ]
    }
   ],
   "source": [
    "for combination in zip(foods, prices):\n",
    "\n",
    "    print(combination)\n",
    "    #print(type(combination))\n",
    "    food = combination[0]\n",
    "    price = combination[1]\n",
    "    print(f'{food} kostar {price} kr')"
   ]
  },
  {
   "cell_type": "markdown",
   "metadata": {},
   "source": [
    "Det vi gör nedan (som vi lärt oss tidigare) är alltså att direktassigna två variabler till de olika elementen\n",
    "ur tupeln som skapas av zip()-funktionen"
   ]
  },
  {
   "cell_type": "code",
   "execution_count": 51,
   "metadata": {},
   "outputs": [
    {
     "name": "stdout",
     "output_type": "stream",
     "text": [
      "Ramen kostar 50 kr\n",
      "Chili con Carne kostar 60 kr\n",
      "Pizza kostar 70 kr\n"
     ]
    }
   ],
   "source": [
    "for food, price in zip(foods, prices):   # detta fungerar eftersom att zip() genererar tuplar! I detta fall med två element vardera\n",
    "\n",
    "    print(f'{food} kostar {price} kr')"
   ]
  },
  {
   "cell_type": "markdown",
   "metadata": {},
   "source": [
    "zip()-funktionen kan ta emot hur många listor som helst!"
   ]
  },
  {
   "cell_type": "code",
   "execution_count": 52,
   "metadata": {},
   "outputs": [],
   "source": [
    "foods = ['Ramen', 'Chili con Carne', 'Pizza']\n",
    "prices = [50, 60, 70]\n",
    "drinks = ['Cola', 'Beer', 'Wine']"
   ]
  },
  {
   "cell_type": "code",
   "execution_count": 57,
   "metadata": {},
   "outputs": [
    {
     "name": "stdout",
     "output_type": "stream",
     "text": [
      "('Ramen', 50, 'Cola')\n",
      "('Chili con Carne', 60, 'Beer')\n",
      "('Pizza', 70, 'Wine')\n"
     ]
    }
   ],
   "source": [
    "for combination in zip(foods, prices, drinks):   # zip generar nu tuplar med tre element vardera\n",
    "\n",
    "    print(combination)"
   ]
  },
  {
   "cell_type": "code",
   "execution_count": 54,
   "metadata": {},
   "outputs": [
    {
     "name": "stdout",
     "output_type": "stream",
     "text": [
      "A Ramen with some Cola costs 50 kronor.\n",
      "A Chili con Carne with some Beer costs 60 kronor.\n",
      "A Pizza with some Wine costs 70 kronor.\n"
     ]
    }
   ],
   "source": [
    "for food, price, drink in zip(foods, prices, drinks):   # zip generar nu tuplar med tre element vardera\n",
    "\n",
    "    print(f'A {food} with some {drink} costs {price} kronor.')"
   ]
  },
  {
   "cell_type": "markdown",
   "metadata": {},
   "source": [
    "**Obs, ordning på variabler är superviktig**\n",
    "\n",
    "Nedan skapar vi ett logiskt fel, pga felaktiv ordning i vår variabelassignment"
   ]
  },
  {
   "cell_type": "code",
   "execution_count": 59,
   "metadata": {},
   "outputs": [
    {
     "name": "stdout",
     "output_type": "stream",
     "text": [
      "A 50 with some Cola costs Ramen kronor.\n",
      "A 60 with some Beer costs Chili con Carne kronor.\n",
      "A 70 with some Wine costs Pizza kronor.\n"
     ]
    }
   ],
   "source": [
    "for price, food, drink in zip(foods, prices, drinks):   # här har vi bytt ordning på price och food, vilket ger oss ett oförväntat resultat\n",
    "\n",
    "    print(f'A {food} with some {drink} costs {price} kronor.')"
   ]
  },
  {
   "cell_type": "markdown",
   "metadata": {},
   "source": [
    "## Hur märks detta i funktioner?"
   ]
  },
  {
   "cell_type": "markdown",
   "metadata": {},
   "source": [
    "Låt oss bygga en funktion som gör lite roliga saker med en siffra som vi ger till den"
   ]
  },
  {
   "cell_type": "code",
   "execution_count": 60,
   "metadata": {},
   "outputs": [],
   "source": [
    "# låt oss skapa en funktion som multiplicerar talet vi ger som input, med tio\n",
    "\n",
    "def rolig_funktion(nummer):\n",
    "\n",
    "    produkt = nummer*10\n",
    "\n",
    "    return produkt"
   ]
  },
  {
   "cell_type": "code",
   "execution_count": 61,
   "metadata": {},
   "outputs": [
    {
     "name": "stdout",
     "output_type": "stream",
     "text": [
      "50\n"
     ]
    }
   ],
   "source": [
    "output = rolig_funktion(5)\n",
    "\n",
    "print(output)"
   ]
  },
  {
   "cell_type": "markdown",
   "metadata": {},
   "source": [
    "Låt oss nu uttöka funktionen till att göra två saker med vår siffra, och returnera bägge dessa resultat"
   ]
  },
  {
   "cell_type": "code",
   "execution_count": 62,
   "metadata": {},
   "outputs": [],
   "source": [
    "# multiplicera given input med både tio och tjugo, returnera bägge\n",
    "\n",
    "def roligare_funktion(nummer):\n",
    "\n",
    "    gånger_tio = nummer*10\n",
    "    gånger_tjugo = nummer*20\n",
    "\n",
    "    return gånger_tio, gånger_tjugo"
   ]
  },
  {
   "cell_type": "code",
   "execution_count": 63,
   "metadata": {},
   "outputs": [
    {
     "name": "stdout",
     "output_type": "stream",
     "text": [
      "(50, 100)\n"
     ]
    }
   ],
   "source": [
    "output = roligare_funktion(5)\n",
    "\n",
    "print(output)\n"
   ]
  },
  {
   "cell_type": "markdown",
   "metadata": {},
   "source": [
    "**Det vi ser är alltså att OM din funktion returnerar FLER än ett objekt, så kommer outputen att leveras i en tuple**"
   ]
  },
  {
   "cell_type": "markdown",
   "metadata": {},
   "source": [
    "Vi kan då, precis som innan, fånga upp de olika värdena som tupel innehåller på följande sätt"
   ]
  },
  {
   "cell_type": "code",
   "execution_count": 64,
   "metadata": {},
   "outputs": [
    {
     "name": "stdout",
     "output_type": "stream",
     "text": [
      "a: 50\n",
      "b: 100\n"
     ]
    }
   ],
   "source": [
    "a, b = roligare_funktion(5)\n",
    "\n",
    "print(f'a: {a}')\n",
    "print(f'b: {b}')"
   ]
  },
  {
   "cell_type": "markdown",
   "metadata": {},
   "source": [
    "Låt oss göra detta supertydligt och skapa en funktion som returnerar MASSA värden"
   ]
  },
  {
   "cell_type": "code",
   "execution_count": 65,
   "metadata": {},
   "outputs": [],
   "source": [
    "def roligaste_funktionen(nummer):\n",
    "\n",
    "    gånger_tio = 10*nummer\n",
    "    gånger_tjugo = 20*nummer\n",
    "    gånger_trettio = 30*nummer\n",
    "\n",
    "    delat_på_två = nummer/2\n",
    "    upphöjt_till_två = nummer**2\n",
    "\n",
    "    return gånger_tio, gånger_tjugo, gånger_trettio, delat_på_två, upphöjt_till_två"
   ]
  },
  {
   "cell_type": "code",
   "execution_count": 66,
   "metadata": {},
   "outputs": [
    {
     "name": "stdout",
     "output_type": "stream",
     "text": [
      "(50, 100, 150, 2.5, 25)\n"
     ]
    }
   ],
   "source": [
    "output = roligaste_funktionen(5)\n",
    "\n",
    "print(output)"
   ]
  },
  {
   "cell_type": "code",
   "execution_count": 67,
   "metadata": {},
   "outputs": [
    {
     "name": "stdout",
     "output_type": "stream",
     "text": [
      "a: 50\n",
      "b: 100\n",
      "c: 150\n",
      "d: 2.5\n",
      "e: 25\n"
     ]
    }
   ],
   "source": [
    "a, b, c, d, e = roligaste_funktionen(5)\n",
    "\n",
    "print(f'a: {a}')\n",
    "print(f'b: {b}')\n",
    "print(f'c: {c}')\n",
    "print(f'd: {d}')\n",
    "print(f'e: {e}')"
   ]
  },
  {
   "cell_type": "markdown",
   "metadata": {},
   "source": [
    "## Hur märks detta i listkomprehensioner?"
   ]
  },
  {
   "cell_type": "code",
   "execution_count": 69,
   "metadata": {},
   "outputs": [
    {
     "data": {
      "text/plain": [
       "[('chips', 5), ('choklad', 10), ('salt lakrits', 8)]"
      ]
     },
     "execution_count": 69,
     "metadata": {},
     "output_type": "execute_result"
    }
   ],
   "source": [
    "snacks = ['chips', 'choklad', 'salt lakrits']\n",
    "prices = [5, 10, 8] \n",
    "\n",
    "[combination for combination in zip(snacks, prices)]"
   ]
  },
  {
   "cell_type": "code",
   "execution_count": 70,
   "metadata": {},
   "outputs": [
    {
     "data": {
      "text/plain": [
       "['chips kostar 5 kronor.',\n",
       " 'choklad kostar 10 kronor.',\n",
       " 'salt lakrits kostar 8 kronor.']"
      ]
     },
     "execution_count": 70,
     "metadata": {},
     "output_type": "execute_result"
    }
   ],
   "source": [
    "snacks = ['chips', 'choklad', 'salt lakrits']\n",
    "prices = [5, 10, 8] \n",
    "\n",
    "[f'{snack} kostar {price} kronor.' for snack, price in zip(snacks, prices)]"
   ]
  },
  {
   "cell_type": "markdown",
   "metadata": {},
   "source": [
    "Nu är vi på tivoli, där entrepriserna är lite... godtyckliga."
   ]
  },
  {
   "cell_type": "code",
   "execution_count": 72,
   "metadata": {},
   "outputs": [
    {
     "data": {
      "text/plain": [
       "[(5, 100), (10, 120), (15, 150)]"
      ]
     },
     "execution_count": 72,
     "metadata": {},
     "output_type": "execute_result"
    }
   ],
   "source": [
    "number_of_persons = [5, 10, 15]    # sällskapsstorlek\n",
    "price_per_person = [100, 120, 150] # pris per person, beroene på sällskapsstorlek\n",
    "\n",
    "# vi ser ovan att det blir dyrare per person, ju större sällskap man är\n",
    "\n",
    "[combination for combination in zip(number_of_persons, price_per_person)]\n"
   ]
  },
  {
   "cell_type": "code",
   "execution_count": 74,
   "metadata": {},
   "outputs": [
    {
     "data": {
      "text/plain": [
       "[500, 1200, 2250]"
      ]
     },
     "execution_count": 74,
     "metadata": {},
     "output_type": "execute_result"
    }
   ],
   "source": [
    "# nedan beräknar vi det totala sällskapspriset!\n",
    "\n",
    "[number*price for number, price in zip(number_of_persons, price_per_person)]"
   ]
  },
  {
   "cell_type": "code",
   "execution_count": 75,
   "metadata": {},
   "outputs": [
    {
     "data": {
      "text/plain": [
       "[500, 1200, 2250]"
      ]
     },
     "execution_count": 75,
     "metadata": {},
     "output_type": "execute_result"
    }
   ],
   "source": [
    "# nedan beräknar vi det totala sällskapspriset!\n",
    "\n",
    "# ofta brukar man, om det inte riskerar att skapa förvirring, använda exempelvis i,j,k etc... som dummy variables\n",
    "\n",
    "[i*j for i, j in zip(number_of_persons, price_per_person)]"
   ]
  },
  {
   "cell_type": "code",
   "execution_count": 76,
   "metadata": {},
   "outputs": [
    {
     "data": {
      "text/plain": [
       "[210, 260, 330]"
      ]
     },
     "execution_count": 76,
     "metadata": {},
     "output_type": "execute_result"
    }
   ],
   "source": [
    "# nedan utför vi helt random beräkningar, bara för att visa att VI KAN\n",
    "\n",
    "[(i+j)*2 for i, j in zip(number_of_persons, price_per_person)]"
   ]
  },
  {
   "cell_type": "markdown",
   "metadata": {},
   "source": [
    "Låt oss definiera en funktion som adderar två värden till varandra, och returnerar resultatet"
   ]
  },
  {
   "cell_type": "code",
   "execution_count": 77,
   "metadata": {},
   "outputs": [],
   "source": [
    "def addera(a, b):\n",
    "\n",
    "    summa = a+b\n",
    "\n",
    "    return summa"
   ]
  },
  {
   "cell_type": "code",
   "execution_count": 79,
   "metadata": {},
   "outputs": [
    {
     "data": {
      "text/plain": [
       "[(1, 5), (1, 8), (1, 11)]"
      ]
     },
     "execution_count": 79,
     "metadata": {},
     "output_type": "execute_result"
    }
   ],
   "source": [
    "lista_ett = [1,1,1]\n",
    "lista_random = [5, 8, 11]\n",
    "\n",
    "[combination for combination in zip(lista_ett, lista_random)]"
   ]
  },
  {
   "cell_type": "code",
   "execution_count": 80,
   "metadata": {},
   "outputs": [
    {
     "data": {
      "text/plain": [
       "['i: 1, j: 5', 'i: 1, j: 8', 'i: 1, j: 11']"
      ]
     },
     "execution_count": 80,
     "metadata": {},
     "output_type": "execute_result"
    }
   ],
   "source": [
    "[f'i: {i}, j: {j}' for i, j in zip(lista_ett, lista_random)]"
   ]
  },
  {
   "cell_type": "code",
   "execution_count": 81,
   "metadata": {},
   "outputs": [
    {
     "data": {
      "text/plain": [
       "[6, 9, 12]"
      ]
     },
     "execution_count": 81,
     "metadata": {},
     "output_type": "execute_result"
    }
   ],
   "source": [
    "[addera(i,j) for i, j in zip(lista_ett, lista_random)]"
   ]
  },
  {
   "cell_type": "markdown",
   "metadata": {},
   "source": [
    "Ok, en detalj till. Detta är nog inte så överraskande egentligen men låt oss ändå förtydliga"
   ]
  },
  {
   "cell_type": "code",
   "execution_count": 83,
   "metadata": {},
   "outputs": [
    {
     "data": {
      "text/plain": [
       "[(1, 5, 0, 10), (1, 8, 0, 20), (1, 11, 0, 30)]"
      ]
     },
     "execution_count": 83,
     "metadata": {},
     "output_type": "execute_result"
    }
   ],
   "source": [
    "lista_ett = [1,1,1]\n",
    "lista_random = [5, 8, 11]\n",
    "lista_tiotal = [10, 20, 30]\n",
    "lista_nollor = [0, 0, 0]\n",
    "\n",
    "[combination for combination in zip(lista_ett, lista_random, lista_nollor, lista_tiotal)]"
   ]
  },
  {
   "cell_type": "markdown",
   "metadata": {},
   "source": [
    "Precis som tidigare, så måste antalet dummy variables vara lika många som längden av de genererade tuplarna"
   ]
  },
  {
   "cell_type": "code",
   "execution_count": 86,
   "metadata": {},
   "outputs": [
    {
     "ename": "ValueError",
     "evalue": "too many values to unpack (expected 3)",
     "output_type": "error",
     "traceback": [
      "\u001b[1;31m---------------------------------------------------------------------------\u001b[0m",
      "\u001b[1;31mValueError\u001b[0m                                Traceback (most recent call last)",
      "Cell \u001b[1;32mIn[86], line 3\u001b[0m\n\u001b[0;32m      1\u001b[0m \u001b[38;5;66;03m# detta blir error, vi har för få dummy variables\u001b[39;00m\n\u001b[1;32m----> 3\u001b[0m [i\u001b[38;5;241m+\u001b[39mj\u001b[38;5;241m+\u001b[39mk \u001b[38;5;28;01mfor\u001b[39;00m i, j, k \u001b[38;5;129;01min\u001b[39;00m \u001b[38;5;28mzip\u001b[39m(lista_ett, lista_random, lista_nollor, lista_tiotal)]\n",
      "\u001b[1;31mValueError\u001b[0m: too many values to unpack (expected 3)"
     ]
    }
   ],
   "source": [
    "# detta blir error, vi har för få dummy variables\n",
    "\n",
    "[i+j+k for i, j, k in zip(lista_ett, lista_random, lista_nollor, lista_tiotal)]"
   ]
  },
  {
   "cell_type": "code",
   "execution_count": 89,
   "metadata": {},
   "outputs": [
    {
     "data": {
      "text/plain": [
       "[6, 9, 12]"
      ]
     },
     "execution_count": 89,
     "metadata": {},
     "output_type": "execute_result"
    }
   ],
   "source": [
    "# nedan assignar vi 4 dummy variables, vilket funkar!\n",
    "# dock använder vi inte alla i våra beräknar (specifikt l)\n",
    "# men det är HELT OK\n",
    "# python doesnt care - vad du väljer att göra med variablerna är helt upp till dig\n",
    "\n",
    "[i+j+k for i, j, k, l in zip(lista_ett, lista_random, lista_nollor, lista_tiotal)]"
   ]
  },
  {
   "cell_type": "code",
   "execution_count": null,
   "metadata": {},
   "outputs": [],
   "source": []
  }
 ],
 "metadata": {
  "kernelspec": {
   "display_name": "introduktion",
   "language": "python",
   "name": "python3"
  },
  "language_info": {
   "codemirror_mode": {
    "name": "ipython",
    "version": 3
   },
   "file_extension": ".py",
   "mimetype": "text/x-python",
   "name": "python",
   "nbconvert_exporter": "python",
   "pygments_lexer": "ipython3",
   "version": "3.12.4"
  }
 },
 "nbformat": 4,
 "nbformat_minor": 2
}
