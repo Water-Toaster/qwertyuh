{
 "cells": [
  {
   "cell_type": "markdown",
   "metadata": {},
   "source": [
    "## Fel i Python\n",
    "\n",
    "Vad är fel i Python?\n",
    "\n",
    "Ett fel i Python är generellt något som hindrar programmet från att köras som det är tänkt. Det kan vara syntaxfel, logiska fel, eller att försöka använda en variabel som inte har definierats. När ett fel uppstår i Python, så avslutas programmet och ett felmeddelande skrivs ut. Detta hjälper programmeraren att identifiera och åtgärda problemet.\n",
    "\n",
    "Det går dock att bygga in sätt att hantera fel på, och således inte få programmet att 'crasha'."
   ]
  },
  {
   "cell_type": "markdown",
   "metadata": {},
   "source": [
    "**SyntaxError**\n",
    "\n",
    "När man skriver kod på ett sätt som inte är tillåtet eller förväntat, av Python"
   ]
  },
  {
   "cell_type": "code",
   "execution_count": 2,
   "metadata": {},
   "outputs": [
    {
     "ename": "SyntaxError",
     "evalue": "expected ':' (2602242576.py, line 5)",
     "output_type": "error",
     "traceback": [
      "\u001b[1;36m  Cell \u001b[1;32mIn[2], line 5\u001b[1;36m\u001b[0m\n\u001b[1;33m    for x in range(0, 10)\u001b[0m\n\u001b[1;37m                         ^\u001b[0m\n\u001b[1;31mSyntaxError\u001b[0m\u001b[1;31m:\u001b[0m expected ':'\n"
     ]
    }
   ],
   "source": [
    "# här \"glömmer\" vi bort att lägga till det förväntade : i slutet av for-satsen. \n",
    "# Python blir såldes förvirrad, och spottar ur sig ett SyntaxError\n",
    "\n",
    "\n",
    "for x in range(0, 10)\n",
    "\n",
    "    x \n"
   ]
  },
  {
   "cell_type": "markdown",
   "metadata": {},
   "source": [
    "**NameError**\n",
    "\n",
    "När vi försöker använda ex en variabel eller funktion som inte har definierats."
   ]
  },
  {
   "cell_type": "code",
   "execution_count": 5,
   "metadata": {},
   "outputs": [
    {
     "ename": "NameError",
     "evalue": "name 'ali' is not defined",
     "output_type": "error",
     "traceback": [
      "\u001b[1;31m---------------------------------------------------------------------------\u001b[0m",
      "\u001b[1;31mNameError\u001b[0m                                 Traceback (most recent call last)",
      "Cell \u001b[1;32mIn[5], line 1\u001b[0m\n\u001b[1;32m----> 1\u001b[0m \u001b[38;5;28mprint\u001b[39m(ali)\n",
      "\u001b[1;31mNameError\u001b[0m: name 'ali' is not defined"
     ]
    }
   ],
   "source": [
    "print(ali)  # variabeln ali är inte definierad "
   ]
  },
  {
   "cell_type": "code",
   "execution_count": 7,
   "metadata": {},
   "outputs": [
    {
     "ename": "NameError",
     "evalue": "name 'prin' is not defined",
     "output_type": "error",
     "traceback": [
      "\u001b[1;31m---------------------------------------------------------------------------\u001b[0m",
      "\u001b[1;31mNameError\u001b[0m                                 Traceback (most recent call last)",
      "Cell \u001b[1;32mIn[7], line 1\u001b[0m\n\u001b[1;32m----> 1\u001b[0m prin(\u001b[38;5;124m'\u001b[39m\u001b[38;5;124mali\u001b[39m\u001b[38;5;124m'\u001b[39m)\n",
      "\u001b[1;31mNameError\u001b[0m: name 'prin' is not defined"
     ]
    }
   ],
   "source": [
    "prin('ali')  # här är funktionen prin inte definierad"
   ]
  },
  {
   "cell_type": "markdown",
   "metadata": {},
   "source": [
    "**ValueError**"
   ]
  },
  {
   "cell_type": "code",
   "execution_count": 9,
   "metadata": {},
   "outputs": [
    {
     "ename": "ValueError",
     "evalue": "math domain error",
     "output_type": "error",
     "traceback": [
      "\u001b[1;31m---------------------------------------------------------------------------\u001b[0m",
      "\u001b[1;31mValueError\u001b[0m                                Traceback (most recent call last)",
      "Cell \u001b[1;32mIn[9], line 3\u001b[0m\n\u001b[0;32m      1\u001b[0m \u001b[38;5;28;01mimport\u001b[39;00m \u001b[38;5;21;01mmath\u001b[39;00m\n\u001b[1;32m----> 3\u001b[0m math\u001b[38;5;241m.\u001b[39msqrt(\u001b[38;5;241m-\u001b[39m\u001b[38;5;241m1\u001b[39m)\n",
      "\u001b[1;31mValueError\u001b[0m: math domain error"
     ]
    }
   ],
   "source": [
    "import math\n",
    "\n",
    "math.sqrt(-1)      # Vi kan inte ta roten ur ett negativt tal"
   ]
  },
  {
   "cell_type": "code",
   "execution_count": 15,
   "metadata": {},
   "outputs": [
    {
     "ename": "ZeroDivisionError",
     "evalue": "division by zero",
     "output_type": "error",
     "traceback": [
      "\u001b[1;31m---------------------------------------------------------------------------\u001b[0m",
      "\u001b[1;31mZeroDivisionError\u001b[0m                         Traceback (most recent call last)",
      "Cell \u001b[1;32mIn[15], line 1\u001b[0m\n\u001b[1;32m----> 1\u001b[0m \u001b[38;5;241m5\u001b[39m\u001b[38;5;241m/\u001b[39m\u001b[38;5;241m0\u001b[39m\n",
      "\u001b[1;31mZeroDivisionError\u001b[0m: division by zero"
     ]
    }
   ],
   "source": [
    "5/0"
   ]
  },
  {
   "cell_type": "markdown",
   "metadata": {},
   "source": [
    "**Logiska fel**"
   ]
  },
  {
   "cell_type": "code",
   "execution_count": 16,
   "metadata": {},
   "outputs": [],
   "source": [
    "# Detta är bedömt den svåraste typen av fel, eftersom att koden inte kommer crasha dessa fall. \n",
    "# Tvärtom, så kommer koden att ändå köras, men inte ge det förväntade resultatet.\n",
    "# För programmeringen är detta en utmaning eftersom att man ofta helt missar att man får ett\n",
    "# felaktigt resultat - så man vet alltså inte ens om att det är fel!"
   ]
  },
  {
   "cell_type": "code",
   "execution_count": 19,
   "metadata": {},
   "outputs": [
    {
     "name": "stdout",
     "output_type": "stream",
     "text": [
      "Min area är 15.707963267948966\n"
     ]
    }
   ],
   "source": [
    "import math\n",
    "\n",
    "# Vi vill beräkna arean av en cirkel med radien 5.\n",
    "\n",
    "radie = 5\n",
    "\n",
    "area = math.pi*radie             # detta är fel formel, vi ska ha kvadraten av radien i formeln!\n",
    "                                 # men observera att koden ändå fungerar\n",
    "\n",
    "print(f'Min area är {area}')\n"
   ]
  },
  {
   "cell_type": "code",
   "execution_count": 20,
   "metadata": {},
   "outputs": [],
   "source": [
    "def calculate_area(radius):\n",
    "\n",
    "    import math\n",
    "\n",
    "    area = math.pi*radius\n",
    "\n",
    "    return area"
   ]
  },
  {
   "cell_type": "code",
   "execution_count": 21,
   "metadata": {},
   "outputs": [],
   "source": [
    "omkrets = 2*math.pi*radie    # rätt\n",
    "\n",
    "omrekts = 2**math.pi*radie   # fel!"
   ]
  },
  {
   "cell_type": "markdown",
   "metadata": {},
   "source": [
    "**Felhantering - Try/Case-satser**"
   ]
  },
  {
   "cell_type": "markdown",
   "metadata": {},
   "source": [
    "Låt oss börja med att konstruera kod som frågar användaren efter två tal, och som sedan multiplicerar ihop dessa"
   ]
  },
  {
   "cell_type": "code",
   "execution_count": 23,
   "metadata": {},
   "outputs": [
    {
     "ename": "ValueError",
     "evalue": "could not convert string to float: 'sara'",
     "output_type": "error",
     "traceback": [
      "\u001b[1;31m---------------------------------------------------------------------------\u001b[0m",
      "\u001b[1;31mValueError\u001b[0m                                Traceback (most recent call last)",
      "Cell \u001b[1;32mIn[23], line 1\u001b[0m\n\u001b[1;32m----> 1\u001b[0m number_1 \u001b[38;5;241m=\u001b[39m \u001b[38;5;28mfloat\u001b[39m(\u001b[38;5;28minput\u001b[39m(\u001b[38;5;124m'\u001b[39m\u001b[38;5;124mGe mig ett första tal: \u001b[39m\u001b[38;5;124m'\u001b[39m))\n\u001b[0;32m      2\u001b[0m number_2 \u001b[38;5;241m=\u001b[39m \u001b[38;5;28mfloat\u001b[39m(\u001b[38;5;28minput\u001b[39m(\u001b[38;5;124m'\u001b[39m\u001b[38;5;124mGe mig ett andra tal: \u001b[39m\u001b[38;5;124m'\u001b[39m))\n\u001b[0;32m      4\u001b[0m product \u001b[38;5;241m=\u001b[39m number_1 \u001b[38;5;241m*\u001b[39m number_2\n",
      "\u001b[1;31mValueError\u001b[0m: could not convert string to float: 'sara'"
     ]
    }
   ],
   "source": [
    "number_1 = float(input('Ge mig ett första tal: '))\n",
    "number_2 = float(input('Ge mig ett andra tal: '))\n",
    "\n",
    "product = number_1 * number_2\n",
    "\n",
    "print(f'Thanks! The product of {number_1} & {number_2} = {product}.')"
   ]
  },
  {
   "cell_type": "markdown",
   "metadata": {},
   "source": [
    "Vi märker ovan att så fort vi ex än skriver in något som inte går att konvertera till ett tal, så kommer programmet att 'crasha'. Detta är inte eftersträvansvärt, och vi kan lösa detta med hjälp av en try/except-sats."
   ]
  },
  {
   "cell_type": "code",
   "execution_count": 26,
   "metadata": {},
   "outputs": [
    {
     "name": "stdout",
     "output_type": "stream",
     "text": [
      "Sorry, ej accepterat värde.\n"
     ]
    }
   ],
   "source": [
    "try:\n",
    "    \n",
    "    number_1 = float(input('Ge mig ett första tal: '))\n",
    "    print(f'Du har angivit number_1 = {number_1}.')\n",
    "\n",
    "except:                                            # except-satsen körs ENDAST om try-satsen slänger ur sig ett fel, annars inte\n",
    "\n",
    "    print('Sorry, ej accepterat värde.')"
   ]
  },
  {
   "cell_type": "markdown",
   "metadata": {},
   "source": [
    "Egentligen är det best practice att i except-satsen specifiera vilken typ av fel som satsen hanterar"
   ]
  },
  {
   "cell_type": "code",
   "execution_count": 27,
   "metadata": {},
   "outputs": [
    {
     "name": "stdout",
     "output_type": "stream",
     "text": [
      "Sorry, ej accepterat värde.\n"
     ]
    }
   ],
   "source": [
    "try:\n",
    "    \n",
    "    number_1 = float(input('Ge mig ett första tal: '))\n",
    "    print(f'Du har angivit number_1 = {number_1}.')\n",
    "\n",
    "except ValueError:                                   # denna except-sats kommer endast köra om felet i try-satsen är ValueError\n",
    "\n",
    "    print('Sorry, ej accepterat värde.')"
   ]
  },
  {
   "cell_type": "code",
   "execution_count": null,
   "metadata": {},
   "outputs": [],
   "source": [
    "try:\n",
    "    \n",
    "    number_1 = float(input('Ge mig ett första tal: '))\n",
    "    print(f'Du har angivit number_1 = {number_1}.')\n",
    "\n",
    "except ValueError:                                   # denna except-sats kommer endast köra om felet i try-satsen är ValueError\n",
    "\n",
    "    print('Sorry, ej accepterat värde.')"
   ]
  },
  {
   "cell_type": "code",
   "execution_count": 31,
   "metadata": {},
   "outputs": [
    {
     "name": "stdout",
     "output_type": "stream",
     "text": [
      "Du har angivit number_1 = 10.0.\n",
      "Du har angivit number_2 = 0.0.\n",
      "KAN INTE DELA PÅ NOLL!!!\n"
     ]
    }
   ],
   "source": [
    "try:\n",
    "    \n",
    "    number_1 = float(input('Ge mig ett första tal: '))\n",
    "    number_2 = float(input('Ge  mig ett andra tal:'))\n",
    "    \n",
    "    print(f'Du har angivit number_1 = {number_1}.')\n",
    "    print(f'Du har angivit number_2 = {number_2}.')\n",
    "\n",
    "    kvot = number_1 / number_2\n",
    "\n",
    "    print(f'{number_1} / {number_2} = {kvot}.')\n",
    "\n",
    "except ValueError:                                   # denna except-sats kommer endast köra om felet i try-satsen är ValueError\n",
    "\n",
    "    print('Sorry, ej accepterat värde.')\n",
    "\n",
    "except ZeroDivisionError:\n",
    "\n",
    "    print('KAN INTE DELA PÅ NOLL!!!')\n",
    "\n",
    "except:                                            # denna except-sats kommer köra om felet i try-satsen är något annat än ValueError \n",
    "                                                   # eller ZeroDivisionError\n",
    "\n",
    "    pass"
   ]
  },
  {
   "cell_type": "markdown",
   "metadata": {},
   "source": [
    "**Raise**\n",
    "\n",
    "Detta är när ni själva vill framkalla ett fel!\n",
    "\n",
    "Säg att vi vill att användaren ska ange ett värde mellan 0 och 100"
   ]
  },
  {
   "cell_type": "code",
   "execution_count": null,
   "metadata": {},
   "outputs": [],
   "source": [
    "try:\n",
    "\n",
    "        value = float(input('Ge mig ett värde mellan 0 och 100: '))\n",
    "\n",
    "        if 0 <= value <= 100:\n",
    "            print(f'Du har angivit {value}, vilket är inom giltigt intervall.')\n",
    "            break\n",
    "\n",
    "        else:\n",
    "            raise ValueError\n",
    "\n",
    "    except:\n",
    "\n",
    "        print('Sorry, ej accepterat värde.')"
   ]
  },
  {
   "cell_type": "markdown",
   "metadata": {},
   "source": [
    "Nu kan vi modifera koden lite så användaren upprepat bes om en input, fram tills dess att input accepteras"
   ]
  },
  {
   "cell_type": "code",
   "execution_count": 40,
   "metadata": {},
   "outputs": [
    {
     "name": "stdout",
     "output_type": "stream",
     "text": [
      "105.0 är inte inom intervallet 0-100.\n",
      "Sorry, ej accepterat värde. Försök igen.\n",
      "Du har angivit 5.0, vilket är inom giltigt intervall.\n"
     ]
    }
   ],
   "source": [
    "\n",
    "while True:\n",
    "\n",
    "    try:\n",
    "\n",
    "        value = float(input('Ge mig ett värde mellan 0 och 100: '))\n",
    "\n",
    "        if 0 <= value <= 100:\n",
    "            print(f'Du har angivit {value}, vilket är inom giltigt intervall.')\n",
    "            break\n",
    "\n",
    "        else:\n",
    "            raise ValueError(f'{value} är inte inom intervallet 0-100.')\n",
    "\n",
    "    except:\n",
    "\n",
    "        print('Sorry, ej accepterat värde. Försök igen.')"
   ]
  },
  {
   "cell_type": "markdown",
   "metadata": {},
   "source": [
    "OBS, lägg märke till skillnaden mellan ovan samt nedan. Nedan kan ej hantera om Python spottar ur sig fel"
   ]
  },
  {
   "cell_type": "code",
   "execution_count": 38,
   "metadata": {},
   "outputs": [
    {
     "name": "stdout",
     "output_type": "stream",
     "text": [
      "Felaktigt värde, försök igen!\n"
     ]
    },
    {
     "ename": "ValueError",
     "evalue": "could not convert string to float: 'Torsten'",
     "output_type": "error",
     "traceback": [
      "\u001b[1;31m---------------------------------------------------------------------------\u001b[0m",
      "\u001b[1;31mValueError\u001b[0m                                Traceback (most recent call last)",
      "Cell \u001b[1;32mIn[38], line 3\u001b[0m\n\u001b[0;32m      1\u001b[0m \u001b[38;5;28;01mwhile\u001b[39;00m \u001b[38;5;28;01mTrue\u001b[39;00m:\n\u001b[1;32m----> 3\u001b[0m     value \u001b[38;5;241m=\u001b[39m \u001b[38;5;28mfloat\u001b[39m(\u001b[38;5;28minput\u001b[39m(\u001b[38;5;124m'\u001b[39m\u001b[38;5;124mGe mig ett värde mellan 0 och 100: \u001b[39m\u001b[38;5;124m'\u001b[39m))\n\u001b[0;32m      5\u001b[0m     \u001b[38;5;28;01mif\u001b[39;00m \u001b[38;5;241m0\u001b[39m \u001b[38;5;241m<\u001b[39m\u001b[38;5;241m=\u001b[39m value \u001b[38;5;241m<\u001b[39m\u001b[38;5;241m=\u001b[39m \u001b[38;5;241m100\u001b[39m:\n\u001b[0;32m      6\u001b[0m         \u001b[38;5;28mprint\u001b[39m(\u001b[38;5;124mf\u001b[39m\u001b[38;5;124m'\u001b[39m\u001b[38;5;124mDu har angivit \u001b[39m\u001b[38;5;132;01m{\u001b[39;00mvalue\u001b[38;5;132;01m}\u001b[39;00m\u001b[38;5;124m, vilket är inom giltigt intervall.\u001b[39m\u001b[38;5;124m'\u001b[39m)\n",
      "\u001b[1;31mValueError\u001b[0m: could not convert string to float: 'Torsten'"
     ]
    }
   ],
   "source": [
    "while True:\n",
    "\n",
    "    value = float(input('Ge mig ett värde mellan 0 och 100: '))\n",
    "\n",
    "    if 0 <= value <= 100:\n",
    "        print(f'Du har angivit {value}, vilket är inom giltigt intervall.')\n",
    "        break\n",
    "\n",
    "    else:\n",
    "        print('Felaktigt värde, försök igen!')"
   ]
  },
  {
   "cell_type": "code",
   "execution_count": null,
   "metadata": {},
   "outputs": [],
   "source": []
  }
 ],
 "metadata": {
  "kernelspec": {
   "display_name": "introduktion",
   "language": "python",
   "name": "python3"
  },
  "language_info": {
   "codemirror_mode": {
    "name": "ipython",
    "version": 3
   },
   "file_extension": ".py",
   "mimetype": "text/x-python",
   "name": "python",
   "nbconvert_exporter": "python",
   "pygments_lexer": "ipython3",
   "version": "3.12.4"
  }
 },
 "nbformat": 4,
 "nbformat_minor": 2
}
