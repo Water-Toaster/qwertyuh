{
 "cells": [
  {
   "cell_type": "markdown",
   "metadata": {},
   "source": [
    "## Introduction till Type Hints"
   ]
  },
  {
   "cell_type": "markdown",
   "metadata": {},
   "source": [
    "Type Hints är ett sätt att ytterligare underlätta för användaren av en din kod att förstå den. Specifikt används type hints för att förklara vilka datatyper som variabler förväntas ha."
   ]
  },
  {
   "cell_type": "markdown",
   "metadata": {},
   "source": [
    "Ett mycket vanlig, förmodligen den vanligaste, tillämplning av Type Hints är i samband med skapandet av funktioner. "
   ]
  },
  {
   "cell_type": "markdown",
   "metadata": {},
   "source": [
    "*exempel*"
   ]
  },
  {
   "cell_type": "code",
   "execution_count": 20,
   "metadata": {},
   "outputs": [
    {
     "name": "stdout",
     "output_type": "stream",
     "text": [
      "Hello, Arvid\n"
     ]
    }
   ],
   "source": [
    "# här gör vi en enkel funktion som tar ett argument, och som inte heller returnerar något\n",
    "\n",
    "def greet(name):\n",
    "\n",
    "    print(f\"Hello, {name}\")   # OBS vi printar här, men returnerar inte \n",
    "\n",
    "greet('Arvid')"
   ]
  },
  {
   "cell_type": "markdown",
   "metadata": {},
   "source": [
    "Vi har tidigare understrukit vikten av lämpliga variabel- och funktionsnamn för att underlätta förståelsen av kod! Type Hints är ett sätt att ytterliggare underlätta för oss.\n",
    "\n",
    "För att förtydliga vilka datatyper som variabler förväntas ha, kan man direkt \"hinta\" om dem!"
   ]
  },
  {
   "cell_type": "code",
   "execution_count": 12,
   "metadata": {},
   "outputs": [
    {
     "name": "stdout",
     "output_type": "stream",
     "text": [
      "Hello, Arvid\n",
      "Hello, [1, 2, 3]\n"
     ]
    }
   ],
   "source": [
    "# nu anger jag direkt här i funktionsdefinitionen vilken datatyp som argumentet \"name\" förväntas ha\n",
    "\n",
    "def greet(name: str):    # här hintar vi om att name-argumentet ska vara av datatypen sträng\n",
    "\n",
    "    print(f\"Hello, {name}\")\n",
    "\n",
    "greet('Arvid')\n",
    "greet([1,2,3])  # type hints är INTE påtvingande, men hjälper oss att undvika logiska fel"
   ]
  },
  {
   "cell_type": "markdown",
   "metadata": {},
   "source": [
    "Funktion med flera argument"
   ]
  },
  {
   "cell_type": "code",
   "execution_count": 21,
   "metadata": {},
   "outputs": [
    {
     "name": "stdout",
     "output_type": "stream",
     "text": [
      "Hej Lotta, du är 25 år gammal!\n",
      "Hej {}, du är tjugofem år gammal!\n"
     ]
    }
   ],
   "source": [
    "def greet(name: str, age: int):\n",
    "\n",
    "    print(f'Hej {name}, du är {age} år gammal!')\n",
    "\n",
    "greet('Lotta', 25)\n",
    "greet(name={}, age='tjugofem') # återigen, type hints forceras inte, men hjälper oss att undvika logiska fel"
   ]
  },
  {
   "cell_type": "markdown",
   "metadata": {},
   "source": [
    "Ni som är användare av en viss kod, kanske kod som annan skrivit, kan snabbt se vilka datatyper som förväntas av funktioner i den koden genom att \"hovra\" över funktionsnamnet (funkar iaf i VS Code, och andra smarta IDE:er)"
   ]
  },
  {
   "cell_type": "code",
   "execution_count": 22,
   "metadata": {},
   "outputs": [
    {
     "data": {
      "text/plain": [
       "<function __main__.greet(name: str, age: int)>"
      ]
     },
     "execution_count": 22,
     "metadata": {},
     "output_type": "execute_result"
    }
   ],
   "source": [
    "greet # hovra över denna med din mus så ser du hints:en"
   ]
  },
  {
   "cell_type": "markdown",
   "metadata": {},
   "source": [
    "**Ok, då går vi vidare**\n",
    "\n",
    "Vi kan även hinta om vad som returneras av en funktion!"
   ]
  },
  {
   "cell_type": "code",
   "execution_count": 23,
   "metadata": {},
   "outputs": [],
   "source": [
    "# när en funktion inte returnerar något, så skrivar man -> None på första raden i funktionsdefinitonen\n",
    "\n",
    "def greet(name: str, age: int) -> None:\n",
    "\n",
    "    print(f'Hej {name}, du är {age} år gammal!')"
   ]
  },
  {
   "cell_type": "markdown",
   "metadata": {},
   "source": [
    "Ok, men hur vi om funktionen returnerar något, förutom None då?"
   ]
  },
  {
   "cell_type": "code",
   "execution_count": 27,
   "metadata": {},
   "outputs": [
    {
     "name": "stdout",
     "output_type": "stream",
     "text": [
      "3 <class 'int'>\n",
      "3.5 <class 'float'>\n"
     ]
    }
   ],
   "source": [
    "def addera_tal(tal1: int, tal2: int) -> int:\n",
    "\n",
    "    return tal1 + tal2\n",
    "\n",
    "output = addera_tal(1, 2)\n",
    "print(output, type(output))\n",
    "\n",
    "output = addera_tal(1, 2.5)\n",
    "print(output, type(output))"
   ]
  },
  {
   "cell_type": "code",
   "execution_count": null,
   "metadata": {},
   "outputs": [],
   "source": [
    "addera_tal # hovra över denna med din mus så ser du hints:en"
   ]
  },
  {
   "cell_type": "markdown",
   "metadata": {},
   "source": [
    "Vi kan ange typehints för alla grundtyper som existerar i Python. Ovan har vi hitills bara använt strängar och integers, men det är inget som hindrar dig från övriga datatyper"
   ]
  },
  {
   "cell_type": "code",
   "execution_count": 29,
   "metadata": {},
   "outputs": [
    {
     "data": {
      "text/plain": [
       "25.5"
      ]
     },
     "execution_count": 29,
     "metadata": {},
     "output_type": "execute_result"
    }
   ],
   "source": [
    "# Här gör vi en funktion som tar en lista med siffror, och returnerar summan av alla siffror i listan\n",
    "\n",
    "\n",
    "def list_sum(lista: list) -> float:\n",
    "\n",
    "    return sum(lista)\n",
    "\n",
    "list_sum([1,2,3,4,5,10.5])"
   ]
  },
  {
   "cell_type": "markdown",
   "metadata": {},
   "source": [
    "**Notera** att det i fallet med, bland annat, listor fortfarande kan vara knepigt att veta vad själva listan ska innehåller för datatyper - så då kan vi gå ännu längre!"
   ]
  },
  {
   "cell_type": "code",
   "execution_count": 34,
   "metadata": {},
   "outputs": [
    {
     "data": {
      "text/plain": [
       "25.5"
      ]
     },
     "execution_count": 34,
     "metadata": {},
     "output_type": "execute_result"
    }
   ],
   "source": [
    "# nedan ska ni läsa det som att argumentet lista förväntas vara av datatypen list\n",
    "# och den listan i sig förväntas innehålla integers!\n",
    "\n",
    "def list_sum(lista: list[int]) -> int:\n",
    "\n",
    "    return sum(lista)\n",
    "\n",
    "list_sum([1,2,3,4,5,10])\n",
    "list_sum([1,2,3,4,5,10.5])    # återigen, type hints forceras inte"
   ]
  },
  {
   "cell_type": "markdown",
   "metadata": {},
   "source": [
    "Vi kan givetvis också returnera listor & annat"
   ]
  },
  {
   "cell_type": "code",
   "execution_count": 36,
   "metadata": {},
   "outputs": [
    {
     "name": "stdout",
     "output_type": "stream",
     "text": [
      "[2.0, 4.0]\n"
     ]
    }
   ],
   "source": [
    "# nedan gör vi en funktion som tar en lista med siffror som input, och returnerar en lista med siffrorna multiplicerade med 2\n",
    "\n",
    "def list_multiplied_by_two(lista: list[float]) -> list[float]:\n",
    "\n",
    "    return [tal*2 for tal in lista]\n",
    "\n",
    "output = list_multiplied_by_two([1.0, 2.0])\n",
    "print(output)"
   ]
  },
  {
   "cell_type": "markdown",
   "metadata": {},
   "source": [
    "**Hur gör vi med dictionaries?**\n",
    "\n",
    "För dictionaries behöver vi ange vilken datatyp nycklarna och respektive värden ska vara av."
   ]
  },
  {
   "cell_type": "code",
   "execution_count": 37,
   "metadata": {},
   "outputs": [],
   "source": [
    "# nedan skapar vi en funktion som tar emot en matsedel (dictionary) som input, \n",
    "# och printar helt enkelt ut den (utan att returnera något)"
   ]
  },
  {
   "cell_type": "code",
   "execution_count": 39,
   "metadata": {},
   "outputs": [
    {
     "name": "stdout",
     "output_type": "stream",
     "text": [
      "På Måndag äter vi Spaghetti. Mums!\n",
      "På Tisdag äter vi Pizza. Mums!\n",
      "På Onsdag äter vi Sushi. Mums!\n",
      "På Torsdag äter vi Pasta. Mums!\n",
      "På Fredag äter vi Köttbullar. Mums!\n"
     ]
    }
   ],
   "source": [
    "matsedel = {'Måndag': 'Spaghetti', \n",
    "            'Tisdag': 'Pizza', \n",
    "            'Onsdag': 'Sushi', \n",
    "            'Torsdag': 'Pasta', \n",
    "            'Fredag': 'Köttbullar'}\n",
    "\n",
    "\n",
    "# nedan anger vi att funktionens argument förväntas vara en dictionary där både nycklarna och värdena är strängar\n",
    "# samta att funktionen inte returnar något, dvs None\n",
    "\n",
    "def print_matsedel(matsedel: dict[str, str]) -> None:\n",
    "\n",
    "    for dag, mat in matsedel.items():\n",
    "\n",
    "        print(f'På {dag} äter vi {mat}. Mums!')\n",
    "\n",
    "\n",
    "print_matsedel(matsedel)"
   ]
  },
  {
   "cell_type": "markdown",
   "metadata": {},
   "source": [
    "**Tuplar**\n",
    "\n",
    "Tuplar fungerar som listor, vi behöver bara ange vilka datatyper som tuplar förväntas innehålla"
   ]
  },
  {
   "cell_type": "code",
   "execution_count": 40,
   "metadata": {},
   "outputs": [
    {
     "data": {
      "text/plain": [
       "3.0"
      ]
     },
     "execution_count": 40,
     "metadata": {},
     "output_type": "execute_result"
    }
   ],
   "source": [
    "# låt oss göra en funktion här som tar en tuple av floats och returnerar medelvärdet av dessa floats\n",
    "\n",
    "def calculate_mean(en_tupel: tuple[float]) -> float:\n",
    "\n",
    "    mean_value = sum(en_tupel) / len(en_tupel) \n",
    "\n",
    "    return mean_value\n",
    "\n",
    "calculate_mean((1.0, 2.0, 3.0, 4.0, 5.0))"
   ]
  },
  {
   "cell_type": "markdown",
   "metadata": {},
   "source": [
    "**SÅ GENERELLT SÄTT**\n",
    "\n",
    "Type Hints skrivs på följande format i funktioner\n",
    "\n",
    "        def function_name(argument1: datatype1, argument2: datatype2, ...) -> return_datatype:"
   ]
  },
  {
   "cell_type": "markdown",
   "metadata": {},
   "source": [
    "**Vad händer när man returnerar FLER än ett objekt?**"
   ]
  },
  {
   "cell_type": "markdown",
   "metadata": {},
   "source": [
    "*exempel*\n",
    "\n",
    "En funktion som multiplicerar ett tal med 2 och även adderar 10 till samma ursprungliga tal, och därefter returnar båda"
   ]
  },
  {
   "cell_type": "code",
   "execution_count": 47,
   "metadata": {},
   "outputs": [
    {
     "name": "stdout",
     "output_type": "stream",
     "text": [
      "(10, 15, 1.4285714285714286)\n"
     ]
    }
   ],
   "source": [
    "# när en funktion returerar fler än en output, så kommer det alltid i form av en tupel\n",
    "# vi kan då ange detta, samt vilken datatyp respektive värde i tupeln förvänas ha\n",
    "\n",
    "def some_calculations(number: int) -> tuple[int, int, float]:\n",
    "\n",
    "    times_two = number*2\n",
    "    added_ten = number+10\n",
    "    divided_by_3_point_five = number / 3.5\n",
    "\n",
    "    return times_two, added_ten, divided_by_3_point_five\n",
    "\n",
    "output = some_calculations(5)\n",
    "print(output)"
   ]
  },
  {
   "cell_type": "markdown",
   "metadata": {},
   "source": [
    "**Funktioner med båda mandatory och optional parameters**\n",
    "\n",
    "Vi har tidigare sett att vi kan sätta default value på argument. Hur funkar det i kombination med Type Hints?"
   ]
  },
  {
   "cell_type": "code",
   "execution_count": 50,
   "metadata": {},
   "outputs": [
    {
     "name": "stdout",
     "output_type": "stream",
     "text": [
      "50.0\n"
     ]
    }
   ],
   "source": [
    "# type hints skrivs alltid innan default värdet\n",
    "\n",
    "def calculate_area(length: float, width: float = 10.0) -> float:\n",
    "\n",
    "    area = length * width\n",
    "\n",
    "    return area\n",
    "\n",
    "output = calculate_area(length=5)\n",
    "print(output)"
   ]
  },
  {
   "cell_type": "markdown",
   "metadata": {},
   "source": [
    "**Allowing arguments to be of different datatypes**"
   ]
  },
  {
   "cell_type": "markdown",
   "metadata": {},
   "source": [
    "För att markera att viss argument får anta fler än en datatyp, kan vi använda oss av Union"
   ]
  },
  {
   "cell_type": "code",
   "execution_count": 1,
   "metadata": {},
   "outputs": [],
   "source": [
    "from typing import Union\n",
    "\n",
    "# här visar vi att både a & b kan vara antingen int eller float\n",
    "\n",
    "def multiply_numbers(a: Union[int, float], b: Union[int, float]) -> Union[int, float]:\n",
    "\n",
    "    return a * b \n",
    "\n",
    "# orealistiskt exempel med ännu fler acceptable datatyper\n",
    "\n",
    "def multiply_numbers(a: Union[int, float], b: Union[int, float, str, list]) -> Union[int, float]:\n",
    "\n",
    "    return a * b"
   ]
  },
  {
   "cell_type": "code",
   "execution_count": 3,
   "metadata": {},
   "outputs": [],
   "source": [
    "# vi kan faktiskt indikera flera acceptable datatyper utan att använda union också, isåfall nyttjar vi |\n",
    "\n",
    "def multiply_numbers(a: int|float, b: int|float) -> int|float:\n",
    "\n",
    "    return a * b \n",
    "\n",
    "# orealistiskt exempel med ännu fler acceptable datatyper\n",
    "\n",
    "def multiply_numbers(a: int|float, b: int|float) -> int|float|str|list:\n",
    "\n",
    "    return a * b "
   ]
  },
  {
   "cell_type": "markdown",
   "metadata": {},
   "source": [
    "**OK, men en variabel som får vara vilken datatyp som helst då? Hur indikerar vi det?**"
   ]
  },
  {
   "cell_type": "markdown",
   "metadata": {},
   "source": [
    "Jo, det gör vi med \"Any\""
   ]
  },
  {
   "cell_type": "code",
   "execution_count": 19,
   "metadata": {},
   "outputs": [],
   "source": [
    "from typing import Any\n",
    "\n",
    "# Any betyder att det kan vilken datatyp som helst\n",
    "\n",
    "def print_something(argument: Any) -> None:\n",
    "\n",
    "    print(argument)"
   ]
  },
  {
   "cell_type": "code",
   "execution_count": 20,
   "metadata": {},
   "outputs": [
    {
     "name": "stdout",
     "output_type": "stream",
     "text": [
      "['HAHAHA', 'hohoo']\n"
     ]
    }
   ],
   "source": [
    "print_something(['HAHAHA', 'hohoo'])"
   ]
  },
  {
   "cell_type": "markdown",
   "metadata": {},
   "source": [
    "## Docstrings\n",
    "\n"
   ]
  },
  {
   "cell_type": "markdown",
   "metadata": {},
   "source": [
    "Docstrings är ännu ett sätt för dig göra din kod tydlig och beggrippar för andra. Specikt är docsträngar förklarande strängar som hör till funktioner."
   ]
  },
  {
   "cell_type": "markdown",
   "metadata": {},
   "source": [
    "*exempel*\n",
    "\n",
    "Låt oss göra en väldigt enkel funktion som multiplicerar två tal"
   ]
  },
  {
   "cell_type": "code",
   "execution_count": 53,
   "metadata": {},
   "outputs": [
    {
     "name": "stdout",
     "output_type": "stream",
     "text": [
      "6\n"
     ]
    }
   ],
   "source": [
    "def multiply(a: float, b: float) -> float:\n",
    "\n",
    "    \"\"\"\n",
    "    Multiply two numbers and return the product.\n",
    "\n",
    "    Args:\n",
    "        a (float): The first number to multiply.\n",
    "        b (float): The second number to multiply.\n",
    "\n",
    "    Returns:\n",
    "       float: The product of a and b.\n",
    "    \"\"\"\n",
    "\n",
    "    product = a * b\n",
    "\n",
    "    return product\n",
    "\n",
    "output = multiply(2, 3)\n",
    "print(output)"
   ]
  },
  {
   "cell_type": "code",
   "execution_count": null,
   "metadata": {},
   "outputs": [],
   "source": [
    "multiply # hovra "
   ]
  },
  {
   "cell_type": "code",
   "execution_count": 54,
   "metadata": {},
   "outputs": [
    {
     "name": "stdout",
     "output_type": "stream",
     "text": [
      "På Måndag äter vi Spaghetti. Mums!\n",
      "På Tisdag äter vi Pizza. Mums!\n",
      "På Onsdag äter vi Sushi. Mums!\n",
      "På Torsdag äter vi Pasta. Mums!\n",
      "På Fredag äter vi Köttbullar. Mums!\n"
     ]
    }
   ],
   "source": [
    "matsedel = {'Måndag': 'Spaghetti', \n",
    "            'Tisdag': 'Pizza', \n",
    "            'Onsdag': 'Sushi', \n",
    "            'Torsdag': 'Pasta', \n",
    "            'Fredag': 'Köttbullar'}\n",
    "\n",
    "\n",
    "def print_matsedel(matsedel: dict[str, str]) -> None:\n",
    "\n",
    "    \"\"\"\n",
    "    En funktion som skriver ut en matsedel direkt i terminalen, givet en dictionary av veckans matsedel.\n",
    "\n",
    "    Args:\n",
    "        matsedel (dict[str, str]): En dictionary som innehåller veckans matsedel, där nycklarna är veckodagar och värdena är respektive serverad maträtt.\n",
    "    \n",
    "    Returns:\n",
    "        None\n",
    "    \"\"\"\n",
    "\n",
    "    for dag, mat in matsedel.items():\n",
    "\n",
    "        print(f'På {dag} äter vi {mat}. Mums!')\n",
    "\n",
    "\n",
    "print_matsedel(matsedel)"
   ]
  },
  {
   "cell_type": "code",
   "execution_count": null,
   "metadata": {},
   "outputs": [],
   "source": [
    "print_matsedel # hovra"
   ]
  },
  {
   "cell_type": "markdown",
   "metadata": {},
   "source": [
    "**Så, en docsträng är alltså ett ytterligare sätt för dig att dokumentera vad funktionen gör samt förtydliga vad argumenten är och vad som returneras av funktionen**"
   ]
  },
  {
   "cell_type": "markdown",
   "metadata": {},
   "source": [
    "___"
   ]
  },
  {
   "cell_type": "markdown",
   "metadata": {},
   "source": [
    "Ni kan komma åt docsträngar för en given funktion på olika sätt. Antingen kan ni hovra över funktionen som vi gjort ovan, eller på följande vis"
   ]
  },
  {
   "cell_type": "markdown",
   "metadata": {},
   "source": [
    "*help*"
   ]
  },
  {
   "cell_type": "code",
   "execution_count": 55,
   "metadata": {},
   "outputs": [
    {
     "name": "stdout",
     "output_type": "stream",
     "text": [
      "Help on function print_matsedel in module __main__:\n",
      "\n",
      "print_matsedel(matsedel: dict[str, str]) -> None\n",
      "    En funktion som skriver ut en matsedel direkt i terminalen, givet en dictionary av veckans matsedel.\n",
      "\n",
      "    Args:\n",
      "        matsedel (dict[str, str]): En dictionary som innehåller veckans matsedel, där nycklarna är veckodagar och värdena är respektive serverad maträtt.\n",
      "\n",
      "    Returns:\n",
      "        None\n",
      "\n"
     ]
    }
   ],
   "source": [
    "help(print_matsedel)"
   ]
  },
  {
   "cell_type": "code",
   "execution_count": 56,
   "metadata": {},
   "outputs": [
    {
     "name": "stdout",
     "output_type": "stream",
     "text": [
      "Help on built-in function print in module builtins:\n",
      "\n",
      "print(*args, sep=' ', end='\\n', file=None, flush=False)\n",
      "    Prints the values to a stream, or to sys.stdout by default.\n",
      "\n",
      "    sep\n",
      "      string inserted between values, default a space.\n",
      "    end\n",
      "      string appended after the last value, default a newline.\n",
      "    file\n",
      "      a file-like object (stream); defaults to the current sys.stdout.\n",
      "    flush\n",
      "      whether to forcibly flush the stream.\n",
      "\n"
     ]
    }
   ],
   "source": [
    "help(print)"
   ]
  },
  {
   "cell_type": "markdown",
   "metadata": {},
   "source": [
    "*.__doc__*"
   ]
  },
  {
   "cell_type": "code",
   "execution_count": 58,
   "metadata": {},
   "outputs": [
    {
     "name": "stdout",
     "output_type": "stream",
     "text": [
      "\n",
      "    En funktion som skriver ut en matsedel direkt i terminalen, givet en dictionary av veckans matsedel.\n",
      "\n",
      "    Args:\n",
      "        matsedel (dict[str, str]): En dictionary som innehåller veckans matsedel, där nycklarna är veckodagar och värdena är respektive serverad maträtt.\n",
      "    \n",
      "    Returns:\n",
      "        None\n",
      "    \n"
     ]
    }
   ],
   "source": [
    "print(print_matsedel.__doc__)"
   ]
  },
  {
   "cell_type": "code",
   "execution_count": null,
   "metadata": {},
   "outputs": [],
   "source": []
  }
 ],
 "metadata": {
  "kernelspec": {
   "display_name": "introduktion",
   "language": "python",
   "name": "python3"
  },
  "language_info": {
   "codemirror_mode": {
    "name": "ipython",
    "version": 3
   },
   "file_extension": ".py",
   "mimetype": "text/x-python",
   "name": "python",
   "nbconvert_exporter": "python",
   "pygments_lexer": "ipython3",
   "version": "3.12.4"
  }
 },
 "nbformat": 4,
 "nbformat_minor": 2
}
