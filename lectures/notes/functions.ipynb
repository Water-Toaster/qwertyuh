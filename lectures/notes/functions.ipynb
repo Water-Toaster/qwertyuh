{
 "cells": [
  {
   "cell_type": "markdown",
   "metadata": {},
   "source": [
    "## Funktioner\n"
   ]
  },
  {
   "cell_type": "markdown",
   "metadata": {},
   "source": [
    "Vad är en funktion?\n",
    "\n",
    "En funktion är inget annat än en snutt kod som man kan återanvända när man vill"
   ]
  },
  {
   "cell_type": "markdown",
   "metadata": {},
   "source": [
    "Vi har stött på många funktioner tidigare. Ett exempel är print()-funktionen"
   ]
  },
  {
   "cell_type": "code",
   "execution_count": 1,
   "metadata": {},
   "outputs": [
    {
     "name": "stdout",
     "output_type": "stream",
     "text": [
      "Ali\n"
     ]
    }
   ],
   "source": [
    "print('Ali')"
   ]
  },
  {
   "cell_type": "markdown",
   "metadata": {},
   "source": [
    "Ett annat exempel är round()"
   ]
  },
  {
   "cell_type": "code",
   "execution_count": 2,
   "metadata": {},
   "outputs": [
    {
     "data": {
      "text/plain": [
       "3"
      ]
     },
     "execution_count": 2,
     "metadata": {},
     "output_type": "execute_result"
    }
   ],
   "source": [
    "round(3.141592653589793)"
   ]
  },
  {
   "cell_type": "markdown",
   "metadata": {},
   "source": [
    "En funktion har det allmänna utseendet\n",
    "\n",
    "$ funktionsnamn(argument_1, argument_2, ...) $\n",
    "\n",
    "funktioner kan alltså ha ett, eller flera, argument."
   ]
  },
  {
   "cell_type": "code",
   "execution_count": 7,
   "metadata": {},
   "outputs": [
    {
     "name": "stdout",
     "output_type": "stream",
     "text": [
      "Ali\n",
      "3.14159\n"
     ]
    }
   ],
   "source": [
    "# i vårt exempel ovan, har print() endast ett argument\n",
    "\n",
    "print('Ali')\n",
    "\n",
    "# men vi kan också ha fler argument, som för round()\n",
    "\n",
    "print(round(3.141592653589793, 5))"
   ]
  },
  {
   "cell_type": "markdown",
   "metadata": {},
   "source": [
    "Notera att det är mycket viktigt i vilken ordning du anger argumenten! Testa byta ordning på argumenten i round()-funktionen ovan, och se vad som händer."
   ]
  },
  {
   "cell_type": "markdown",
   "metadata": {},
   "source": [
    "___"
   ]
  },
  {
   "cell_type": "markdown",
   "metadata": {},
   "source": [
    "## Vi kan bygga våra egna funktioner!"
   ]
  },
  {
   "cell_type": "markdown",
   "metadata": {},
   "source": [
    "Anledningen till varför vi skulle göra det, är för att vi vill kunna använda vissa kodsnuttat flera gånger, vid flera olika tillfällen, och samtidigt inte behöva skriva om samma kod hela tiden"
   ]
  },
  {
   "cell_type": "code",
   "execution_count": 32,
   "metadata": {},
   "outputs": [
    {
     "name": "stdout",
     "output_type": "stream",
     "text": [
      "Hej kära du!\n",
      "Angenämt, Ali.\n"
     ]
    }
   ],
   "source": [
    "print('Hej kära du!')\n",
    "name = input('Vad heter du? ')\n",
    "\n",
    "print(f'Angenämt, {name}.')"
   ]
  },
  {
   "cell_type": "code",
   "execution_count": 60,
   "metadata": {},
   "outputs": [],
   "source": [
    "name = 'Anders'"
   ]
  },
  {
   "cell_type": "code",
   "execution_count": 73,
   "metadata": {},
   "outputs": [
    {
     "name": "stdout",
     "output_type": "stream",
     "text": [
      "Anders\n"
     ]
    }
   ],
   "source": [
    "print(name)"
   ]
  },
  {
   "cell_type": "code",
   "execution_count": 63,
   "metadata": {},
   "outputs": [],
   "source": [
    "def greeting():\n",
    "\n",
    "    print('Hej kära du!')\n",
    "    name = input('Vad heter du? ')\n",
    "\n",
    "    print(f'Angenämt, {name}.')\n"
   ]
  },
  {
   "cell_type": "code",
   "execution_count": 64,
   "metadata": {},
   "outputs": [
    {
     "name": "stdout",
     "output_type": "stream",
     "text": [
      "Hej kära du!\n",
      "Angenämt, Gunilla.\n"
     ]
    }
   ],
   "source": [
    "greeting()"
   ]
  },
  {
   "cell_type": "markdown",
   "metadata": {},
   "source": [
    "___"
   ]
  },
  {
   "cell_type": "markdown",
   "metadata": {},
   "source": [
    "## Uttöka våra funktioner med möjlighet att ta emot argument"
   ]
  },
  {
   "cell_type": "markdown",
   "metadata": {},
   "source": [
    "Låt oss nu anta att vi vill skapa en funktion som adderar två tal, och att användaren ska ge oss dessa två tal"
   ]
  },
  {
   "cell_type": "markdown",
   "metadata": {},
   "source": [
    "För att visa Python att vi vill att funktionen ska acceptera två argument, anger vi det helt enkelt när vi definierar funktionen"
   ]
  },
  {
   "cell_type": "code",
   "execution_count": 20,
   "metadata": {},
   "outputs": [],
   "source": [
    "def addera_nummer(number_1, number_2):\n",
    "\n",
    "    print(f'number_1: {number_1}.')\n",
    "    print(f'number_2: {number_2}.')\n",
    "\n",
    "    summa = number_1 + number_2\n",
    "\n",
    "    print(f'Summan är {summa}.')"
   ]
  },
  {
   "cell_type": "code",
   "execution_count": 27,
   "metadata": {},
   "outputs": [
    {
     "name": "stdout",
     "output_type": "stream",
     "text": [
      "number_1: 10.\n",
      "number_2: 5.\n",
      "Summan är 15.\n"
     ]
    }
   ],
   "source": [
    "addera_nummer(10, 5)"
   ]
  },
  {
   "cell_type": "markdown",
   "metadata": {},
   "source": [
    "Lägg ovan märke till att Python assignade \n",
    "\n",
    "* variabeln number_1 till det första argumentet vi gav funktionen när vi kallade på den, i detta fall 5\n",
    "* variabeln number_2 till den andra argumentet vi gav funktionen när vi kallade på den, i detta fall 10"
   ]
  },
  {
   "cell_type": "markdown",
   "metadata": {},
   "source": [
    "___"
   ]
  },
  {
   "cell_type": "markdown",
   "metadata": {},
   "source": [
    "## Ordningen av argument"
   ]
  },
  {
   "cell_type": "markdown",
   "metadata": {},
   "source": [
    "För att förstå varför det är viktigt med ordningen vi anger variabler, låt oss skapa en funktion som istället subtraherar två tal"
   ]
  },
  {
   "cell_type": "code",
   "execution_count": 22,
   "metadata": {},
   "outputs": [],
   "source": [
    "def subtrahera_nummer(number_1, number_2):\n",
    "\n",
    "    print(f'number_1: {number_1}.')\n",
    "    print(f'number_2: {number_2}.')\n",
    "\n",
    "    differens = number_1 - number_2\n",
    "\n",
    "    print(f'Differensen är {differens}.')"
   ]
  },
  {
   "cell_type": "code",
   "execution_count": 24,
   "metadata": {},
   "outputs": [
    {
     "name": "stdout",
     "output_type": "stream",
     "text": [
      "number_1: 5.\n",
      "number_2: 10.\n",
      "Differensen är -5.\n"
     ]
    }
   ],
   "source": [
    "subtrahera_nummer(5, 10)"
   ]
  },
  {
   "cell_type": "markdown",
   "metadata": {},
   "source": [
    "**Ordningen som argument anges är således mycket viktigt**"
   ]
  },
  {
   "cell_type": "markdown",
   "metadata": {},
   "source": [
    "___"
   ]
  },
  {
   "cell_type": "markdown",
   "metadata": {},
   "source": [
    "## Default values"
   ]
  },
  {
   "cell_type": "markdown",
   "metadata": {},
   "source": [
    "Som vi sett tidigare har vissa funktioner default values.\n",
    "\n",
    "Print har ett default value för argumentet end. Det värdet är end='\\n', dvs en ny rad.\n",
    "\n",
    "Om inte annat anges, kommer print att skriva ut argumentet som du anger - och därefter avsluta med en ny rad"
   ]
  },
  {
   "cell_type": "code",
   "execution_count": 76,
   "metadata": {},
   "outputs": [
    {
     "name": "stdout",
     "output_type": "stream",
     "text": [
      "ali\n",
      "josef\n"
     ]
    }
   ],
   "source": [
    "print('ali')\n",
    "print('josef', end='\\n')   #default värde på end-argumentet, avslutar din print med att hoppa till en ny rad"
   ]
  },
  {
   "cell_type": "markdown",
   "metadata": {},
   "source": [
    "Vi kan skriva över default värdet för end genom att direkt ange ett annat värde för den"
   ]
  },
  {
   "cell_type": "code",
   "execution_count": 78,
   "metadata": {},
   "outputs": [
    {
     "name": "stdout",
     "output_type": "stream",
     "text": [
      "ali****josef\n"
     ]
    }
   ],
   "source": [
    "print('ali', end='****')\n",
    "print('josef')"
   ]
  },
  {
   "cell_type": "markdown",
   "metadata": {},
   "source": [
    "___\n",
    "\n",
    "## Sätt egna default values i våra funktioner"
   ]
  },
  {
   "cell_type": "markdown",
   "metadata": {},
   "source": [
    "När vi definierar en funktion kan vi argumenten default values genom att direkt ange ett värde för respektive argument, när vi definierar funktionen"
   ]
  },
  {
   "cell_type": "code",
   "execution_count": 80,
   "metadata": {},
   "outputs": [],
   "source": [
    "def say_hello(name='Hampus'):\n",
    "\n",
    "    print(f'Hej {name}!')"
   ]
  },
  {
   "cell_type": "code",
   "execution_count": 83,
   "metadata": {},
   "outputs": [
    {
     "name": "stdout",
     "output_type": "stream",
     "text": [
      "Hej Anders!\n",
      "Hej Anders!\n"
     ]
    }
   ],
   "source": [
    "say_hello(name='Anders')\n",
    "\n",
    "say_hello('Anders')"
   ]
  },
  {
   "cell_type": "markdown",
   "metadata": {},
   "source": [
    "## Vi kan definiera funkioner med både argument med & utan default values"
   ]
  },
  {
   "cell_type": "code",
   "execution_count": 86,
   "metadata": {},
   "outputs": [],
   "source": [
    "# låt oss skapa en funktion som multiplicerar sina tre argument, där vi ger en av argumenten ett default värde"
   ]
  },
  {
   "cell_type": "code",
   "execution_count": 113,
   "metadata": {},
   "outputs": [],
   "source": [
    "def multiplikation(x, y, z=10):\n",
    "\n",
    "    print(f'x={x}')\n",
    "    print(f'y={y}')\n",
    "    print(f'z={z}')\n",
    "    \n",
    "    produkt = x*y*z\n",
    "\n",
    "    print(f'produkten av {x}, {y}, {z} är {produkt}.')"
   ]
  },
  {
   "cell_type": "code",
   "execution_count": 114,
   "metadata": {},
   "outputs": [
    {
     "name": "stdout",
     "output_type": "stream",
     "text": [
      "x=2\n",
      "y=3\n",
      "z=5\n",
      "produkten av 2, 3, 5 är 30.\n"
     ]
    }
   ],
   "source": [
    "multiplikation(2, 3, 5)"
   ]
  },
  {
   "cell_type": "code",
   "execution_count": 99,
   "metadata": {},
   "outputs": [
    {
     "name": "stdout",
     "output_type": "stream",
     "text": [
      "x=2\n",
      "y=3\n",
      "z=5\n",
      "produkten av 2, 3, 5 är 30.\n"
     ]
    }
   ],
   "source": [
    "multiplikation(2,3,5)"
   ]
  },
  {
   "cell_type": "markdown",
   "metadata": {},
   "source": [
    "**OBS**\n",
    "\n",
    "Du behöver inte alltid explicit ange variabelnamn i argumenten, python kommer automatiskt försöka matcha åt dig"
   ]
  },
  {
   "cell_type": "code",
   "execution_count": 100,
   "metadata": {},
   "outputs": [
    {
     "name": "stdout",
     "output_type": "stream",
     "text": [
      "x=2\n",
      "y=3\n",
      "z=5\n",
      "produkten av 2, 3, 5 är 30.\n"
     ]
    }
   ],
   "source": [
    "multiplikation(2,3,5)"
   ]
  },
  {
   "cell_type": "code",
   "execution_count": 101,
   "metadata": {},
   "outputs": [
    {
     "name": "stdout",
     "output_type": "stream",
     "text": [
      "x=2\n",
      "y=3\n",
      "z=5\n",
      "produkten av 2, 3, 5 är 30.\n"
     ]
    }
   ],
   "source": [
    "multiplikation(x=2,y=3,z=5)"
   ]
  },
  {
   "cell_type": "markdown",
   "metadata": {},
   "source": [
    "Python kommer nedan att försöka matcha de argument du ger till funktionen, till de argument som funktionen förväntar sig"
   ]
  },
  {
   "cell_type": "markdown",
   "metadata": {},
   "source": [
    "Som vi ser så gör Python det i tur-och-ordning. Det första argumentet vi gav funktionen när vi kallade på den (2) assignade Python till det\n",
    "första argumentet den förväntar sig (x). Sen fortsatte den i satta vårt andra angivna argument (3) till det andra argumenten den förväntar sig (y)\n",
    "\n",
    "Att ange argument till en funktion på det här sättet går bra! Men man måste tänka till lite..."
   ]
  },
  {
   "cell_type": "markdown",
   "metadata": {},
   "source": [
    "___\n",
    "\n",
    "## Blanda ej ordningen på explicit och implicit angivna argument \n",
    "\n",
    "\n",
    "För att inte förvirra Python och skapa error är det viktigt att vi inte gör som nedan, där vi explicit angett z=10, och sedan gett två implicita (ej namngivna)argument ytterligare.\n",
    "\n",
    "Python blir förvirrad och förstår inte hur den ska hantera detta fall (den vet inte vilket argument den ska assigna till x, och vilken till y)"
   ]
  },
  {
   "cell_type": "code",
   "execution_count": 102,
   "metadata": {},
   "outputs": [
    {
     "name": "stdout",
     "output_type": "stream",
     "text": [
      "x=2\n",
      "y=3\n",
      "z=10\n",
      "produkten av 2, 3, 10 är 60.\n"
     ]
    }
   ],
   "source": [
    "multiplikation(x=2, y=3, z=10)"
   ]
  },
  {
   "cell_type": "code",
   "execution_count": 103,
   "metadata": {},
   "outputs": [
    {
     "name": "stdout",
     "output_type": "stream",
     "text": [
      "x=2\n",
      "y=3\n",
      "z=10\n",
      "produkten av 2, 3, 10 är 60.\n"
     ]
    }
   ],
   "source": [
    "multiplikation(2, 3, 10)"
   ]
  },
  {
   "cell_type": "code",
   "execution_count": 105,
   "metadata": {},
   "outputs": [
    {
     "name": "stdout",
     "output_type": "stream",
     "text": [
      "x=2\n",
      "y=3\n",
      "z=10\n",
      "produkten av 2, 3, 10 är 60.\n"
     ]
    }
   ],
   "source": [
    "multiplikation(2, 3, z=10)"
   ]
  },
  {
   "cell_type": "code",
   "execution_count": 106,
   "metadata": {},
   "outputs": [
    {
     "ename": "SyntaxError",
     "evalue": "positional argument follows keyword argument (2005354134.py, line 1)",
     "output_type": "error",
     "traceback": [
      "\u001b[1;36m  Cell \u001b[1;32mIn[106], line 1\u001b[1;36m\u001b[0m\n\u001b[1;33m    multiplikation(z=10, 2, 3)\u001b[0m\n\u001b[1;37m                             ^\u001b[0m\n\u001b[1;31mSyntaxError\u001b[0m\u001b[1;31m:\u001b[0m positional argument follows keyword argument\n"
     ]
    }
   ],
   "source": [
    "multiplikation(z=10, 2, 3)"
   ]
  },
  {
   "cell_type": "code",
   "execution_count": 104,
   "metadata": {},
   "outputs": [
    {
     "name": "stdout",
     "output_type": "stream",
     "text": [
      "Ali***"
     ]
    }
   ],
   "source": [
    "print('Ali', end='***')"
   ]
  },
  {
   "cell_type": "markdown",
   "metadata": {},
   "source": [
    "När ni kallar på en funktion, är det därför superviktigt att argumenten som anges explicit görs efter de som implicit anges"
   ]
  },
  {
   "cell_type": "markdown",
   "metadata": {},
   "source": [
    "Nu förstod Python hur den ska assigna argumenten!"
   ]
  },
  {
   "cell_type": "markdown",
   "metadata": {},
   "source": [
    "___\n",
    "\n",
    "## Return"
   ]
  },
  {
   "cell_type": "markdown",
   "metadata": {},
   "source": [
    "Ofta vill man att våra funktioner också ska ge oss en output, som vi kan ta och bearbeta vidare på något sätt. \n",
    "\n",
    "För att visa Python vad ni vill att funktionen ska 'returna' som output, gör ni det med en return-markering i slutet av funktionen"
   ]
  },
  {
   "cell_type": "code",
   "execution_count": 127,
   "metadata": {},
   "outputs": [],
   "source": [
    "min_globala_variabel = 'DETTA ÄR GLOBALT'"
   ]
  },
  {
   "cell_type": "code",
   "execution_count": 130,
   "metadata": {},
   "outputs": [],
   "source": [
    "def beräkna_area(bas, höjd, placeholder_global):\n",
    "\n",
    "    print(placeholder_global)\n",
    "\n",
    "    print(f'Bas: {bas}.')\n",
    "    print(f'Höjd: {höjd}.')\n",
    "\n",
    "    area = (bas*höjd)/2\n",
    "\n",
    "    print(f'Area: {area}.')\n",
    "\n",
    "    return area"
   ]
  },
  {
   "cell_type": "code",
   "execution_count": 132,
   "metadata": {},
   "outputs": [
    {
     "name": "stdout",
     "output_type": "stream",
     "text": [
      "DETTA ÄR GLOBALT\n",
      "Bas: 5.\n",
      "Höjd: 10.\n",
      "Area: 25.0.\n"
     ]
    }
   ],
   "source": [
    "min_area = beräkna_area(5, 10, min_globala_variabel)"
   ]
  },
  {
   "cell_type": "code",
   "execution_count": 121,
   "metadata": {},
   "outputs": [
    {
     "data": {
      "text/plain": [
       "25.0"
      ]
     },
     "execution_count": 121,
     "metadata": {},
     "output_type": "execute_result"
    }
   ],
   "source": [
    "min_area"
   ]
  },
  {
   "cell_type": "code",
   "execution_count": 123,
   "metadata": {},
   "outputs": [
    {
     "ename": "NameError",
     "evalue": "name 'area' is not defined",
     "output_type": "error",
     "traceback": [
      "\u001b[1;31m---------------------------------------------------------------------------\u001b[0m",
      "\u001b[1;31mNameError\u001b[0m                                 Traceback (most recent call last)",
      "Cell \u001b[1;32mIn[123], line 1\u001b[0m\n\u001b[1;32m----> 1\u001b[0m area\n",
      "\u001b[1;31mNameError\u001b[0m: name 'area' is not defined"
     ]
    }
   ],
   "source": [
    "area"
   ]
  },
  {
   "cell_type": "markdown",
   "metadata": {},
   "source": [
    "Vi som användare kan sedan 'fånga upp' outputen från funktionen (det som funktionen returnar) på detta vis\n",
    "\n",
    "Vi assignar helt enkelt en variabel till att anta värdet som returneras av funktionen"
   ]
  },
  {
   "cell_type": "markdown",
   "metadata": {},
   "source": [
    "Tänk på att ni bestämmer själva vad som funktionen returnerar!"
   ]
  },
  {
   "cell_type": "code",
   "execution_count": null,
   "metadata": {},
   "outputs": [],
   "source": []
  },
  {
   "cell_type": "code",
   "execution_count": 139,
   "metadata": {},
   "outputs": [],
   "source": [
    "def personal_info_grabber():\n",
    "\n",
    "    name = input('Vad heter du? ')\n",
    "    age = int(input('Hur gammal är du? '))\n",
    "    city = input('Vilken stad bor du i? ')\n",
    "\n",
    "    return name, age, city"
   ]
  },
  {
   "cell_type": "code",
   "execution_count": 145,
   "metadata": {},
   "outputs": [],
   "source": [
    "namn, ålder, stad = personal_info_grabber()"
   ]
  },
  {
   "cell_type": "code",
   "execution_count": 143,
   "metadata": {},
   "outputs": [],
   "source": [
    "all_info = personal_info_grabber()"
   ]
  },
  {
   "cell_type": "code",
   "execution_count": 144,
   "metadata": {},
   "outputs": [
    {
     "name": "stdout",
     "output_type": "stream",
     "text": [
      "('Ali', 34, 'Täby')\n"
     ]
    }
   ],
   "source": [
    "print(all_info)"
   ]
  },
  {
   "cell_type": "markdown",
   "metadata": {},
   "source": [
    "___\n",
    "\n",
    "## *args"
   ]
  },
  {
   "cell_type": "markdown",
   "metadata": {},
   "source": [
    "används när man vill låta python ta emot ett obestämt antal argument (ni kommer inte använda detta särskilt mycket nu...)"
   ]
  },
  {
   "cell_type": "code",
   "execution_count": 153,
   "metadata": {},
   "outputs": [],
   "source": [
    "def my_greeter(*args):\n",
    "\n",
    "    print(*args)\n",
    "\n",
    "    for argument in args:\n",
    "        print(argument)"
   ]
  },
  {
   "cell_type": "code",
   "execution_count": 154,
   "metadata": {},
   "outputs": [
    {
     "name": "stdout",
     "output_type": "stream",
     "text": [
      "Amir Rozann Ali\n",
      "Amir\n",
      "Rozann\n",
      "Ali\n"
     ]
    }
   ],
   "source": [
    "my_greeter('Amir', 'Rozann', 'Ali')"
   ]
  },
  {
   "cell_type": "code",
   "execution_count": 155,
   "metadata": {},
   "outputs": [],
   "source": [
    "def summerare(*args):\n",
    "\n",
    "    min_summa = 0\n",
    "\n",
    "    for siffra in args:\n",
    "        min_summa += siffra\n",
    "\n",
    "    return min_summa"
   ]
  },
  {
   "cell_type": "code",
   "execution_count": 158,
   "metadata": {},
   "outputs": [
    {
     "name": "stdout",
     "output_type": "stream",
     "text": [
      "37\n"
     ]
    }
   ],
   "source": [
    "summa = summerare(5,2, 10, 20)\n",
    "\n",
    "print(summa)"
   ]
  },
  {
   "cell_type": "markdown",
   "metadata": {},
   "source": [
    "___"
   ]
  },
  {
   "cell_type": "markdown",
   "metadata": {},
   "source": [
    "## VIKTIG DETALJ\n",
    "\n",
    "Var noga med att inte assigna bort era funktioner!!!!"
   ]
  },
  {
   "cell_type": "markdown",
   "metadata": {},
   "source": [
    "Vi vet att ex. print är en funktion, men om ni assignar print till något annat, som ex:"
   ]
  },
  {
   "cell_type": "code",
   "execution_count": 159,
   "metadata": {},
   "outputs": [
    {
     "name": "stdout",
     "output_type": "stream",
     "text": [
      "Ali\n"
     ]
    }
   ],
   "source": [
    "print('Ali')"
   ]
  },
  {
   "cell_type": "code",
   "execution_count": 160,
   "metadata": {},
   "outputs": [],
   "source": [
    "print = 'hejsan'"
   ]
  },
  {
   "cell_type": "code",
   "execution_count": 161,
   "metadata": {},
   "outputs": [
    {
     "ename": "TypeError",
     "evalue": "'str' object is not callable",
     "output_type": "error",
     "traceback": [
      "\u001b[1;31m---------------------------------------------------------------------------\u001b[0m",
      "\u001b[1;31mTypeError\u001b[0m                                 Traceback (most recent call last)",
      "Cell \u001b[1;32mIn[161], line 1\u001b[0m\n\u001b[1;32m----> 1\u001b[0m \u001b[38;5;28mprint\u001b[39m(\u001b[38;5;124m'\u001b[39m\u001b[38;5;124mAli\u001b[39m\u001b[38;5;124m'\u001b[39m)\n",
      "\u001b[1;31mTypeError\u001b[0m: 'str' object is not callable"
     ]
    }
   ],
   "source": [
    "print('Ali')"
   ]
  },
  {
   "cell_type": "markdown",
   "metadata": {},
   "source": [
    "kommer inte print längre att fungera som funktion, eftersom att ni nu assignat den till ett något annat (en integer i detta fall)"
   ]
  },
  {
   "cell_type": "markdown",
   "metadata": {},
   "source": [
    "Vi får således error när vi försöker använda vår print-funktion"
   ]
  },
  {
   "cell_type": "code",
   "execution_count": null,
   "metadata": {},
   "outputs": [],
   "source": []
  },
  {
   "cell_type": "markdown",
   "metadata": {},
   "source": [
    "**Lite mer**"
   ]
  },
  {
   "cell_type": "code",
   "execution_count": 1,
   "metadata": {},
   "outputs": [],
   "source": [
    "def summera_tal_version_1(a, b):\n",
    "\n",
    "    summa = a + b                # assigna en lokal variabel till summan av a & b\n"
   ]
  },
  {
   "cell_type": "code",
   "execution_count": 9,
   "metadata": {},
   "outputs": [],
   "source": [
    "summera_tal_version_1(5, 3)"
   ]
  },
  {
   "cell_type": "code",
   "execution_count": 12,
   "metadata": {},
   "outputs": [
    {
     "name": "stdout",
     "output_type": "stream",
     "text": [
      "<class 'str'>\n"
     ]
    }
   ],
   "source": [
    "my_string = ''\n",
    "\n",
    "print(type(my_string))"
   ]
  },
  {
   "cell_type": "code",
   "execution_count": 17,
   "metadata": {},
   "outputs": [
    {
     "name": "stdout",
     "output_type": "stream",
     "text": [
      "[None, None, None, None, None, None, None, None, None, None]\n"
     ]
    }
   ],
   "source": [
    "result_version_1 = [summera_tal_version_1(x, 1) for x in range(0, 10)]\n",
    "\n",
    "print(result_version_1)"
   ]
  },
  {
   "cell_type": "markdown",
   "metadata": {},
   "source": [
    "____"
   ]
  },
  {
   "cell_type": "code",
   "execution_count": 20,
   "metadata": {},
   "outputs": [],
   "source": [
    "def summera_tal_version_2(a, b):\n",
    "\n",
    "    summa = a + b                # assigna en lokal variabel till summan av a & b\n",
    "    print(summa)"
   ]
  },
  {
   "cell_type": "code",
   "execution_count": 24,
   "metadata": {},
   "outputs": [
    {
     "name": "stdout",
     "output_type": "stream",
     "text": [
      "8\n"
     ]
    }
   ],
   "source": [
    "summera_tal_version_2(5, 3)"
   ]
  },
  {
   "cell_type": "code",
   "execution_count": 25,
   "metadata": {},
   "outputs": [
    {
     "name": "stdout",
     "output_type": "stream",
     "text": [
      "1\n",
      "2\n",
      "3\n",
      "4\n",
      "5\n",
      "6\n",
      "7\n",
      "8\n",
      "9\n",
      "10\n",
      "[None, None, None, None, None, None, None, None, None, None]\n"
     ]
    }
   ],
   "source": [
    "result_version_2 = [summera_tal_version_2(x, 1) for x in range(0, 10)]\n",
    "\n",
    "print(result_version_2)"
   ]
  },
  {
   "cell_type": "markdown",
   "metadata": {},
   "source": [
    "___"
   ]
  },
  {
   "cell_type": "code",
   "execution_count": 26,
   "metadata": {},
   "outputs": [],
   "source": [
    "def summera_tal_version_3(a, b):\n",
    "\n",
    "    summa = a + b \n",
    "\n",
    "    return summa                # returnera summan av a & b"
   ]
  },
  {
   "cell_type": "code",
   "execution_count": 29,
   "metadata": {},
   "outputs": [],
   "source": [
    "summa = summera_tal_version_3(5, 3)"
   ]
  },
  {
   "cell_type": "code",
   "execution_count": 30,
   "metadata": {},
   "outputs": [
    {
     "name": "stdout",
     "output_type": "stream",
     "text": [
      "8\n"
     ]
    }
   ],
   "source": [
    "print(summa)"
   ]
  },
  {
   "cell_type": "code",
   "execution_count": 31,
   "metadata": {},
   "outputs": [
    {
     "name": "stdout",
     "output_type": "stream",
     "text": [
      "[1, 2, 3, 4, 5, 6, 7, 8, 9, 10]\n"
     ]
    }
   ],
   "source": [
    "result_version_3 = [summera_tal_version_3(x, 1) for x in range(0, 10)]\n",
    "\n",
    "print(result_version_3)"
   ]
  }
 ],
 "metadata": {
  "kernelspec": {
   "display_name": "deeplearning",
   "language": "python",
   "name": "python3"
  },
  "language_info": {
   "codemirror_mode": {
    "name": "ipython",
    "version": 3
   },
   "file_extension": ".py",
   "mimetype": "text/x-python",
   "name": "python",
   "nbconvert_exporter": "python",
   "pygments_lexer": "ipython3",
   "version": "3.12.4"
  },
  "orig_nbformat": 4
 },
 "nbformat": 4,
 "nbformat_minor": 2
}
