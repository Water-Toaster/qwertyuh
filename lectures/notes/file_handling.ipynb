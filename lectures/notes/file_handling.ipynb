{
 "cells": [
  {
   "cell_type": "markdown",
   "metadata": {},
   "source": [
    "**Lite fler detaljer om villkors-satser**\n",
    "\n",
    "Vi har tidigare sett att ex uttryck som liknar\n",
    "\n",
    "if ett_påstående:\n",
    "        \n",
    "        lite kod\n",
    "\n",
    "kommer att köra den indenterade koden om påståendet är sant. Dvs, om ett_påstående ovan evalueras till True. Exempelvis"
   ]
  },
  {
   "cell_type": "code",
   "execution_count": null,
   "metadata": {},
   "outputs": [],
   "source": [
    "if 5 > 3+1:\n",
    "    print('Nu kör vi!')\n",
    "\n",
    "# Koden ovan körs eftersom att\n",
    "\n",
    "print(f'5 > 3+1 evalueras till {5 > 3+1}')"
   ]
  },
  {
   "cell_type": "code",
   "execution_count": null,
   "metadata": {},
   "outputs": [],
   "source": [
    "namn = 'Robert'\n",
    "\n",
    "if namn:\n",
    "\n",
    "    print('Aha, detta kördes också!')"
   ]
  },
  {
   "cell_type": "markdown",
   "metadata": {},
   "source": [
    "Såhär funkar Python:\n",
    "\n",
    "Om man lägger in, som ovan, en variabel direkt istället för ett påstående så kommer Python att evaluera uttrycket till True om\n",
    "datatypen inte är anses vara tom.\n",
    "\n",
    "Så exempelvis\n",
    "\n",
    "**Strängar**\n",
    "Python kommer att evaluera\n",
    "\n",
    "if a_string ⇒ True om a_string inte är en tom sträng."
   ]
  },
  {
   "cell_type": "code",
   "execution_count": null,
   "metadata": {},
   "outputs": [],
   "source": [
    "namn = 'Robert'                          # detta är inte en tom sträng\n",
    "\n",
    "if namn:\n",
    "\n",
    "    print('Aha, då körs detta!')"
   ]
  },
  {
   "cell_type": "code",
   "execution_count": 21,
   "metadata": {},
   "outputs": [],
   "source": [
    "namn = ''                          # detta är en tom sträng\n",
    "\n",
    "if namn:\n",
    "\n",
    "    print('Nu körs detta inte.')"
   ]
  },
  {
   "cell_type": "markdown",
   "metadata": {},
   "source": [
    "**Integers & Floats**\n",
    "\n",
    "För integers & noll så behandlas siffrorna 0 och 0.0 som \"tomma\" och evalueras till False"
   ]
  },
  {
   "cell_type": "code",
   "execution_count": null,
   "metadata": {},
   "outputs": [],
   "source": [
    "nummer = -5                          # detta är inte 0    \n",
    "\n",
    "if nummer:\n",
    "    print('Detta kördes!')"
   ]
  },
  {
   "cell_type": "code",
   "execution_count": 36,
   "metadata": {},
   "outputs": [],
   "source": [
    "nummer = 0                          # detta är 0, och datatypen är integer\n",
    "\n",
    "if nummer:\n",
    "    print('Detta körs inte.')"
   ]
  },
  {
   "cell_type": "code",
   "execution_count": 38,
   "metadata": {},
   "outputs": [],
   "source": [
    "nummer = 0.0                          # detta är 0, och datatypen är float\n",
    "\n",
    "if nummer:\n",
    "    print('Detta körs inte.')"
   ]
  },
  {
   "cell_type": "markdown",
   "metadata": {},
   "source": [
    "**listor**\n",
    "\n",
    "För listor så evalueras tomma listor till False, annars till True"
   ]
  },
  {
   "cell_type": "code",
   "execution_count": 40,
   "metadata": {},
   "outputs": [],
   "source": [
    "en_lista = []\n",
    "\n",
    "if en_lista:\n",
    "    print('Detta körs inte.')"
   ]
  },
  {
   "cell_type": "code",
   "execution_count": null,
   "metadata": {},
   "outputs": [],
   "source": [
    "en_lista = [1, 2, 3, 4, 5, 6, 7, 8, 9, 10]\n",
    "\n",
    "if en_lista:\n",
    "    print('Ja, detta kördes!')"
   ]
  },
  {
   "cell_type": "markdown",
   "metadata": {},
   "source": [
    "**None**\n",
    "\n",
    "I Python så är None ett uttryck som signifierar tomhet, eller avsaknad av värde öht.\n",
    "\n",
    "Python evaluera således"
   ]
  },
  {
   "cell_type": "code",
   "execution_count": 43,
   "metadata": {},
   "outputs": [],
   "source": [
    "if None:\n",
    "    print('körs ej.')"
   ]
  },
  {
   "cell_type": "code",
   "execution_count": null,
   "metadata": {},
   "outputs": [],
   "source": [
    "påstående = 5 > 3\n",
    "\n",
    "if påstående:\n",
    "\n",
    "    print('Påståendet var sant!')"
   ]
  },
  {
   "cell_type": "code",
   "execution_count": null,
   "metadata": {},
   "outputs": [],
   "source": [
    "print(påstående)"
   ]
  },
  {
   "cell_type": "markdown",
   "metadata": {},
   "source": [
    "____"
   ]
  },
  {
   "cell_type": "code",
   "execution_count": 69,
   "metadata": {},
   "outputs": [],
   "source": [
    "def greet(name, age=None, city='Unknown'):\n",
    "\n",
    "    print(f'Hello {name}!')\n",
    "    \n",
    "    if age:                                 # detta kommer evalueras till False, om vi inte ändrar default-värdet av age\n",
    "                                            # by default har age värdet None, och satsen evalueras därför till False här\n",
    "        print(f'You are {age} years old.')\n",
    "\n",
    "    print(f'You live in {city}')"
   ]
  },
  {
   "cell_type": "code",
   "execution_count": null,
   "metadata": {},
   "outputs": [],
   "source": [
    "greet(name='Robert', age=20)"
   ]
  },
  {
   "cell_type": "code",
   "execution_count": null,
   "metadata": {},
   "outputs": [],
   "source": [
    "greet()"
   ]
  },
  {
   "cell_type": "markdown",
   "metadata": {},
   "source": [
    "____\n"
   ]
  },
  {
   "cell_type": "markdown",
   "metadata": {},
   "source": [
    "## File handling\n",
    "\n",
    "Ofta vill vi läsa av data från externa filer/databaser och jobba vidare med de i Python.\n",
    "\n",
    "Idag ska vi lära oss grunderna i filhantering, dvs enkla metoder för att läsa in data från textfiler. \n",
    "\n",
    "Vi kommer även att lära oss att skapa och skriva till textfiller.\n",
    "\n",
    "Textfiler har ändelsen .txt"
   ]
  },
  {
   "cell_type": "markdown",
   "metadata": {},
   "source": [
    "        Option:\n",
    "        - \"r\" - read\n",
    "        - \"w\" - write, opens a file for writing, also creates it if it doesn't exist\n",
    "        - \"a\" - append, creates the file if it doesn't exist\n",
    "        - \"x\" - create, creates a file, error if it already exists"
   ]
  },
  {
   "cell_type": "markdown",
   "metadata": {},
   "source": [
    "**OS**\n",
    "\n",
    "Navigera mappar"
   ]
  },
  {
   "cell_type": "code",
   "execution_count": null,
   "metadata": {},
   "outputs": [],
   "source": [
    "import os\n",
    "\n",
    "os.listdir()          # listdir är en metod som skriver ut alla existerande filer i den givna mappen.\n",
    "                      # by deafult är den givna mappen den mapp som vi just nu befinner oss i"
   ]
  },
  {
   "cell_type": "code",
   "execution_count": null,
   "metadata": {},
   "outputs": [],
   "source": [
    "os.listdir('../../data')"
   ]
  },
  {
   "cell_type": "markdown",
   "metadata": {},
   "source": [
    "**Read**\n",
    "\n",
    "Hur läser vi in en textfil?"
   ]
  },
  {
   "cell_type": "code",
   "execution_count": 90,
   "metadata": {},
   "outputs": [],
   "source": [
    "filepath = '../../data/quotes.txt'\n",
    "\n",
    "with open(filepath, 'r') as f:          # öppna filen i läsläge, och spara den i variabeln f (f för file)\n",
    "\n",
    "    text = f.read()"
   ]
  },
  {
   "cell_type": "code",
   "execution_count": null,
   "metadata": {},
   "outputs": [],
   "source": [
    "text"
   ]
  },
  {
   "cell_type": "code",
   "execution_count": null,
   "metadata": {},
   "outputs": [],
   "source": [
    "print(text)"
   ]
  },
  {
   "cell_type": "markdown",
   "metadata": {},
   "source": [
    "Python läser in filen EXAKT som den är"
   ]
  },
  {
   "cell_type": "code",
   "execution_count": null,
   "metadata": {},
   "outputs": [],
   "source": [
    "print(type(text))"
   ]
  },
  {
   "cell_type": "markdown",
   "metadata": {},
   "source": [
    "**OBS**\n",
    "\n",
    "Vi valde att läsa in texten med hjälp av en with-sats ovan, men egentligen finns det ett mer grundläggande sätt att göra  det på"
   ]
  },
  {
   "cell_type": "code",
   "execution_count": 88,
   "metadata": {},
   "outputs": [],
   "source": [
    "filepath = '../../data/quotes.txt'\n",
    "\n",
    "f = open(filepath, 'r')          # öppna filen i läsläge, och spara den i variabeln f (f för file)\n",
    "\n",
    "alternativ_text = f.read()\n",
    "\n",
    "f.close()                        # stäng filen, detta är viktigt att göra, annars kan det leda till att filen inte sparas korrekt "
   ]
  },
  {
   "cell_type": "code",
   "execution_count": null,
   "metadata": {},
   "outputs": [],
   "source": [
    "print(alternativ_text)"
   ]
  },
  {
   "cell_type": "markdown",
   "metadata": {},
   "source": [
    "**OBS**\n",
    "\n",
    "Det är mycket bättre att använda with open(path, 'r') as f, iom att den metoden automatiskt sköter close() åt oss."
   ]
  },
  {
   "cell_type": "markdown",
   "metadata": {},
   "source": [
    "## Write"
   ]
  },
  {
   "cell_type": "code",
   "execution_count": 93,
   "metadata": {},
   "outputs": [],
   "source": [
    "path = 'names.txt'\n",
    "\n",
    "names = ['Amir', 'Rozann', 'Ali']\n",
    "\n",
    "with open(path, 'w') as f:\n",
    "\n",
    "    f.write(str(names))"
   ]
  },
  {
   "cell_type": "markdown",
   "metadata": {},
   "source": [
    "**OBS**\n",
    "\n",
    "Det vi skriver till textfiler MÅSTE vara strängar"
   ]
  },
  {
   "cell_type": "code",
   "execution_count": null,
   "metadata": {},
   "outputs": [],
   "source": [
    "path = 'names.txt'\n",
    "\n",
    "names = ['Amir', 'Rozann', 'Ali']\n",
    "\n",
    "with open(path, 'w') as f:\n",
    "\n",
    "    f.write(names)"
   ]
  },
  {
   "cell_type": "code",
   "execution_count": 98,
   "metadata": {},
   "outputs": [],
   "source": [
    "path = 'names.txt'\n",
    "\n",
    "names = ['Amir', 'Rozann', 'Ali']\n",
    "\n",
    "with open(path, 'w') as f:\n",
    "\n",
    "    for name in names:\n",
    "\n",
    "        to_write = f'{name}\\n'\n",
    "\n",
    "        f.write(to_write)"
   ]
  },
  {
   "cell_type": "markdown",
   "metadata": {},
   "source": [
    "**OBS** lägg märkte till att write ALLTID raderar allt existerande i er befintliga textfil (om det finns något i den).\n",
    "\n",
    "Var därför försiktig!"
   ]
  },
  {
   "cell_type": "markdown",
   "metadata": {},
   "source": [
    "## Append"
   ]
  },
  {
   "cell_type": "code",
   "execution_count": 99,
   "metadata": {},
   "outputs": [],
   "source": [
    "path = 'names.txt'\n",
    "\n",
    "fruits = ['Watermelon', 'Papaya', 'Strawberry']\n",
    "\n",
    "with open(path, 'a') as f:\n",
    "\n",
    "    for fruit in fruits:\n",
    "\n",
    "        to_append = f'{fruit}\\n'\n",
    "\n",
    "        f.write(to_append)"
   ]
  },
  {
   "cell_type": "markdown",
   "metadata": {},
   "source": [
    "## Create"
   ]
  },
  {
   "cell_type": "markdown",
   "metadata": {},
   "source": [
    "Create skapar bara en fil, om den inte redan existerar. Om filen redan existerar slår Python ett FileExistError, vilket kan vara användbart ibland om man i sitt program vill kontrollera att en given fil existrar."
   ]
  },
  {
   "cell_type": "code",
   "execution_count": null,
   "metadata": {},
   "outputs": [],
   "source": [
    "os.listdir()"
   ]
  },
  {
   "cell_type": "code",
   "execution_count": null,
   "metadata": {},
   "outputs": [],
   "source": [
    "path = 'text.txt'\n",
    "\n",
    "with open(path, 'x') as f:\n",
    "\n",
    "    pass"
   ]
  }
 ],
 "metadata": {
  "kernelspec": {
   "display_name": "introduktion",
   "language": "python",
   "name": "python3"
  },
  "language_info": {
   "codemirror_mode": {
    "name": "ipython",
    "version": 3
   },
   "file_extension": ".py",
   "mimetype": "text/x-python",
   "name": "python",
   "nbconvert_exporter": "python",
   "pygments_lexer": "ipython3",
   "version": "3.12.4"
  }
 },
 "nbformat": 4,
 "nbformat_minor": 2
}
