{
 "cells": [
  {
   "cell_type": "markdown",
   "metadata": {},
   "source": [
    "**List Comprehensions - fördjupning**"
   ]
  },
  {
   "cell_type": "markdown",
   "metadata": {},
   "source": [
    "List comprehensions är en av de met kraftfulla verktygen som finns i Python. De tillåter dig som användare att på ett mycket kompakt sätt utföra både enkla och komplexa operationer/beräkningar.\n",
    "\n",
    "Låt oss därför skapa en djupare förståelse av konceptet.\n",
    "\n",
    "Enklast blir om vi börjar med ett konkret exempel.\n",
    "\n",
    "Anta att vi vill beräkna samt plotta värdet av funktionen\n",
    "\n",
    "$ y = x + 2 $\n",
    "\n",
    "från $ x = -5$ till $ x = 5 $"
   ]
  },
  {
   "cell_type": "code",
   "execution_count": null,
   "metadata": {},
   "outputs": [],
   "source": [
    "y_values = []                       \n",
    "\n",
    "for x in range(-5, 6):\n",
    "\n",
    "    value_to_append = x + 2\n",
    "\n",
    "    y_values.append(value_to_append)\n",
    "\n",
    "print(y_values)"
   ]
  },
  {
   "cell_type": "code",
   "execution_count": null,
   "metadata": {},
   "outputs": [],
   "source": [
    "y_values_list_comprehended = [x + 2 for x in range(-5, 6)]\n",
    "\n",
    "print(y_values_list_comprehended)"
   ]
  },
  {
   "cell_type": "markdown",
   "metadata": {},
   "source": [
    "Vi fick **exakt** samma output av får for-loop som i list comprehension!\n",
    "\n",
    "List comprehension är därför **ekvivalent** med vår for-loop, de gör exakt samma sak."
   ]
  },
  {
   "cell_type": "markdown",
   "metadata": {},
   "source": [
    "___"
   ]
  },
  {
   "cell_type": "markdown",
   "metadata": {},
   "source": [
    "Värdet vi vill att Python ska beräkna och lägga till i vår lista är **helt** upp till oss.\n",
    "\n",
    "Dvs, det du väljer att beräkna och assign values_to_append, är helt upp till dig."
   ]
  },
  {
   "cell_type": "code",
   "execution_count": null,
   "metadata": {},
   "outputs": [],
   "source": [
    "y_values = []                       \n",
    "\n",
    "for x in range(-5, 6):\n",
    "\n",
    "    value_to_append = x**3-2*x+4\n",
    "\n",
    "    y_values.append(value_to_append)\n",
    "\n",
    "print(y_values)"
   ]
  },
  {
   "cell_type": "code",
   "execution_count": null,
   "metadata": {},
   "outputs": [],
   "source": [
    "y_values_list_comprehended = [(x**3-2*x+4) for x in range(-5, 6)]\n",
    "\n",
    "print(y_values_list_comprehended)"
   ]
  },
  {
   "cell_type": "code",
   "execution_count": null,
   "metadata": {},
   "outputs": [],
   "source": [
    "[(x**2) for x in range(0,10)]"
   ]
  },
  {
   "cell_type": "code",
   "execution_count": null,
   "metadata": {},
   "outputs": [],
   "source": [
    "[(x**2)/2 for x in range(0,10)]"
   ]
  },
  {
   "cell_type": "markdown",
   "metadata": {},
   "source": [
    "Det vi väljer att loopa över är också helt upp till oss!\n",
    "\n",
    "Ovan så valde vi att loopa värden som vi skapade med range()-funktionen, men du kan loopa över allt som går att indexera."
   ]
  },
  {
   "cell_type": "code",
   "execution_count": null,
   "metadata": {},
   "outputs": [],
   "source": [
    "for lärare in lärarlista:\n",
    "\n",
    "    print(lärare)"
   ]
  },
  {
   "cell_type": "code",
   "execution_count": null,
   "metadata": {},
   "outputs": [],
   "source": [
    "lärarlista = [\"Johan\", \"Maria\", \"Peter\", \"Sara\", \"Kalle\"]\n",
    "\n",
    "lärare_plus = [(lärare + '+') for lärare in lärarlista]\n",
    "\n",
    "print(lärare_plus)"
   ]
  },
  {
   "cell_type": "code",
   "execution_count": null,
   "metadata": {},
   "outputs": [],
   "source": [
    "namn = 'Ali Leylani'\n",
    "\n",
    "for letter in namn:\n",
    "    print(letter, end=' ')"
   ]
  },
  {
   "cell_type": "code",
   "execution_count": null,
   "metadata": {},
   "outputs": [],
   "source": [
    "[letter for letter in namn]"
   ]
  },
  {
   "cell_type": "code",
   "execution_count": null,
   "metadata": {},
   "outputs": [],
   "source": [
    "print(namn.upper())\n",
    "print(namn.lower())"
   ]
  },
  {
   "cell_type": "code",
   "execution_count": null,
   "metadata": {},
   "outputs": [],
   "source": [
    "[letter.upper() for letter in namn]"
   ]
  },
  {
   "cell_type": "markdown",
   "metadata": {},
   "source": [
    "___"
   ]
  },
  {
   "cell_type": "markdown",
   "metadata": {},
   "source": [
    "Vi kan ta detta ännu längre.\n",
    "\n",
    "Kan vi även utföra list comprehensions med villkor? **Absolut!**"
   ]
  },
  {
   "cell_type": "markdown",
   "metadata": {},
   "source": [
    "Anta att vi exempelvis vill räkna ut\n",
    "\n",
    "$ y = x^2 $\n",
    "\n",
    "men endast för alla **jämna** x mellan 0 till 10\n",
    "\n",
    "Hur vet vi om ett tal är jämnt?"
   ]
  },
  {
   "cell_type": "code",
   "execution_count": null,
   "metadata": {},
   "outputs": [],
   "source": [
    "5 % 2   # detta kallas för modulus-operatorn, och den ger dig RESTEN som följer av divisionen a/b"
   ]
  },
  {
   "cell_type": "code",
   "execution_count": null,
   "metadata": {},
   "outputs": [],
   "source": [
    "print(2 % 2)\n",
    "print(4 % 2)\n",
    "print(6 % 2)\n",
    "\n",
    "print(1 % 2)\n",
    "print(3 % 2)\n",
    "print(5 % 2)"
   ]
  },
  {
   "cell_type": "code",
   "execution_count": null,
   "metadata": {},
   "outputs": [],
   "source": [
    "for x in range(0, 11):\n",
    "\n",
    "    print(f'{x} % 2 = {x % 2}')"
   ]
  },
  {
   "cell_type": "markdown",
   "metadata": {},
   "source": [
    "Låt oss nu utföra vår beräkning på $ y = x^2 $"
   ]
  },
  {
   "cell_type": "code",
   "execution_count": null,
   "metadata": {},
   "outputs": [],
   "source": [
    "y_values = []\n",
    "\n",
    "for x in range(0, 11):\n",
    "\n",
    "    if x % 2 == 0:\n",
    "\n",
    "        value_to_append = x**2\n",
    "        y_values.append(value_to_append)\n",
    "\n",
    "print(y_values)"
   ]
  },
  {
   "cell_type": "code",
   "execution_count": null,
   "metadata": {},
   "outputs": [],
   "source": [
    "y_values_list_comprehended = [x**2 for x in range(0, 11) if (x % 2 == 0)]\n",
    "\n",
    "print(y_values_list_comprehended)"
   ]
  },
  {
   "cell_type": "code",
   "execution_count": null,
   "metadata": {},
   "outputs": [],
   "source": [
    "one_mil_list = [x**2 for x in range(0, 1000000)]\n",
    "\n",
    "len(one_mil_list)"
   ]
  },
  {
   "cell_type": "markdown",
   "metadata": {},
   "source": [
    "**Djupare fördjupning**"
   ]
  },
  {
   "cell_type": "markdown",
   "metadata": {},
   "source": [
    "Notera att värdet du vill lägga till i din lista är HELT upp till dig, du kan lägga till VAD SOM HELST\n"
   ]
  },
  {
   "cell_type": "code",
   "execution_count": null,
   "metadata": {},
   "outputs": [],
   "source": [
    "[letter for letter in 'Ali']"
   ]
  },
  {
   "cell_type": "code",
   "execution_count": null,
   "metadata": {},
   "outputs": [],
   "source": [
    "['HAHA' for letter in 'Ali']"
   ]
  },
  {
   "cell_type": "code",
   "execution_count": null,
   "metadata": {},
   "outputs": [],
   "source": [
    "[999 for letter in 'Ali']"
   ]
  },
  {
   "cell_type": "code",
   "execution_count": null,
   "metadata": {},
   "outputs": [],
   "source": [
    "dum_lista = [ [1,2,3] for letter in 'Ali']\n",
    "\n",
    "print(dum_lista)"
   ]
  },
  {
   "cell_type": "markdown",
   "metadata": {},
   "source": [
    "**Nested List Comprehensions**"
   ]
  },
  {
   "cell_type": "code",
   "execution_count": null,
   "metadata": {},
   "outputs": [],
   "source": [
    "[x for x in range(0,3)]"
   ]
  },
  {
   "cell_type": "code",
   "execution_count": null,
   "metadata": {},
   "outputs": [],
   "source": [
    "[ [x for x in range(0,3)] for letter in 'Ali']"
   ]
  },
  {
   "cell_type": "code",
   "execution_count": null,
   "metadata": {},
   "outputs": [],
   "source": [
    "[ [f'{x}{y}' for y in range(0, 5)] for x in range(1,5)]"
   ]
  },
  {
   "cell_type": "markdown",
   "metadata": {},
   "source": []
  }
 ],
 "metadata": {
  "kernelspec": {
   "display_name": "introduktion",
   "language": "python",
   "name": "python3"
  },
  "language_info": {
   "codemirror_mode": {
    "name": "ipython",
    "version": 3
   },
   "file_extension": ".py",
   "mimetype": "text/x-python",
   "name": "python",
   "nbconvert_exporter": "python",
   "pygments_lexer": "ipython3",
   "version": "3.12.4"
  }
 },
 "nbformat": 4,
 "nbformat_minor": 2
}
