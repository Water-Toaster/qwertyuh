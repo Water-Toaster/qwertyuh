{
 "cells": [
  {
   "cell_type": "code",
   "execution_count": 167,
   "metadata": {},
   "outputs": [],
   "source": [
    "students = ['Patrik W', 'Vilmer V', 'Oliver K', 'Zainab A', 'Widjan C', 'Viktor G', \n",
    "            'Arvid J', 'Mariia S', 'Alaa A', 'Harri V', 'Julian W', 'Jonas J', \n",
    "            'Olivia R', 'Olov O', 'John L', 'Haidar K', 'Christian A', \n",
    "            'Sunny V', 'Izaac A', 'Joel S', 'John K', 'Isak F', 'Astrid R', \n",
    "            'Lotta H', 'Johan E', 'Simon S', \n",
    "            'René A', 'Emma S', 'Aldin H', 'Viktoria W']\n",
    "\n",
    "distans = ['Rafael S', 'Fabio R', 'Olha P', 'Albin L']"
   ]
  },
  {
   "cell_type": "code",
   "execution_count": 168,
   "metadata": {},
   "outputs": [
    {
     "name": "stdout",
     "output_type": "stream",
     "text": [
      "Total = 34\n"
     ]
    }
   ],
   "source": [
    "print(f'Total = {len(students) + len(distans)}')"
   ]
  },
  {
   "cell_type": "code",
   "execution_count": 3,
   "metadata": {},
   "outputs": [],
   "source": [
    "import random\n",
    "\n",
    "def group_students_randomly(students):\n",
    "    \n",
    "    # Shuffle the list to randomize the order\n",
    "    random.shuffle(students)\n",
    "    \n",
    "    # Group them into groups of 4\n",
    "    groups = [students[i:i+4] for i in range(0, len(students), 4)]\n",
    "    \n",
    "    return groups"
   ]
  },
  {
   "cell_type": "code",
   "execution_count": 191,
   "metadata": {},
   "outputs": [
    {
     "name": "stdout",
     "output_type": "stream",
     "text": [
      "Group 1: ['Zainab A', 'Astrid R', 'Izaac A', 'Aldin H']\n",
      "Group 2: ['John K', 'Patrik W', 'Alaa A', 'Olivia R']\n",
      "Group 3: ['John L', 'Jonas J', 'Simon S', 'Lotta H']\n",
      "Group 4: ['René A', 'Joel S', 'Harri V', 'Johan E']\n",
      "Group 5: ['Mariia S', 'Isak F', 'Viktoria W', 'Olov O']\n",
      "Group 6: ['Emma S', 'Oliver K', 'Sunny V', 'Haidar K']\n",
      "Group 7: ['Julian W', 'Viktor G', 'Widjan C', 'Arvid J']\n",
      "Group 8: ['Christian A', 'Vilmer V']\n"
     ]
    }
   ],
   "source": [
    "# Call the function that groups students randomly\n",
    "groups = group_students_randomly(students)\n",
    "\n",
    "# Print the groups\n",
    "for index, group in enumerate(groups, 1):\n",
    "    print(f\"Group {index}: {group}\")"
   ]
  },
  {
   "cell_type": "code",
   "execution_count": 199,
   "metadata": {},
   "outputs": [
    {
     "name": "stdout",
     "output_type": "stream",
     "text": [
      "[]\n"
     ]
    }
   ],
   "source": [
    "failed_students = []\n",
    "print(failed_students)"
   ]
  },
  {
   "cell_type": "markdown",
   "metadata": {},
   "source": [
    "# Förklaring av ovan kod"
   ]
  },
  {
   "cell_type": "code",
   "execution_count": 202,
   "metadata": {},
   "outputs": [
    {
     "name": "stdout",
     "output_type": "stream",
     "text": [
      "['Rafael S', 'Fabio R', 'Olha P', 'Albin L']\n"
     ]
    }
   ],
   "source": [
    "print(distans)\n",
    "\n",
    "# vi kan blanda denna om vi vill genom att använda shuffle() funktionen från random paketet"
   ]
  },
  {
   "cell_type": "code",
   "execution_count": 234,
   "metadata": {},
   "outputs": [
    {
     "name": "stdout",
     "output_type": "stream",
     "text": [
      "['Albin L', 'Rafael S', 'Olha P', 'Fabio R']\n"
     ]
    }
   ],
   "source": [
    "import random\n",
    "\n",
    "random.shuffle(distans)   # OBS; lägg märke till att distans-listan här ändras utan att du re-assignar den med likamedtecken!\n",
    "                          # det här kallas för att ändra på ett objekt \"in-place\"\n",
    "print(distans)"
   ]
  },
  {
   "cell_type": "code",
   "execution_count": 254,
   "metadata": {},
   "outputs": [
    {
     "data": {
      "text/plain": [
       "30"
      ]
     },
     "execution_count": 254,
     "metadata": {},
     "output_type": "execute_result"
    }
   ],
   "source": [
    "len(students)"
   ]
  },
  {
   "cell_type": "code",
   "execution_count": 256,
   "metadata": {},
   "outputs": [
    {
     "data": {
      "text/plain": [
       "['Zainab A',\n",
       " 'Astrid R',\n",
       " 'Izaac A',\n",
       " 'Aldin H',\n",
       " 'John K',\n",
       " 'Patrik W',\n",
       " 'Alaa A',\n",
       " 'Olivia R',\n",
       " 'John L',\n",
       " 'Jonas J',\n",
       " 'Simon S',\n",
       " 'Lotta H',\n",
       " 'René A',\n",
       " 'Joel S',\n",
       " 'Harri V',\n",
       " 'Johan E',\n",
       " 'Mariia S',\n",
       " 'Isak F',\n",
       " 'Viktoria W',\n",
       " 'Olov O',\n",
       " 'Emma S',\n",
       " 'Oliver K',\n",
       " 'Sunny V',\n",
       " 'Haidar K',\n",
       " 'Julian W',\n",
       " 'Viktor G',\n",
       " 'Widjan C',\n",
       " 'Arvid J',\n",
       " 'Christian A',\n",
       " 'Vilmer V']"
      ]
     },
     "execution_count": 256,
     "metadata": {},
     "output_type": "execute_result"
    }
   ],
   "source": [
    "students"
   ]
  },
  {
   "cell_type": "code",
   "execution_count": 258,
   "metadata": {},
   "outputs": [
    {
     "data": {
      "text/plain": [
       "[['Zainab A', 'Astrid R', 'Izaac A', 'Aldin H'],\n",
       " ['John K', 'Patrik W', 'Alaa A', 'Olivia R'],\n",
       " ['John L', 'Jonas J', 'Simon S', 'Lotta H'],\n",
       " ['René A', 'Joel S', 'Harri V', 'Johan E'],\n",
       " ['Mariia S', 'Isak F', 'Viktoria W', 'Olov O'],\n",
       " ['Emma S', 'Oliver K', 'Sunny V', 'Haidar K'],\n",
       " ['Julian W', 'Viktor G', 'Widjan C', 'Arvid J'],\n",
       " ['Christian A', 'Vilmer V']]"
      ]
     },
     "execution_count": 258,
     "metadata": {},
     "output_type": "execute_result"
    }
   ],
   "source": [
    "[students[i:i+4] for i in range(0, len(students), 4)]"
   ]
  },
  {
   "cell_type": "code",
   "execution_count": null,
   "metadata": {},
   "outputs": [],
   "source": []
  }
 ],
 "metadata": {
  "kernelspec": {
   "display_name": "introduktion",
   "language": "python",
   "name": "python3"
  },
  "language_info": {
   "codemirror_mode": {
    "name": "ipython",
    "version": 3
   },
   "file_extension": ".py",
   "mimetype": "text/x-python",
   "name": "python",
   "nbconvert_exporter": "python",
   "pygments_lexer": "ipython3",
   "version": "3.12.4"
  }
 },
 "nbformat": 4,
 "nbformat_minor": 2
}
