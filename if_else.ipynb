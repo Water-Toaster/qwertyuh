{
 "cells": [
  {
   "cell_type": "markdown",
   "metadata": {},
   "source": [
    "## Jämförelser"
   ]
  },
  {
   "cell_type": "code",
   "execution_count": 2,
   "metadata": {},
   "outputs": [],
   "source": [
    "number_1 = 10\n",
    "number_2 = 20"
   ]
  },
  {
   "cell_type": "code",
   "execution_count": 15,
   "metadata": {},
   "outputs": [
    {
     "name": "stdout",
     "output_type": "stream",
     "text": [
      "False\n",
      "True\n",
      "number_1 > number_2 evalueras till False\n",
      "number_1 < number_2 evalueras till True\n",
      "number_1 >= number_2 evalueras till False\n",
      "number_1 <= number_2 evalueras till True\n",
      "number_1 == number_2 evalueras till False\n",
      "5 = 2 + 3 evalueras till True\n",
      "Ali = A + l + i evalueras till True\n"
     ]
    }
   ],
   "source": [
    "print(number_1 > number_2)\n",
    "print(number_1 < number_2)\n",
    "\n",
    "print(f'number_1 > number_2 evalueras till {number_1 > number_2}')\n",
    "print(f'number_1 < number_2 evalueras till {number_1 < number_2}')\n",
    "print(f'number_1 >= number_2 evalueras till {number_1 >= number_2}')\n",
    "print(f'number_1 <= number_2 evalueras till {number_1 <= number_2}')\n",
    "print(f'number_1 == number_2 evalueras till {number_1 == number_2}')\n",
    "print(f'5 = 2 + 3 evalueras till {5 == 2+3}')\n",
    "print(f'Ali = A + l + i evalueras till {'Ali' == 'A' + 'l' + 'i'}')"
   ]
  },
  {
   "cell_type": "markdown",
   "metadata": {},
   "source": [
    "## Fler jämförelser"
   ]
  },
  {
   "cell_type": "code",
   "execution_count": 20,
   "metadata": {},
   "outputs": [
    {
     "name": "stdout",
     "output_type": "stream",
     "text": [
      "True\n",
      "False\n"
     ]
    }
   ],
   "source": [
    "age = 30\n",
    "\n",
    "print(25 < age < 35)\n",
    "print(25 < age <= 28)"
   ]
  },
  {
   "cell_type": "code",
   "execution_count": 23,
   "metadata": {},
   "outputs": [
    {
     "name": "stdout",
     "output_type": "stream",
     "text": [
      "True\n",
      "<class 'bool'>\n"
     ]
    }
   ],
   "source": [
    "evaluation = 35 < 40\n",
    "\n",
    "print(evaluation)\n",
    "print(type(evaluation))"
   ]
  },
  {
   "cell_type": "markdown",
   "metadata": {},
   "source": [
    "## IF-satser"
   ]
  },
  {
   "cell_type": "code",
   "execution_count": 25,
   "metadata": {},
   "outputs": [
    {
     "name": "stdout",
     "output_type": "stream",
     "text": [
      "Villkoret är uppfyllt! number_1 är mindre än number_2.\n"
     ]
    }
   ],
   "source": [
    "number_1 = 10\n",
    "number_2 = 20\n",
    "\n",
    "if number_1 < number_2:\n",
    "    print('Villkoret är uppfyllt! number_1 är mindre än number_2.')"
   ]
  },
  {
   "cell_type": "code",
   "execution_count": 26,
   "metadata": {},
   "outputs": [],
   "source": [
    "number_3 = 30\n",
    "number_4 = 20\n",
    "\n",
    "if number_3 < number_4:\n",
    "    print('Villkoret är uppfyllt! number_3 är mindre än number_4.')"
   ]
  },
  {
   "cell_type": "code",
   "execution_count": 34,
   "metadata": {},
   "outputs": [
    {
     "name": "stdout",
     "output_type": "stream",
     "text": [
      "Villkoret är uppfyllt! number_1 är mindre än number_2.\n",
      "Haha, även detta skrivs ut\n",
      "Din produkt är 3000\n",
      "Nu är det slut.\n"
     ]
    }
   ],
   "source": [
    "number_1 = 10\n",
    "number_2 = 20\n",
    "\n",
    "if number_1 < number_2:\n",
    "    \n",
    "    print('Villkoret är uppfyllt! number_1 är mindre än number_2.')\n",
    "    print('Haha, även detta skrivs ut')\n",
    "    en_ny_siffra = 100\n",
    "    en_annan_siffra = int(input('Ge mig en till siffra'))\n",
    "    print(f'Din produkt är {en_ny_siffra*en_annan_siffra}')\n",
    "\n",
    "print('Nu är det slut.')\n",
    "    "
   ]
  },
  {
   "cell_type": "markdown",
   "metadata": {},
   "source": [
    "## IF-ELSE"
   ]
  },
  {
   "cell_type": "markdown",
   "metadata": {},
   "source": [
    "Else är en kompanjon till if, och exekverar kod om villkoret till if-satsen inte stämmer."
   ]
  },
  {
   "cell_type": "code",
   "execution_count": 37,
   "metadata": {},
   "outputs": [
    {
     "name": "stdout",
     "output_type": "stream",
     "text": [
      "30 är inte mindre än 20\n"
     ]
    }
   ],
   "source": [
    "number_1 = 30\n",
    "number_2 = 20\n",
    "\n",
    "if number_1 < number_2:\n",
    "\n",
    "    print(f'{number_1} är mindre än {number_2}')\n",
    "\n",
    "else:\n",
    "\n",
    "    print(f'{number_1} är inte mindre än {number_2}')\n"
   ]
  },
  {
   "cell_type": "markdown",
   "metadata": {},
   "source": [
    "## IF-ELIF-ELSE"
   ]
  },
  {
   "cell_type": "code",
   "execution_count": 38,
   "metadata": {},
   "outputs": [
    {
     "name": "stdout",
     "output_type": "stream",
     "text": [
      "30 är större än 20\n"
     ]
    }
   ],
   "source": [
    "number_1 = 30\n",
    "number_2 = 20\n",
    "\n",
    "if number_1 < number_2:\n",
    "\n",
    "    print(f'{number_1} är mindre än {number_2}')\n",
    "\n",
    "elif number_1 == number_2:\n",
    "\n",
    "    print(f'{number_1} är lika med {number_2}')\n",
    "\n",
    "else:\n",
    "\n",
    "    print(f'{number_1} är större än {number_2}')"
   ]
  },
  {
   "cell_type": "code",
   "execution_count": 41,
   "metadata": {},
   "outputs": [
    {
     "name": "stdout",
     "output_type": "stream",
     "text": [
      "Hej Jonathan!\n"
     ]
    }
   ],
   "source": [
    "name = 'Jonathan'\n",
    "\n",
    "if name == 'Sebastian':\n",
    "\n",
    "    print('Hej Sebastian!')\n",
    "\n",
    "elif name == 'Sara':\n",
    "\n",
    "    print('Hej Sara!')\n",
    "\n",
    "elif name == 'Jonathan':\n",
    "\n",
    "    print('Hej Jonathan!')\n",
    "\n",
    "elif name == 'Kerstin':\n",
    "\n",
    "    print('Hej Kerstin!')\n",
    "\n",
    "else:\n",
    "\n",
    "    print('Hej främling!')"
   ]
  },
  {
   "cell_type": "code",
   "execution_count": 45,
   "metadata": {},
   "outputs": [
    {
     "name": "stdout",
     "output_type": "stream",
     "text": [
      "40 < age < 60\n"
     ]
    }
   ],
   "source": [
    "age = 51\n",
    "\n",
    "if age == 50:\n",
    "\n",
    "    print('age == 50')\n",
    "\n",
    "elif 40 < age < 60:\n",
    "\n",
    "    print('40 < age < 60')"
   ]
  },
  {
   "cell_type": "markdown",
   "metadata": {},
   "source": [
    "## Nested-IF"
   ]
  },
  {
   "cell_type": "code",
   "execution_count": 51,
   "metadata": {},
   "outputs": [
    {
     "name": "stdout",
     "output_type": "stream",
     "text": [
      "Ali is old as hell\n"
     ]
    }
   ],
   "source": [
    "name = 'Ali'\n",
    "age = 30\n",
    "\n",
    "if name == 'Ali':\n",
    "\n",
    "    if age <= 28:\n",
    "        print('Ali is young as hell')\n",
    "\n",
    "    else:\n",
    "        print('Ali is old as hell')"
   ]
  },
  {
   "cell_type": "code",
   "execution_count": 52,
   "metadata": {},
   "outputs": [],
   "source": [
    "if name == 'Ali' and age <= 28:\n",
    "\n",
    "    print('Ali is young as hell')"
   ]
  },
  {
   "cell_type": "code",
   "execution_count": 56,
   "metadata": {},
   "outputs": [
    {
     "data": {
      "text/plain": [
       "False"
      ]
     },
     "execution_count": 56,
     "metadata": {},
     "output_type": "execute_result"
    }
   ],
   "source": [
    "(1+1 == 2) and (3+3 == 7)"
   ]
  },
  {
   "cell_type": "markdown",
   "metadata": {},
   "source": [
    "## En viktig detalj"
   ]
  },
  {
   "cell_type": "markdown",
   "metadata": {},
   "source": [
    "Observera att Python utför kodblocket om det givna villkoret evalueras till True.\n",
    "\n",
    "Det är dock inget som stoppar dig from att direkt skriva in True, istället för ett villkor."
   ]
  },
  {
   "cell_type": "code",
   "execution_count": 60,
   "metadata": {},
   "outputs": [
    {
     "name": "stdout",
     "output_type": "stream",
     "text": [
      "Detta skrivs alltid ut.\n"
     ]
    }
   ],
   "source": [
    "if True:\n",
    "\n",
    "    print('Detta skrivs alltid ut.')"
   ]
  },
  {
   "cell_type": "code",
   "execution_count": 59,
   "metadata": {},
   "outputs": [],
   "source": [
    "if False:\n",
    "\n",
    "    print('Detta skrivs aldrig ut.')"
   ]
  },
  {
   "cell_type": "code",
   "execution_count": null,
   "metadata": {},
   "outputs": [],
   "source": []
  }
 ],
 "metadata": {
  "kernelspec": {
   "display_name": "introduktion",
   "language": "python",
   "name": "python3"
  },
  "language_info": {
   "codemirror_mode": {
    "name": "ipython",
    "version": 3
   },
   "file_extension": ".py",
   "mimetype": "text/x-python",
   "name": "python",
   "nbconvert_exporter": "python",
   "pygments_lexer": "ipython3",
   "version": "3.12.4"
  }
 },
 "nbformat": 4,
 "nbformat_minor": 2
}
