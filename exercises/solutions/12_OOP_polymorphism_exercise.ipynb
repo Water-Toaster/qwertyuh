{
  "cells": [
    {
      "cell_type": "markdown",
      "metadata": {
        "colab_type": "text",
        "id": "view-in-github"
      },
      "source": [
        "<a href=\"https://colab.research.google.com/github/aleylani/Python-AI24/blob/main/exercises/solutions/12_OOP_polymorphism_exercise.ipynb\" target=\"_parent\"><img src=\"https://colab.research.google.com/assets/colab-badge.svg\" alt=\"Open In Colab\"/></a>"
      ]
    },
    {
      "cell_type": "markdown",
      "metadata": {
        "id": "IVncMQkYRamR"
      },
      "source": [
        "# OOP exercises - inheritance and polymorphism\n",
        "\n",
        "---\n",
        "These are introductory exercises in Python with focus in **Object oriented programming**.\n",
        "\n",
        "<p class = \"alert alert-info\" role=\"alert\"><b>Remember</b> to use <b>descriptive variable, function and class names</b> in order to get readable code </p>\n",
        "\n",
        "<p class = \"alert alert-info\" role=\"alert\"><b>Remember</b> to format your answers in a neat way using <b>f-strings</b></p>\n",
        "\n",
        "<p class = \"alert alert-info\" role=\"alert\"><b>Remember</b> to format your input questions in a pedagogical way to guide the user</p>\n",
        "\n",
        "<p class = \"alert alert-info\" role=\"alert\"><b>Remember</b> to write good docstrings for your methods and classes </p>\n",
        "\n",
        "The number of stars (\\*), (\\*\\*), (\\*\\*\\*) denotes the difficulty level of the task\n",
        "\n",
        "---"
      ]
    },
    {
      "cell_type": "markdown",
      "metadata": {
        "id": "0LmdhIcCRamT"
      },
      "source": [
        "## 1. Movie (*)\n",
        "\n",
        "Create a Movie class with the following functionality:\n",
        "\n",
        "It should be able to accept 4 arguments\n",
        "\n",
        "    name, genre, IMDB-rating, duration (in minutes)\n",
        "\n",
        "Use the following code to test your program.\n",
        "\n",
        "```python\n",
        "pokemon = Movie(\"Pokemon\", \"Cartoon\", 4.5, 94)\n",
        "titanic = Movie(\"Titanic\", \"Romance\", 4.7, 120)\n",
        "code = Movie(\"The Code\", \"Math\", 4, 82)\n",
        "\n",
        "```\n",
        "\n",
        "Now, create a method called info() that accomplishes the following\n",
        "\n",
        "    for i in [pokemon, titanic, code]:\n",
        "        print(i.info())\n",
        "        \n",
        "    Movie with title Pokemon, genre Cartoon, rating 4.5, duration 94 minutes\n",
        "\n",
        "    Movie with title Titanic, genre Romance, rating 4.7, duration 120 minutes\n",
        "\n",
        "    Movie with title The Code, genre Math and rating 4, duration 82 minutes\n",
        "```"
      ]
    },
    {
      "cell_type": "markdown",
      "metadata": {},
      "source": [
        "\n",
        "Additionally overload the + operator so that we can see how long any given combination of movies is. For example:\n",
        "\n",
        "    pokemon + titanic\n",
        "\n",
        "should yield\n",
        "\n",
        "    The movies Pokemon and Titanic, together, have a total playtime of 94 + 120 = 214 minutes."
      ]
    },
    {
      "cell_type": "markdown",
      "metadata": {},
      "source": [
        "Finally, implement type hints and make your attributes into @properties. \n",
        "\n",
        "Also define setters for the attributes. Make sure to implement checks for the attributes, so that they are of the expected type and format. "
      ]
    },
    {
      "cell_type": "code",
      "execution_count": 29,
      "metadata": {},
      "outputs": [],
      "source": [
        "class Movie:\n",
        "    \n",
        "    def __init__(self, name: str, genre:str , rating: int | float , duration: int):\n",
        "        \n",
        "        self.name = name\n",
        "        self.genre = genre\n",
        "        self.rating = rating\n",
        "        self.duration = duration\n",
        "\n",
        "    @property\n",
        "    def name(self):\n",
        "        return self.__name\n",
        "    \n",
        "    @property\n",
        "    def genre(self):\n",
        "        return self.__genre\n",
        "    \n",
        "    @property\n",
        "    def rating(self):\n",
        "        return self.__rating\n",
        "    \n",
        "    @property\n",
        "    def duration(self):\n",
        "        return self.__duration\n",
        "    \n",
        "    @name.setter\n",
        "    def name(self, name):\n",
        "\n",
        "        if isinstance(name, str):\n",
        "            self.__name = name\n",
        "        else:\n",
        "            raise TypeError(\"Name must be a string\")\n",
        "\n",
        "    @genre.setter\n",
        "    def genre(self, genre):\n",
        "\n",
        "        if isinstance(genre, str):\n",
        "            self.__genre = genre\n",
        "        else:\n",
        "            raise TypeError(\"Genre must be a string\")\n",
        "\n",
        "    @rating.setter\n",
        "    def rating(self, rating):\n",
        "\n",
        "        if not isinstance(rating, (int, float)):\n",
        "            raise TypeError(\"Rating must be an integer or float\")\n",
        "        \n",
        "        if not 0 <= rating <= 10:\n",
        "            raise ValueError(\"Rating must be between 0 and 10.\")\n",
        "        \n",
        "        self.__rating = rating\n",
        "\n",
        "    @duration.setter\n",
        "    def duration(self, duration):\n",
        "\n",
        "        if not isinstance(duration, int):\n",
        "            raise TypeError(\"Duration must be an integer.\")\n",
        "        \n",
        "        if duration < 0:\n",
        "            raise ValueError(\"Duration must be a positive integer.\")\n",
        "        \n",
        "        self.__duration = duration\n",
        "\n",
        "    def info(self) -> str:\n",
        "\n",
        "        return f\"Movie with title {self.name}, genre {self.genre}, rating {self.rating}, duration {self.duration} minutes.\"\n",
        "    \n",
        "    def __add__(self, other):\n",
        "        \n",
        "        return f\"The movies {self.name} and {other.name}, together, have a total playtime of {self.duration} + {other.duration} = {self.duration + other.duration} minutes.\"\n",
        "    \n",
        "    def __repr__(self):\n",
        "\n",
        "        return f\"Movie(name={self.name}, genre={self.genre}, rating={self.rating}, duration={self.duration})\""
      ]
    },
    {
      "cell_type": "code",
      "execution_count": 30,
      "metadata": {},
      "outputs": [],
      "source": [
        "pokemon = Movie(\"Pokemon\", \"Cartoon\", 4.5, 94)\n",
        "titanic = Movie(\"Titanic\", \"Romance\", 4.7, 120)\n",
        "code = Movie(\"The Code\", \"Math\", 4, 82)"
      ]
    },
    {
      "cell_type": "code",
      "execution_count": 32,
      "metadata": {},
      "outputs": [
        {
          "name": "stdout",
          "output_type": "stream",
          "text": [
            "Movie(name=Pokemon, genre=Cartoon, rating=4.5, duration=94)\n",
            "Movie(name=Titanic, genre=Romance, rating=4.7, duration=120)\n",
            "Movie(name=The Code, genre=Math, rating=4, duration=82)\n"
          ]
        }
      ],
      "source": [
        "print(pokemon)\n",
        "print(titanic)\n",
        "print(code)"
      ]
    },
    {
      "cell_type": "code",
      "execution_count": 19,
      "metadata": {},
      "outputs": [
        {
          "name": "stdout",
          "output_type": "stream",
          "text": [
            "Movie with title Pokemon, genre Cartoon, rating 4.5, duration 94 minutes.\n",
            "Movie with title Titanic, genre Romance, rating 4.7, duration 120 minutes.\n",
            "Movie with title The Code, genre Math, rating 4, duration 82 minutes.\n"
          ]
        }
      ],
      "source": [
        "for i in [pokemon, titanic, code]:\n",
        "        print(i.info())"
      ]
    },
    {
      "cell_type": "code",
      "execution_count": 20,
      "metadata": {},
      "outputs": [
        {
          "data": {
            "text/plain": [
              "'The movies Pokemon and Titanic, together, have a total playtime of 94 + 120 = 214 minutes.'"
            ]
          },
          "execution_count": 20,
          "metadata": {},
          "output_type": "execute_result"
        }
      ],
      "source": [
        "pokemon + titanic"
      ]
    },
    {
      "cell_type": "code",
      "execution_count": 22,
      "metadata": {},
      "outputs": [
        {
          "ename": "ValueError",
          "evalue": "Rating must be between 0 and 10.",
          "output_type": "error",
          "traceback": [
            "\u001b[1;31m---------------------------------------------------------------------------\u001b[0m",
            "\u001b[1;31mValueError\u001b[0m                                Traceback (most recent call last)",
            "Cell \u001b[1;32mIn[22], line 1\u001b[0m\n\u001b[1;32m----> 1\u001b[0m hereditary \u001b[38;5;241m=\u001b[39m Movie(\u001b[38;5;124m\"\u001b[39m\u001b[38;5;124mHereditary\u001b[39m\u001b[38;5;124m\"\u001b[39m, \u001b[38;5;124m\"\u001b[39m\u001b[38;5;124mHorror\u001b[39m\u001b[38;5;124m\"\u001b[39m, \u001b[38;5;241m-\u001b[39m\u001b[38;5;241m5\u001b[39m, \u001b[38;5;241m127\u001b[39m)\n",
            "Cell \u001b[1;32mIn[17], line 7\u001b[0m, in \u001b[0;36mMovie.__init__\u001b[1;34m(self, name, genre, rating, duration)\u001b[0m\n\u001b[0;32m      5\u001b[0m \u001b[38;5;28mself\u001b[39m\u001b[38;5;241m.\u001b[39mname \u001b[38;5;241m=\u001b[39m name\n\u001b[0;32m      6\u001b[0m \u001b[38;5;28mself\u001b[39m\u001b[38;5;241m.\u001b[39mgenre \u001b[38;5;241m=\u001b[39m genre\n\u001b[1;32m----> 7\u001b[0m \u001b[38;5;28mself\u001b[39m\u001b[38;5;241m.\u001b[39mrating \u001b[38;5;241m=\u001b[39m rating\n\u001b[0;32m      8\u001b[0m \u001b[38;5;28mself\u001b[39m\u001b[38;5;241m.\u001b[39mduration \u001b[38;5;241m=\u001b[39m duration\n",
            "Cell \u001b[1;32mIn[17], line 49\u001b[0m, in \u001b[0;36mMovie.rating\u001b[1;34m(self, rating)\u001b[0m\n\u001b[0;32m     46\u001b[0m     \u001b[38;5;28;01mraise\u001b[39;00m \u001b[38;5;167;01mTypeError\u001b[39;00m(\u001b[38;5;124m\"\u001b[39m\u001b[38;5;124mRating must be an integer or float\u001b[39m\u001b[38;5;124m\"\u001b[39m)\n\u001b[0;32m     48\u001b[0m \u001b[38;5;28;01mif\u001b[39;00m \u001b[38;5;129;01mnot\u001b[39;00m \u001b[38;5;241m0\u001b[39m \u001b[38;5;241m<\u001b[39m\u001b[38;5;241m=\u001b[39m rating \u001b[38;5;241m<\u001b[39m\u001b[38;5;241m=\u001b[39m \u001b[38;5;241m10\u001b[39m:\n\u001b[1;32m---> 49\u001b[0m     \u001b[38;5;28;01mraise\u001b[39;00m \u001b[38;5;167;01mValueError\u001b[39;00m(\u001b[38;5;124m\"\u001b[39m\u001b[38;5;124mRating must be between 0 and 10.\u001b[39m\u001b[38;5;124m\"\u001b[39m)\n\u001b[0;32m     51\u001b[0m \u001b[38;5;28mself\u001b[39m\u001b[38;5;241m.\u001b[39m__rating \u001b[38;5;241m=\u001b[39m rating\n",
            "\u001b[1;31mValueError\u001b[0m: Rating must be between 0 and 10."
          ]
        }
      ],
      "source": [
        "hereditary = Movie(\"Hereditary\", \"Horror\", -5, 127)"
      ]
    },
    {
      "cell_type": "code",
      "execution_count": null,
      "metadata": {},
      "outputs": [],
      "source": []
    },
    {
      "cell_type": "markdown",
      "metadata": {
        "id": "bRQQ_JfxRamT"
      },
      "source": [
        "---\n",
        "## 2. Fraction (**)\n",
        "\n",
        "Create a class called Frac to represent mathematical fractions. The class is instantiated with two instance variables: nominator and denominator. Objects instantiated from this class should have methods for addition, subtraction, multiplication, division using the operators +,-,*,/. Note that these implemented methods must be mathematically correct. Also implement the following methods:\n",
        "\n",
        "```python\n",
        "\n",
        "__repr__(self) # represent the fraction in an unambigious way when printing\n",
        "\n",
        "mixed(self) # represent the fraction in mixed terms\n",
        "\n",
        "__eq__(self, other) # checks equality by overloading ==\n",
        "\n",
        "simplify(self) # simplifies the fraction to its most simple form (with all common divisors removed) \n",
        "\n",
        "```\n",
        "\n",
        "Also remember to handle errors and validations.\n",
        "\n",
        "Example of tests that it should handled:\n",
        "\n",
        "- 1/2 + 1/3 = 5/6\n",
        "- 1/2 - 1/3 = 1/6\n",
        "- 7/6 --> 1 1/6 (mixed)\n",
        "- 3*1/2 = 3/2\n",
        "- 1/2 * 3 = 3/2\n",
        "- 1/4 + 2 = 9/4\n",
        "- 1/4 / 1/2 = 1/2\n",
        "- 2/4 == 1/2 --> True\n",
        "- 3/4 += 2 = 11/4\n",
        "\n",
        "</details>\n"
      ]
    }
  ],
  "metadata": {
    "colab": {
      "include_colab_link": true,
      "provenance": []
    },
    "kernelspec": {
      "display_name": "Python 3 (ipykernel)",
      "language": "python",
      "name": "python3"
    },
    "language_info": {
      "codemirror_mode": {
        "name": "ipython",
        "version": 3
      },
      "file_extension": ".py",
      "mimetype": "text/x-python",
      "name": "python",
      "nbconvert_exporter": "python",
      "pygments_lexer": "ipython3",
      "version": "3.12.4"
    },
    "vscode": {
      "interpreter": {
        "hash": "0da836a34428266995a795f1e1e27b816fa1c02f148d9728b3fbbbc5459afca6"
      }
    }
  },
  "nbformat": 4,
  "nbformat_minor": 0
}
