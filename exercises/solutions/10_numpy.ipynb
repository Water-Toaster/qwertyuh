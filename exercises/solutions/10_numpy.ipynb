{
  "cells": [
    {
      "cell_type": "markdown",
      "metadata": {
        "colab_type": "text",
        "id": "view-in-github"
      },
      "source": [
        "<a href=\"https://colab.research.google.com/github/aleylani/Python/blob/main/exercises/10_numpy.ipynb\" target=\"_parent\"><img src=\"https://colab.research.google.com/assets/colab-badge.svg\" alt=\"Open In Colab\"/></a>"
      ]
    },
    {
      "cell_type": "markdown",
      "metadata": {
        "id": "kOYYgGm6RJZG"
      },
      "source": [
        "# Numpy exercises\n",
        "\n",
        "---\n",
        "These are introductory exercises in Python with focus in **Numpy**.\n",
        "\n",
        "<p class = \"alert alert-info\" role=\"alert\"><b>Remember</b> to use <b>descriptive variable names</b> in order to get readable code </p>\n",
        "\n",
        "<p class = \"alert alert-info\" role=\"alert\"><b>Remember</b> to format your answers in a neat way using <b>f-strings</b>\n",
        "\n",
        "<p class = \"alert alert-info\" role=\"alert\"><b>Remember</b> to format your input questions in a pedagogical way to guide the user\n",
        "\n",
        "The number of stars (\\*), (\\*\\*), (\\*\\*\\*) denotes the difficulty level of the task\n",
        "\n",
        "---"
      ]
    },
    {
      "cell_type": "markdown",
      "metadata": {
        "id": "CKdkN00VRJZH"
      },
      "source": [
        "## 1. Dice simulations (*)\n",
        "\n",
        "Simulations of one die,  \n",
        "\n",
        "&nbsp; a) Calculate theoretical mean of a dice (six-sided) (*)\n",
        "\n",
        "&nbsp; b) Now do simulations of\n",
        "\n",
        "- 10\n",
        "- 100\n",
        "- 1000\n",
        "- 10000\n",
        "- 100000\n",
        "- 1000000\n",
        "- 10000000\n",
        "\n",
        "number of dices and plot their means. (*)\n",
        "\n",
        "<details>\n",
        "\n",
        "<summary>Answer </summary>\n",
        "\n",
        "a)\n",
        "```\n",
        "3.5\n",
        "```\n",
        "\n",
        "b)\n",
        "\n",
        "<img src=\"../assets/numpy_1b.png\" width = 300>\n",
        "\n",
        "</details>\n",
        "\n",
        "\n"
      ]
    },
    {
      "cell_type": "code",
      "execution_count": 1,
      "metadata": {},
      "outputs": [
        {
          "name": "stdout",
          "output_type": "stream",
          "text": [
            "Theoretical mean of a fair six-sided die: 3.5\n",
            "Mean for 10 dice rolls: 3.9\n",
            "Mean for 100 dice rolls: 3.68\n",
            "Mean for 1000 dice rolls: 3.449\n",
            "Mean for 10000 dice rolls: 3.4845\n",
            "Mean for 100000 dice rolls: 3.50654\n",
            "Mean for 1000000 dice rolls: 3.499783\n",
            "Mean for 10000000 dice rolls: 3.4994632\n"
          ]
        }
      ],
      "source": [
        "import numpy as np\n",
        "import matplotlib.pyplot as plt\n",
        "\n",
        "# Step 1: Theoretical mean\n",
        "theoretical_mean = np.mean([1, 2, 3, 4, 5, 6])\n",
        "print(f\"Theoretical mean of a fair six-sided die: {theoretical_mean}\")\n",
        "\n",
        "# Step 2: Simulations for different number of dice\n",
        "num_dice = [10, 100, 1000, 10000, 100000, 1000000, 10000000]\n",
        "simulated_means = []\n",
        "\n",
        "for n in num_dice:\n",
        "    rolls = np.random.randint(1, 7, size=n)  # Simulate n dice rolls\n",
        "    mean_roll = np.mean(rolls)               # Calculate the mean of the rolls\n",
        "    simulated_means.append(mean_roll)\n",
        "    print(f\"Mean for {n} dice rolls: {mean_roll}\")"
      ]
    },
    {
      "cell_type": "markdown",
      "metadata": {
        "id": "eVDKE8kPRJZH"
      },
      "source": [
        "---\n",
        "## 2. Several dices (**)\n",
        "\n",
        "&nbsp; a) Make a sample space for the sum of two dices, i.e. all possible outcomes of these dices. (*)\n",
        "\n",
        "&nbsp; b) Count the number of each values in the sample space (*)\n",
        "\n",
        "&nbsp; c) Now calculate the frequency $f_i$ for each unique value. Also check that the sum of frequencies sums to 1, i.e. $\\sum_i f_i = 1$. (*)\n",
        "\n",
        "&nbsp; d) Make a bar chart of the sum of two dices, with frequencies in y and unique values in x. This is a probability distribution of the sum of your two dices. (*)\n",
        "\n",
        "&nbsp; e) Now make barplots in subplots of sum of dices for 1 dice, 2 dices, 3 dices and 4 dices. What is the pattern that you see? (**)\n",
        "\n",
        "<details>\n",
        "\n",
        "<summary>Hint</summary>\n",
        "\n",
        "a)\n",
        "\n",
        "Here are some potentially useful methods:\n",
        "\n",
        "```py\n",
        "\n",
        "np.meshgrid(), np.add.reduce(), np.unique()\n",
        "\n",
        "```\n",
        "\n",
        "c)\n",
        "\n",
        "Divide by the total number of outcomes\n",
        "\n",
        "\n",
        "</details>\n",
        "\n",
        "<details>\n",
        "\n",
        "<summary>Answer</summary>\n",
        "\n",
        "\n",
        "a)\n",
        "\n",
        "Sample space\n",
        "\n",
        "```\n",
        "[[ 2  3  4  5  6  7]\n",
        " [ 3  4  5  6  7  8]\n",
        " [ 4  5  6  7  8  9]\n",
        " [ 5  6  7  8  9 10]\n",
        " [ 6  7  8  9 10 11]\n",
        " [ 7  8  9 10 11 12]]\n",
        "```\n",
        "\n",
        "b)\n",
        "\n",
        "Unique values:\n",
        "```\n",
        "[ 2  3  4  5  6  7  8  9 10 11 12]\n",
        "```\n",
        "\n",
        "Count:\n",
        "```\n",
        "[1 2 3 4 5 6 5 4 3 2 1]\n",
        "```\n",
        "\n",
        "c)\n",
        "\n",
        "```\n",
        "[0.028 0.056 0.083 0.111 0.139 0.167 0.139 0.111 0.083 0.056 0.028]\n",
        "```\n",
        "\n",
        "d)\n",
        "\n",
        "\n",
        "<img src=\"../assets/numpy2d.png\" width = 300>\n",
        "\n",
        "\n",
        "e)\n",
        "\n",
        "<img src=\"../assets/numpy2e.png\" width = 500>\n",
        "\n",
        "\n",
        "We see that when we sum several uniformly distributed random variables we will approach the normal distribution. This is called the central limit theorem, which we will come back to in the statistics course.\n",
        "\n",
        "</details>"
      ]
    }
  ],
  "metadata": {
    "colab": {
      "include_colab_link": true,
      "provenance": []
    },
    "kernelspec": {
      "display_name": "Python 3 (ipykernel)",
      "language": "python",
      "name": "python3"
    },
    "language_info": {
      "codemirror_mode": {
        "name": "ipython",
        "version": 3
      },
      "file_extension": ".py",
      "mimetype": "text/x-python",
      "name": "python",
      "nbconvert_exporter": "python",
      "pygments_lexer": "ipython3",
      "version": "3.12.4"
    },
    "vscode": {
      "interpreter": {
        "hash": "7e1998ff7f8aa20ada591c520b972326324e5ea05489af9e422744c7c09f6dad"
      }
    }
  },
  "nbformat": 4,
  "nbformat_minor": 0
}
